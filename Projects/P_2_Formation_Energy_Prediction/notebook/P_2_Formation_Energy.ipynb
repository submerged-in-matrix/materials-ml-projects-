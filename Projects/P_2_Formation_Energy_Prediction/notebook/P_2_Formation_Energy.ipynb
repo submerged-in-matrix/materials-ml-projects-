{
 "cells": [
  {
   "cell_type": "markdown",
   "id": "1caa57cd",
   "metadata": {},
   "source": [
    "# Required Libraries"
   ]
  },
  {
   "cell_type": "code",
   "execution_count": 1,
   "id": "e1062663",
   "metadata": {},
   "outputs": [],
   "source": [
    "import pandas as pd\n",
    "import numpy as np\n",
    "import shap\n",
    "import matplotlib.pyplot as plt\n",
    "from mp_api.client import MPRester\n",
    "\n",
    "from pymatgen.core.composition import Composition\n",
    "from matminer.featurizers.composition import ElementProperty\n",
    "from matminer.featurizers.structure import DensityFeatures, GlobalSymmetryFeatures\n",
    "from pymatgen.core import Structure\n",
    "\n",
    "from pycaret.regression import setup, compare_models, tune_model, finalize_model, predict_model, save_model, load_model\n",
    "import xgboost as xgb\n",
    "import joblib"
   ]
  },
  {
   "cell_type": "markdown",
   "id": "c8a7720b",
   "metadata": {},
   "source": [
    "# Data Scrapping"
   ]
  },
  {
   "cell_type": "code",
   "execution_count": 2,
   "id": "89e1d244",
   "metadata": {},
   "outputs": [
    {
     "data": {
      "application/vnd.jupyter.widget-view+json": {
       "model_id": "d686657fbbdb4c6ab52eea9278006992",
       "version_major": 2,
       "version_minor": 0
      },
      "text/plain": [
       "Retrieving SummaryDoc documents:   0%|          | 0/4500 [00:00<?, ?it/s]"
      ]
     },
     "metadata": {},
     "output_type": "display_data"
    },
    {
     "name": "stdout",
     "output_type": "stream",
     "text": [
      "Retrieved 4500 Materials with their desired properties.\n"
     ]
    }
   ],
   "source": [
    "# 🔑 3. Fetch Data from Materials Project\n",
    "API_KEY = '2yqf6FmGq648PC6a4JaNk1jXd5G5LyKo'  # Replace with your Materials Project API key\n",
    "mpr = MPRester(API_KEY)\n",
    "\n",
    "# Fetching materials data with specific properties\n",
    "with MPRester(API_KEY) as mpr:\n",
    "        entries = mpr.materials.summary.search(\n",
    "        fields=['formula_pretty', 'formation_energy_per_atom', 'structure'],\n",
    "        num_chunks=9,\n",
    "        #num_chunks=None\n",
    "        chunk_size=500\n",
    "        )\n",
    "\n",
    "print(f\"Retrieved {len(entries)} Materials with their desired properties.\")"
   ]
  },
  {
   "cell_type": "code",
   "execution_count": 3,
   "id": "0f43e2bb",
   "metadata": {},
   "outputs": [
    {
     "name": "stdout",
     "output_type": "stream",
     "text": [
      "{'builder_meta': None, 'nsites': None, 'elements': None, 'nelements': None, 'composition': None, 'composition_reduced': None, 'formula_pretty': 'O2', 'formula_anonymous': None, 'chemsys': None, 'volume': None, 'density': None, 'density_atomic': None, 'symmetry': None, 'property_name': None, 'material_id': None, 'deprecated': None, 'deprecation_reasons': None, 'last_updated': None, 'origins': None, 'warnings': None, 'structure': Structure Summary\n",
      "Lattice\n",
      "    abc : 5.160296 5.2402447696794665 5.89021299170463\n",
      " angles : 90.23517285321574 90.49680784381113 90.25713099844408\n",
      " volume : 159.2695518855733\n",
      "      A : 5.160296 0.0 0.0\n",
      "      B : -0.023517 5.240192 0.0\n",
      "      C : -0.051073 -0.024406 5.889941\n",
      "    pbc : True True True\n",
      "PeriodicSite: O (4.4080, 2.5940, 5.8225) [0.8663, 0.4996, 0.9886]\n",
      "PeriodicSite: O (0.4295, 2.2106, 5.7774) [0.0949, 0.4264, 0.9809]\n",
      "PeriodicSite: O (1.8839, 5.1653, 3.0112) [0.3746, 0.9881, 0.5112]\n",
      "PeriodicSite: O (3.0761, 0.3396, 3.0839) [0.6016, 0.0672, 0.5236]\n",
      "PeriodicSite: O (2.5640, 4.5633, 0.0876) [0.5010, 0.8709, 0.0149]\n",
      "PeriodicSite: O (2.2015, 0.5036, 0.1107) [0.4272, 0.0962, 0.0188]\n",
      "PeriodicSite: O (4.7429, 2.1596, 2.8439) [0.9258, 0.4144, 0.4828]\n",
      "PeriodicSite: O (5.0504, 3.3623, 2.8683) [0.9865, 0.6439, 0.4870]\n",
      "PeriodicSite: O (3.1178, 1.9707, 2.9482) [0.6109, 0.3784, 0.5005]\n",
      "PeriodicSite: O (0.5208, 0.5778, 5.8410) [0.1113, 0.1149, 0.9917], 'task_ids': None, 'uncorrected_energy_per_atom': None, 'energy_per_atom': None, 'formation_energy_per_atom': 0.38701357200000003, 'energy_above_hull': None, 'is_stable': None, 'equilibrium_reaction_energy_per_atom': None, 'decomposes_to': None, 'xas': None, 'grain_boundaries': None, 'band_gap': None, 'cbm': None, 'vbm': None, 'efermi': None, 'is_gap_direct': None, 'is_metal': None, 'es_source_calc_id': None, 'bandstructure': None, 'dos': None, 'dos_energy_up': None, 'dos_energy_down': None, 'is_magnetic': None, 'ordering': None, 'total_magnetization': None, 'total_magnetization_normalized_vol': None, 'total_magnetization_normalized_formula_units': None, 'num_magnetic_sites': None, 'num_unique_magnetic_sites': None, 'types_of_magnetic_species': None, 'bulk_modulus': None, 'shear_modulus': None, 'universal_anisotropy': None, 'homogeneous_poisson': None, 'e_total': None, 'e_ionic': None, 'e_electronic': None, 'n': None, 'e_ij_max': None, 'weighted_surface_energy_EV_PER_ANG2': None, 'weighted_surface_energy': None, 'weighted_work_function': None, 'surface_anisotropy': None, 'shape_factor': None, 'has_reconstructed': None, 'possible_species': None, 'has_props': None, 'theoretical': None, 'database_IDs': None, 'fields_not_requested': ['builder_meta', 'nsites', 'elements', 'nelements', 'composition', 'composition_reduced', 'formula_anonymous', 'chemsys', 'volume', 'density', 'density_atomic', 'symmetry', 'property_name', 'material_id', 'deprecated', 'deprecation_reasons', 'last_updated', 'origins', 'warnings', 'task_ids', 'uncorrected_energy_per_atom', 'energy_per_atom', 'energy_above_hull', 'is_stable', 'equilibrium_reaction_energy_per_atom', 'decomposes_to', 'xas', 'grain_boundaries', 'band_gap', 'cbm', 'vbm', 'efermi', 'is_gap_direct', 'is_metal', 'es_source_calc_id', 'bandstructure', 'dos', 'dos_energy_up', 'dos_energy_down', 'is_magnetic', 'ordering', 'total_magnetization', 'total_magnetization_normalized_vol', 'total_magnetization_normalized_formula_units', 'num_magnetic_sites', 'num_unique_magnetic_sites', 'types_of_magnetic_species', 'bulk_modulus', 'shear_modulus', 'universal_anisotropy', 'homogeneous_poisson', 'e_total', 'e_ionic', 'e_electronic', 'n', 'e_ij_max', 'weighted_surface_energy_EV_PER_ANG2', 'weighted_surface_energy', 'weighted_work_function', 'surface_anisotropy', 'shape_factor', 'has_reconstructed', 'possible_species', 'has_props', 'theoretical', 'database_IDs']}\n"
     ]
    }
   ],
   "source": [
    "print(entries[0].model_dump())"
   ]
  },
  {
   "cell_type": "code",
   "execution_count": 4,
   "id": "f6b91e5e",
   "metadata": {},
   "outputs": [],
   "source": [
    "# --- Step 3: Convert to DataFrame for analysis ---\n",
    "# Each entry is a SummaryDoc Object; convert to rows\n",
    "data = []\n",
    "for i in entries:\n",
    "    data.append({\n",
    "        \n",
    "        \"formula\": i.formula_pretty,\n",
    "        \"structure\": i.structure,\n",
    "        \"formation_energy_per_atom\": i.formation_energy_per_atom,\n",
    "    })\n",
    "\n",
    "df = pd.DataFrame(data)\n",
    "df.to_csv(\"Formation Energy Data.csv\", index=False)"
   ]
  },
  {
   "cell_type": "code",
   "execution_count": 5,
   "id": "412980b0",
   "metadata": {},
   "outputs": [
    {
     "data": {
      "application/vnd.microsoft.datawrangler.viewer.v0+json": {
       "columns": [
        {
         "name": "index",
         "rawType": "int64",
         "type": "integer"
        },
        {
         "name": "formula",
         "rawType": "object",
         "type": "string"
        },
        {
         "name": "structure",
         "rawType": "object",
         "type": "unknown"
        },
        {
         "name": "formation_energy_per_atom",
         "rawType": "float64",
         "type": "float"
        }
       ],
       "ref": "651572b8-7676-4636-9df4-9fd703c0085c",
       "rows": [
        [
         "0",
         "O2",
         "Full Formula (O10)\nReduced Formula: O2\nabc   :   5.160296   5.240245   5.890213\nangles:  90.235173  90.496808  90.257131\npbc   :       True       True       True\nSites (10)\n  #  SP           a         b         c    magmom\n---  ----  --------  --------  --------  --------\n  0  O     0.866281  0.499618  0.98855      0.445\n  1  O     0.094882  0.426418  0.980897     0.355\n  2  O     0.374634  0.988089  0.511237     0.445\n  3  O     0.601607  0.067239  0.523596     0.356\n  4  O     0.500982  0.870895  0.014881     0.445\n  5  O     0.42724   0.096182  0.018788     0.358\n  6  O     0.925787  0.414374  0.482834     0.358\n  7  O     0.986453  0.643905  0.486987     0.445\n  8  O     0.610868  0.378399  0.500543     0.046\n  9  O     0.111266  0.114881  0.991685     0.047",
         "0.38701357200000003"
        ],
        [
         "1",
         "C",
         "Full Formula (C100)\nReduced Formula: C\nabc   :  10.681308  10.747704  10.427216\nangles:  95.115986  86.774433  89.891645\npbc   :       True       True       True\nSites (100)\n  #  SP           a         b         c    magmom\n---  ----  --------  --------  --------  --------\n  0  C     0.702196  0.589171  0.071799     0.002\n  1  C     0.76746   0.916671  0.898162     0.002\n  2  C     0.520835  0.607691  0.769295    -0.003\n  3  C     0.019672  0.660022  0.221917     0.001\n  4  C     0.020399  0.516714  0.543864     0\n  5  C     0.113525  0.533171  0.448133     0.003\n  6  C     0.782043  0.427325  0.36117      0.003\n  7  C     0.115028  0.084909  0.851911     0.001\n  8  C     0.354379  0.273765  0.687861    -0.011\n  9  C     0.132614  0.971385  0.829185    -0.001\n 10  C     0.406379  0.565725  0.850047     0\n 11  C     0.019124  0.415868  0.752921    -0.003\n 12  C     0.363863  0.608332  0.080727     0.005\n 13  C     0.459395  0.046887  0.505807     0.06\n 14  C     0.7618    0.039833  0.86842      0.002\n 15  C     0.720527  0.335708  0.288976     0.058\n 16  C     0.144283  0.746557  0.048066     0.008\n 17  C     0.231102  0.803948  0.95827      0\n 18  C     0.090123  0.50404   0.670205     0.009\n 19  C     0.109082  0.976179  0.109517     0.004\n 20  C     0.228348  0.682134  0.655826     0.147\n 21  C     0.776488  0.363297  0.785772    -0.004\n 22  C     0.704988  0.255703  0.793188     0.004\n 23  C     0.40701   0.191962  0.218213     0.015\n 24  C     0.023347  0.198019  0.646223     0\n 25  C     0.941611  0.704037  0.87422      0.002\n 26  C     0.896316  0.498837  0.349688     0.004\n 27  C     0.192781  0.284141  0.938651    -0.003\n 28  C     0.756674  0.875431  0.01957     -0.001\n 29  C     0.550538  0.519124  0.443429     0.007\n 30  C     0.450755  0.461534  0.378664    -0.004\n 31  C     0.525067  0.605205  0.922271     0.015\n 32  C     0.284761  0.292367  0.037738     0.004\n 33  C     0.063088  0.730336  0.813732     0.022\n 34  C     0.574442  0.559883  0.045293     0.002\n 35  C     0.968674  0.778148  0.267151     0.003\n 36  C     0.737162  0.805727  0.109162     0.003\n 37  C     0.751657  0.141844  0.826556     0.001\n 38  C     0.472656  0.983724  0.114346     0.032\n 39  C     0.962259  0.560402  0.266078     0.006\n 40  C     0.789564  0.034574  0.372854     0.05\n 41  C     0.654077  0.682368  0.293993     0.006\n 42  C     0.466985  0.552495  0.135016     0.008\n 43  C     0.755028  0.813055  0.794913     0.005\n 44  C     0.579404  0.017218  0.471965     0.026\n 45  C     0.401806  0.666516  0.963094    -0.001\n 46  C     0.275346  0.349313  0.518641    -0.045\n 47  C     0.913846  0.65191   0.985793     0.019\n 48  C     0.635985  0.492516  0.553664     0.007\n 49  C     0.19976   0.527896  0.365559     0.001\n 50  C     0.108182  0.869395  0.021982     0.004\n 51  C     0.939502  0.884087  0.309842     0.005\n 52  C     0.368163  0.353917  0.416223     0.021\n 53  C     0.018993  0.080499  0.416608     0.012\n 54  C     0.109817  0.216517  0.862195    -0.002\n 55  C     0.396255  0.22758   0.358511    -0.066\n 56  C     0.273517  0.387862  0.946048    -0.005\n 57  C     0.820053  0.703694  0.814604     0\n 58  C     0.901165  0.505001  0.496537     0.002\n 59  C     0.251919  0.048946  0.415122     0.196\n 60  C     0.283639  0.536313  0.26205      0.006\n 61  C     0.137675  0.663713  0.138711     0\n 62  C     0.703616  0.701294  0.170024    -0.002\n 63  C     0.265949  0.929588  0.44066     -0.059\n 64  C     0.323806  0.457774  0.849778     0.003\n 65  C     0.274159  0.749123  0.575097    -0.044\n 66  C     0.011798  0.139049  0.542033     0\n 67  C     0.576433  0.253511  0.770274    -0.011\n 68  C     0.54632   0.854739  0.653403     0.072\n 69  C     0.770642  0.578463  0.843555     0.003\n 70  C     0.607565  0.120605  0.270629     0.095\n 71  C     0.500492  0.087578  0.191358    -0.023\n 72  C     0.659725  0.238556  0.269489    -0.018\n 73  C     0.029653  0.275797  0.765844     0\n 74  C     0.540372  0.73521   0.713873     0.099\n 75  C     0.644697  0.808339  0.724191     0.017\n 76  C     0.123416  0.642078  0.727267    -0.011\n 77  C     0.288928  0.828643  0.486564     0.169\n 78  C     0.134283  0.069764  0.346157    -0.007\n 79  C     0.131731  0.028124  0.215355     0.008\n 80  C     0.251537  0.599181  0.153239     0.005\n 81  C     0.801719  0.583104  0.978278     0.002\n 82  C     0.413939  0.509333  0.257974     0.008\n 83  C     0.314289  0.23149   0.5677       0.029\n 84  C     0.763894  0.464518  0.496066     0.008\n 85  C     0.42542   0.896895  0.042948    -0.013\n 86  C     0.617128  0.517543  0.687098     0.002\n 87  C     0.604545  0.614347  0.371356    -0.002\n 88  C     0.130259  0.847649  0.872974     0.004\n 89  C     0.521673  0.9501    0.573167     0.143\n 90  C     0.666535  0.046951  0.368625    -0.017\n 91  C     0.223736  0.435823  0.63017     -0.005\n 92  C     0.912256  0.362978  0.79         0.003\n 93  C     0.358421  0.134665  0.462494    -0.008\n 94  C     0.717815  0.484191  0.768747    -0\n 95  C     0.36541   0.804249  0.975335     0.038\n 96  C     0.343075  0.245537  0.13013     -0.028\n 97  C     0.295243  0.397716  0.724953     0.002\n 98  C     0.467012  0.243549  0.740035     0.005\n 99  C     0.910627  0.007101  0.364217    -0.004",
         "0.9942529476999991"
        ],
        [
         "2",
         "Ti",
         "Full Formula (Ti100)\nReduced Formula: Ti\nabc   :  12.217542  11.626679  12.310471\nangles:  89.320635  93.287461  87.767162\npbc   :       True       True       True\nSites (100)\n  #  SP           a         b         c    magmom\n---  ----  --------  --------  --------  --------\n  0  Ti    0.176446  0.109196  0.735901     0.003\n  1  Ti    0.685781  0.730088  0.972509    -0.012\n  2  Ti    0.295462  0.643981  0.201886     0.007\n  3  Ti    0.49489   0.467444  0.240308    -0.004\n  4  Ti    0.454192  0.174004  0.714589     0.044\n  5  Ti    0.518019  0.697492  0.18398      0.016\n  6  Ti    0.398817  0.433365  0.803229     0.013\n  7  Ti    0.172436  0.528979  0.788969     0.01\n  8  Ti    0.976687  0.702892  0.841245     0.03\n  9  Ti    0.687589  0.832643  0.231795     0.044\n 10  Ti    0.168511  0.23575   0.31595      0.031\n 11  Ti    0.897953  0.774562  0.631825     0.004\n 12  Ti    0.042823  0.805823  0.454933     0.009\n 13  Ti    0.434954  0.34515   0.568799     0.024\n 14  Ti    0.358634  0.775654  0.575102     0.004\n 15  Ti    0.407629  0.271278  0.328051     0.019\n 16  Ti    0.908418  0.997875  0.405614     0.043\n 17  Ti    0.318937  0.214075  0.882107     0.008\n 18  Ti    0.345735  0.679017  0.789108    -0.001\n 19  Ti    0.765131  0.198497  0.462103     0.011\n 20  Ti    0.78979   0.112296  0.169245    -0.006\n 21  Ti    0.763529  0.620709  0.17415      0.03\n 22  Ti    0.366506  0.943171  0.779425     0.008\n 23  Ti    0.112975  0.808471  0.232877    -0.001\n 24  Ti    0.030863  0.072281  0.170685     0.013\n 25  Ti    0.549845  0.163863  0.478974     0.004\n 26  Ti    0.676718  0.026621  0.34283      0.015\n 27  Ti    0.72951   0.924114  0.537746     0.009\n 28  Ti    0.610882  0.511496  0.066948     0.024\n 29  Ti    0.004804  0.592644  0.519362     0.002\n 30  Ti    0.174129  0.65354   0.978086     0.038\n 31  Ti    0.1142    0.94582   0.625448     0.034\n 32  Ti    0.791704  0.520263  0.96762      0.008\n 33  Ti    0.085989  0.298962  0.108754     0.012\n 34  Ti    0.40054   0.577781  0.002914     0.034\n 35  Ti    0.282622  0.431282  0.414051     0.007\n 36  Ti    0.253806  0.55728   0.590058     0.029\n 37  Ti    0.793455  0.754378  0.420817     0.045\n 38  Ti    0.478128  0.568301  0.623634     0.03\n 39  Ti    0.524096  0.142343  0.98496      0.005\n 40  Ti    0.87146   0.406259  0.162322     0.031\n 41  Ti    0.307129  0.826176  0.349713     0.003\n 42  Ti    0.654529  0.961863  0.050887     0.012\n 43  Ti    0.899014  0.731218  0.041469     0.015\n 44  Ti    0.589168  0.318048  0.863523     0.039\n 45  Ti    0.480526  0.810618  0.960946     0.009\n 46  Ti    0.042789  0.159436  0.532883     0.009\n 47  Ti    0.292154  0.818578  0.064077     0.008\n 48  Ti    0.684769  0.173418  0.670648     0.01\n 49  Ti    0.650842  0.595402  0.355963     0.005\n 50  Ti    0.773221  0.619777  0.766647     0.024\n 51  Ti    0.943611  0.149923  0.779185     0.022\n 52  Ti    0.249266  0.32329   0.682919     0.005\n 53  Ti    0.989614  0.927403  0.809679     0.07\n 54  Ti    0.5333    0.139256  0.197681     0.029\n 55  Ti    0.746042  0.125262  0.886027     0.015\n 56  Ti    0.603737  0.40309   0.455173     0.01\n 57  Ti    0.172882  0.634132  0.379458     0.009\n 58  Ti    0.81705   0.348916  0.818323     0.013\n 59  Ti    0.54828   0.978986  0.618674    -0.001\n 60  Ti    0.329989  0.012308  0.582524     0.011\n 61  Ti    0.539528  0.785738  0.743692     0.006\n 62  Ti    0.785946  0.537541  0.551494     0.001\n 63  Ti    0.762581  0.882531  0.784941     0.029\n 64  Ti    0.192169  0.859113  0.848908     0.002\n 65  Ti    0.922713  0.230739  0.992947     0.031\n 66  Ti    0.085339  0.376964  0.521409     0.023\n 67  Ti    0.074685  0.873278  0.028135    -0.007\n 68  Ti    0.462694  0.918566  0.18977     -0.009\n 69  Ti    0.301598  0.204634  0.11166      0.004\n 70  Ti    0.5752    0.569627  0.845061     0.02\n 71  Ti    0.350774  0.010474  0.995318     0.023\n 72  Ti    0.870379  0.312565  0.608157     0.058\n 73  Ti    0.874664  0.038956  0.623557     0.025\n 74  Ti    0.233819  0.410627  0.972025     0.01\n 75  Ti    0.640646  0.405043  0.673574     0.007\n 76  Ti    0.430199  0.611738  0.399823     0.012\n 77  Ti    0.00705   0.480171  0.939207    -0.006\n 78  Ti    0.87465   0.971616  0.999189     0.006\n 79  Ti    0.535309  0.832762  0.421996    -0.003\n 80  Ti    0.127622  0.728947  0.666008     0.007\n 81  Ti    0.899157  0.88823   0.211554     0.001\n 82  Ti    0.572961  0.997512  0.836452     0.009\n 83  Ti    0.144222  0.006291  0.387713     0.009\n 84  Ti    0.843525  0.43454   0.386852    -0.005\n 85  Ti    0.07171   0.305305  0.826412     0.003\n 86  Ti    0.459004  0.34489   0.053311     0.001\n 87  Ti    0.053884  0.579156  0.139126     0.003\n 88  Ti    0.937281  0.651814  0.309423     0.02\n 89  Ti    0.931998  0.227356  0.318476     0.001\n 90  Ti    0.697115  0.289094  0.047131     0.011\n 91  Ti    0.651137  0.703976  0.577906     0.002\n 92  Ti    0.680627  0.308615  0.270711     0.061\n 93  Ti    0.126102  0.093986  0.960364     0.015\n 94  Ti    0.253979  0.420745  0.191554    -0.001\n 95  Ti    0.056456  0.438923  0.30346      0.019\n 96  Ti    0.271271  0.20385   0.498007     0.001\n 97  Ti    0.397319  0.036992  0.378256     0.012\n 98  Ti    0.246852  0.012612  0.204361     0.009\n 99  Ti    0.966372  0.497405  0.71435      0.04",
         "0.141383983866667"
        ],
        [
         "3",
         "Si",
         "Full Formula (Si100)\nReduced Formula: Si\nabc   :  12.539835  12.336424  12.537087\nangles:  77.158581 101.537034 106.471952\npbc   :       True       True       True\nSites (100)\n  #  SP           a         b         c    magmom\n---  ----  --------  --------  --------  --------\n  0  Si    0.087527  0.219204  0.418405         0\n  1  Si    0.123744  0.760885  0.345439        -0\n  2  Si    0.698029  0.271987  0.377192         0\n  3  Si    0.699869  0.017957  0.318968        -0\n  4  Si    0.051784  0.032411  0.57618         -0\n  5  Si    0.270331  0.502552  0.341587         0\n  6  Si    0.866583  0.913924  0.734059         0\n  7  Si    0.798756  0.805528  0.496951         0\n  8  Si    0.430632  0.357973  0.518096         0\n  9  Si    0.411735  0.505295  0.616779        -0\n 10  Si    0.592646  0.300217  0.616755         0\n 11  Si    0.14629   0.607776  0.559287        -0\n 12  Si    0.597438  0.946999  0.044972        -0\n 13  Si    0.72115   0.058314  0.621902         0\n 14  Si    0.488975  0.294664  0.877119        -0\n 15  Si    0.86663   0.198443  0.18845          0\n 16  Si    0.327673  0.074702  0.695273         0\n 17  Si    0.565131  0.267866  0.092292        -0\n 18  Si    0.434364  0.857172  0.270596        -0\n 19  Si    0.227873  0.493428  0.992443         0\n 20  Si    0.610235  0.575108  0.616468         0\n 21  Si    0.529825  0.77533   0.18154          0\n 22  Si    0.44856   0.003356  0.479942        -0\n 23  Si    0.726616  0.592429  0.481293         0\n 24  Si    0.506739  0.173206  0.333624        -0\n 25  Si    0.852873  0.007297  0.53338         -0\n 26  Si    0.022688  0.557479  0.152499        -0\n 27  Si    0.361053  0.281229  0.704309         0\n 28  Si    0.909917  0.38475   0.073738         0\n 29  Si    0.201922  0.446727  0.521964        -0\n 30  Si    0.73899   0.393778  0.513309        -0\n 31  Si    0.597355  0.630356  0.319117        -0\n 32  Si    0.628111  0.774797  0.574139         0\n 33  Si    0.006545  0.834217  0.187248         0\n 34  Si    0.919786  0.587521  0.794831         0\n 35  Si    0.188947  0.324891  0.709367        -0\n 36  Si    0.971621  0.784064  0.712241        -0\n 37  Si    0.677931  0.587787  0.186437        -0\n 38  Si    0.663774  0.862258  0.730648         0\n 39  Si    0.805486  0.773158  0.170723        -0\n 40  Si    0.374444  0.137731  0.995004         0\n 41  Si    0.560178  0.905844  0.428439         0\n 42  Si    0.229581  0.879195  0.072107        -0\n 43  Si    0.224186  0.045953  0.51696          0\n 44  Si    0.20971   0.67341   0.123565         0\n 45  Si    0.280714  0.702937  0.323217        -0\n 46  Si    0.782478  0.872887  0.304435         0\n 47  Si    0.655759  0.316225  0.805924        -0\n 48  Si    0.937643  0.971736  0.913315         0\n 49  Si    0.003756  0.357206  0.462932         0\n 50  Si    0.592922  0.998515  0.808427         0\n 51  Si    0.251132  0.937115  0.397289        -0\n 52  Si    0.532271  0.101755  0.63192          0\n 53  Si    0.866724  0.178911  0.72769          0\n 54  Si    0.18756   0.512156  0.746411        -0\n 55  Si    0.731582  0.420413  0.054061         0\n 56  Si    0.984209  0.933175  0.327459         0\n 57  Si    0.982216  0.308332  0.954562         0\n 58  Si    0.126676  0.634322  0.933336        -0\n 59  Si    0.74185   0.603323  0.940599         0\n 60  Si    0.400529  0.822217  0.635747        -0\n 61  Si    0.399088  0.955374  0.986285        -0\n 62  Si    0.842703  0.178125  0.387301         0\n 63  Si    0.722349  0.51947   0.784047         0\n 64  Si    0.000142  0.4419    0.779155         0\n 65  Si    0.048006  0.034688  0.097704        -0\n 66  Si    0.082378  0.870789  0.914797        -0\n 67  Si    0.44254   0.72758   0.903407        -0\n 68  Si    0.948588  0.508837  0.32413          0\n 69  Si    0.141953  0.035747  0.764102        -0\n 70  Si    0.452724  0.337364  0.212355        -0\n 71  Si    0.058131  0.167223  0.812039        -0\n 72  Si    0.377564  0.899321  0.811413         0\n 73  Si    0.745962  0.162165  0.858152        -0\n 74  Si    0.502099  0.513133  0.082043         0\n 75  Si    0.034896  0.131417  0.253221         0\n 76  Si    0.34629   0.673787  0.521909         0\n 77  Si    0.659746  0.111955  0.134351        -0\n 78  Si    0.762359  0.434348  0.244182         0\n 79  Si    0.140221  0.322557  0.10338          0\n 80  Si    0.2847    0.380267  0.896476         0\n 81  Si    0.006768  0.833039  0.520574         0\n 82  Si    0.384973  0.608619  0.7631           0\n 83  Si    0.195226  0.800105  0.600932        -0\n 84  Si    0.763549  0.896963  0.003778        -0\n 85  Si    0.953811  0.671221  0.972723         0\n 86  Si    0.439216  0.055826  0.191433         0\n 87  Si    0.281144  0.235658  0.415353        -0\n 88  Si    0.38505   0.636834  0.079814         0\n 89  Si    0.192314  0.188636  0.98517          0\n 90  Si    0.238864  0.022601  0.201201         0\n 91  Si    0.268804  0.221757  0.223167         0\n 92  Si    0.642858  0.750104  0.909351         0\n 93  Si    0.445337  0.467144  0.336085        -0\n 94  Si    0.104444  0.391152  0.254441         0\n 95  Si    0.869698  0.115372  0.022209        -0\n 96  Si    0.910298  0.359812  0.615153         0\n 97  Si    0.172995  0.792798  0.791733        -0\n 98  Si    0.978013  0.641187  0.449073         0\n 99  Si    0.479965  0.47837   0.899187        -0",
         "0.34929145859999905"
        ],
        [
         "4",
         "Nb",
         "Full Formula (Nb12)\nReduced Formula: Nb\nabc   :   5.374343   6.938011   7.179916\nangles: 107.496791 108.620266 102.624921\npbc   :       True       True       True\nSites (12)\n  #  SP           a         b         c    magmom\n---  ----  --------  --------  --------  --------\n  0  Nb    0.06949   0.140393  0.503316         0\n  1  Nb    0.509667  0.212573  0.340606         0\n  2  Nb    0.072719  0.731441  0.133756        -0\n  3  Nb    0.046112  0.405816  0.262338         0\n  4  Nb    0.024193  0.983918  0.882255        -0\n  5  Nb    0.596368  0.925967  0.050041        -0\n  6  Nb    0.683872  0.720414  0.393695        -0\n  7  Nb    0.054694  0.564241  0.697763         0\n  8  Nb    0.55334   0.563811  0.699148         0\n  9  Nb    0.42808   0.395001  0.998307        -0\n 10  Nb    0.771339  0.251176  0.789395        -0\n 11  Nb    0.336504  0.880067  0.604147         0",
         "0.18974828500000201"
        ]
       ],
       "shape": {
        "columns": 3,
        "rows": 5
       }
      },
      "text/html": [
       "<div>\n",
       "<style scoped>\n",
       "    .dataframe tbody tr th:only-of-type {\n",
       "        vertical-align: middle;\n",
       "    }\n",
       "\n",
       "    .dataframe tbody tr th {\n",
       "        vertical-align: top;\n",
       "    }\n",
       "\n",
       "    .dataframe thead th {\n",
       "        text-align: right;\n",
       "    }\n",
       "</style>\n",
       "<table border=\"1\" class=\"dataframe\">\n",
       "  <thead>\n",
       "    <tr style=\"text-align: right;\">\n",
       "      <th></th>\n",
       "      <th>formula</th>\n",
       "      <th>structure</th>\n",
       "      <th>formation_energy_per_atom</th>\n",
       "    </tr>\n",
       "  </thead>\n",
       "  <tbody>\n",
       "    <tr>\n",
       "      <th>0</th>\n",
       "      <td>O2</td>\n",
       "      <td>[[4.40802865 2.5939677  5.82250118] O, [0.4294...</td>\n",
       "      <td>0.387014</td>\n",
       "    </tr>\n",
       "    <tr>\n",
       "      <th>1</th>\n",
       "      <td>C</td>\n",
       "      <td>[[7.5298275  6.30191464 0.68331063] C, [8.4740...</td>\n",
       "      <td>0.994253</td>\n",
       "    </tr>\n",
       "    <tr>\n",
       "      <th>2</th>\n",
       "      <td>Ti</td>\n",
       "      <td>[[1.91951051 1.37136319 9.00059297] Ti, [ 8.19...</td>\n",
       "      <td>0.141384</td>\n",
       "    </tr>\n",
       "    <tr>\n",
       "      <th>3</th>\n",
       "      <td>Si</td>\n",
       "      <td>[[0.18969876 3.07592306 5.37172487] Si, [-0.21...</td>\n",
       "      <td>0.349291</td>\n",
       "    </tr>\n",
       "    <tr>\n",
       "      <th>4</th>\n",
       "      <td>Nb</td>\n",
       "      <td>[[-0.99328832 -0.42135479  3.13782546] Nb, [1....</td>\n",
       "      <td>0.189748</td>\n",
       "    </tr>\n",
       "  </tbody>\n",
       "</table>\n",
       "</div>"
      ],
      "text/plain": [
       "  formula                                          structure   \n",
       "0      O2  [[4.40802865 2.5939677  5.82250118] O, [0.4294...  \\\n",
       "1       C  [[7.5298275  6.30191464 0.68331063] C, [8.4740...   \n",
       "2      Ti  [[1.91951051 1.37136319 9.00059297] Ti, [ 8.19...   \n",
       "3      Si  [[0.18969876 3.07592306 5.37172487] Si, [-0.21...   \n",
       "4      Nb  [[-0.99328832 -0.42135479  3.13782546] Nb, [1....   \n",
       "\n",
       "   formation_energy_per_atom  \n",
       "0                   0.387014  \n",
       "1                   0.994253  \n",
       "2                   0.141384  \n",
       "3                   0.349291  \n",
       "4                   0.189748  "
      ]
     },
     "execution_count": 5,
     "metadata": {},
     "output_type": "execute_result"
    }
   ],
   "source": [
    "df.head()"
   ]
  },
  {
   "cell_type": "markdown",
   "id": "730f0d8a",
   "metadata": {},
   "source": [
    "# Featurization"
   ]
  },
  {
   "cell_type": "code",
   "execution_count": 6,
   "id": "3315d122",
   "metadata": {},
   "outputs": [
    {
     "data": {
      "application/vnd.jupyter.widget-view+json": {
       "model_id": "af829f11a1e54d97b39ffe8f49d90c7f",
       "version_major": 2,
       "version_minor": 0
      },
      "text/plain": [
       "ElementProperty:   0%|          | 0/4500 [00:00<?, ?it/s]"
      ]
     },
     "metadata": {},
     "output_type": "display_data"
    }
   ],
   "source": [
    "# 🧩 4. Feature Engineering\n",
    "df['composition'] = df['formula'].apply(Composition)\n",
    "\n",
    "# Composition Features\n",
    "ep_feat = ElementProperty.from_preset(preset_name=\"magpie\")\n",
    "df = ep_feat.featurize_dataframe(df, col_id='composition', ignore_errors=True)\n",
    "\n",
    "# Structure Features\n",
    "structure_features = []\n",
    "for s in df['structure']:\n",
    "    features = {}\n",
    "    try:\n",
    "        dens_feat = DensityFeatures().featurize(s)\n",
    "        features.update(dict(zip(DensityFeatures().feature_labels(), dens_feat)))\n",
    "\n",
    "        gsf_feat = GlobalSymmetryFeatures().featurize(s)\n",
    "        features.update(dict(zip(GlobalSymmetryFeatures().feature_labels(), gsf_feat)))\n",
    "    except Exception as e:\n",
    "        features = {f: np.nan for f in features.keys()}\n",
    "    structure_features.append(features)\n",
    "\n",
    "structure_df = pd.DataFrame(structure_features)"
   ]
  },
  {
   "cell_type": "markdown",
   "id": "6ade74dd",
   "metadata": {},
   "source": [
    "# Data curing"
   ]
  },
  {
   "cell_type": "code",
   "execution_count": 7,
   "id": "a10aca8a",
   "metadata": {},
   "outputs": [],
   "source": [
    "# Merge composition and structure features\n",
    "X = pd.concat([df, structure_df], axis=1)\n",
    "\n",
    "# Drop columns that aren't features\n",
    "X = X.drop(columns=['composition', 'structure', 'formation_energy_per_atom'])\n",
    "\n",
    "# Drop rows with any missing values\n",
    "X = X.dropna()\n",
    "\n",
    "# Now align y with the rows that remain in X\n",
    "# Since we dropped rows in X, the index might be different.\n",
    "y = df.loc[X.index, 'formation_energy_per_atom']"
   ]
  },
  {
   "cell_type": "code",
   "execution_count": 8,
   "id": "141be17e",
   "metadata": {},
   "outputs": [
    {
     "name": "stdout",
     "output_type": "stream",
     "text": [
      "0    0.387014\n",
      "1    0.994253\n",
      "2    0.141384\n",
      "3    0.349291\n",
      "4    0.189748\n",
      "Name: formation_energy_per_atom, dtype: float64\n"
     ]
    }
   ],
   "source": [
    "#print(X[:5])\n",
    "print(y[:5])"
   ]
  },
  {
   "cell_type": "code",
   "execution_count": 9,
   "id": "af1b060d",
   "metadata": {},
   "outputs": [
    {
     "name": "stdout",
     "output_type": "stream",
     "text": [
      "formula                       object\n",
      "MagpieData minimum Number    float64\n",
      "MagpieData maximum Number    float64\n",
      "MagpieData range Number      float64\n",
      "MagpieData mean Number       float64\n",
      "                              ...   \n",
      "crystal_system                object\n",
      "crystal_system_int           float64\n",
      "is_centrosymmetric            object\n",
      "n_symmetry_ops               float64\n",
      "target                       float64\n",
      "Length: 142, dtype: object\n"
     ]
    }
   ],
   "source": [
    "model_data = pd.concat([X, y], axis=1)\n",
    "model_data.rename(columns={'formation_energy_per_atom': 'target'}, inplace=True)\n",
    "print(model_data.dtypes)"
   ]
  },
  {
   "cell_type": "code",
   "execution_count": 10,
   "id": "e81b312e",
   "metadata": {},
   "outputs": [
    {
     "name": "stdout",
     "output_type": "stream",
     "text": [
      "Non-numeric columns: Index(['formula', 'crystal_system', 'is_centrosymmetric'], dtype='object')\n"
     ]
    }
   ],
   "source": [
    "non_numeric_cols = model_data.select_dtypes(include=['object']).columns\n",
    "print(\"Non-numeric columns:\", non_numeric_cols)"
   ]
  },
  {
   "cell_type": "code",
   "execution_count": 11,
   "id": "e526ad7f",
   "metadata": {},
   "outputs": [
    {
     "name": "stdout",
     "output_type": "stream",
     "text": [
      "MagpieData minimum Number      float64\n",
      "MagpieData maximum Number      float64\n",
      "MagpieData range Number        float64\n",
      "MagpieData mean Number         float64\n",
      "MagpieData avg_dev Number      float64\n",
      "                                ...   \n",
      "crystal_system_monoclinic         bool\n",
      "crystal_system_orthorhombic       bool\n",
      "crystal_system_tetragonal         bool\n",
      "crystal_system_triclinic          bool\n",
      "crystal_system_trigonal           bool\n",
      "Length: 147, dtype: object\n",
      "cleaned dataset size for model training and validation: (4200, 147)\n",
      "cleaned Unseen dataset size: (278, 147)\n"
     ]
    }
   ],
   "source": [
    "# Make a copy of your model_data\n",
    "model_data_clean = model_data.copy()\n",
    "\n",
    "# Drop 'formula' (we already extracted features from it)\n",
    "model_data_clean = model_data_clean.drop(columns=['formula'])\n",
    "\n",
    "# Handle 'crystal_system' (one-hot encoding)\n",
    "model_data_clean = pd.get_dummies(model_data_clean, columns=['crystal_system'])\n",
    "\n",
    "# Handle 'is_centrosymmetric' (map True/False to 1/0)\n",
    "# In some cases it might be a string, so let's handle both cases robustly\n",
    "model_data_clean['is_centrosymmetric'] = model_data_clean['is_centrosymmetric'].map({\n",
    "    True: 1, False: 0, \n",
    "    'True': 1, 'False': 0\n",
    "})\n",
    "\n",
    "# Save the last 278 rows as unseen data\n",
    "unseen_data = model_data_clean.tail(278)\n",
    "model_data_clean = model_data_clean.iloc[:-278]  # saves the rest for model training and optimization\n",
    "\n",
    "# Reset index for both datasets\n",
    "model_data_clean.reset_index(drop=True, inplace=True)\n",
    "unseen_data.reset_index(drop=True, inplace=True)\n",
    "\n",
    "# Double-check dtypes\n",
    "print(model_data_clean.dtypes)\n",
    "print( \"cleaned dataset size for model training and validation:\", model_data_clean.shape)\n",
    "print( \"cleaned Unseen dataset size:\", unseen_data.shape)\n"
   ]
  },
  {
   "cell_type": "code",
   "execution_count": 12,
   "id": "d1313e1b",
   "metadata": {},
   "outputs": [
    {
     "name": "stdout",
     "output_type": "stream",
     "text": [
      "Non-numeric columns: Index([], dtype='object')\n"
     ]
    }
   ],
   "source": [
    "non_numeric_cols_clean = model_data_clean.select_dtypes(include=['object']).columns\n",
    "print(\"Non-numeric columns:\", non_numeric_cols_clean)"
   ]
  },
  {
   "cell_type": "markdown",
   "id": "7cc733b2",
   "metadata": {},
   "source": [
    "# Model Selection :\n",
    "Pycaret is used.  \n",
    "https://pycaret.gitbook.io/docs  \n",
    "Models were choosen based on sorting metrics: 1. mean absolute error (mae), i.e., focusing on prediction accuracy  2. R2 score, i.e., focusing on capturing the variance in the training dataset."
   ]
  },
  {
   "cell_type": "markdown",
   "id": "b0b0d895",
   "metadata": {},
   "source": [
    "1. Model Selection: Metric 'mae'"
   ]
  },
  {
   "cell_type": "code",
   "execution_count": 13,
   "id": "6f229aeb",
   "metadata": {},
   "outputs": [
    {
     "data": {
      "text/html": [],
      "text/plain": [
       "<IPython.core.display.HTML object>"
      ]
     },
     "metadata": {},
     "output_type": "display_data"
    },
    {
     "data": {
      "text/html": [
       "<style type=\"text/css\">\n",
       "#T_c6535 th {\n",
       "  text-align: left;\n",
       "}\n",
       "#T_c6535_row0_col0, #T_c6535_row0_col2, #T_c6535_row0_col3, #T_c6535_row0_col4, #T_c6535_row0_col5, #T_c6535_row0_col6, #T_c6535_row1_col0, #T_c6535_row1_col1, #T_c6535_row1_col2, #T_c6535_row1_col3, #T_c6535_row1_col4, #T_c6535_row1_col6, #T_c6535_row2_col0, #T_c6535_row2_col1, #T_c6535_row2_col2, #T_c6535_row2_col3, #T_c6535_row2_col4, #T_c6535_row2_col5, #T_c6535_row2_col6, #T_c6535_row3_col0, #T_c6535_row3_col1, #T_c6535_row3_col2, #T_c6535_row3_col3, #T_c6535_row3_col4, #T_c6535_row3_col5, #T_c6535_row3_col6, #T_c6535_row4_col0, #T_c6535_row4_col1, #T_c6535_row4_col5, #T_c6535_row4_col6, #T_c6535_row5_col0, #T_c6535_row5_col1, #T_c6535_row5_col2, #T_c6535_row5_col3, #T_c6535_row5_col4, #T_c6535_row5_col5, #T_c6535_row5_col6, #T_c6535_row6_col0, #T_c6535_row6_col1, #T_c6535_row6_col2, #T_c6535_row6_col3, #T_c6535_row6_col4, #T_c6535_row6_col5, #T_c6535_row7_col0, #T_c6535_row7_col1, #T_c6535_row7_col2, #T_c6535_row7_col3, #T_c6535_row7_col4, #T_c6535_row7_col5, #T_c6535_row7_col6, #T_c6535_row8_col0, #T_c6535_row8_col1, #T_c6535_row8_col2, #T_c6535_row8_col3, #T_c6535_row8_col4, #T_c6535_row8_col5, #T_c6535_row8_col6, #T_c6535_row9_col0, #T_c6535_row9_col1, #T_c6535_row9_col2, #T_c6535_row9_col3, #T_c6535_row9_col4, #T_c6535_row9_col5, #T_c6535_row9_col6, #T_c6535_row10_col0, #T_c6535_row10_col1, #T_c6535_row10_col2, #T_c6535_row10_col3, #T_c6535_row10_col4, #T_c6535_row10_col5, #T_c6535_row10_col6, #T_c6535_row11_col0, #T_c6535_row11_col1, #T_c6535_row11_col2, #T_c6535_row11_col3, #T_c6535_row11_col4, #T_c6535_row11_col5, #T_c6535_row11_col6, #T_c6535_row12_col0, #T_c6535_row12_col1, #T_c6535_row12_col2, #T_c6535_row12_col3, #T_c6535_row12_col4, #T_c6535_row12_col5, #T_c6535_row12_col6, #T_c6535_row13_col0, #T_c6535_row13_col1, #T_c6535_row13_col2, #T_c6535_row13_col3, #T_c6535_row13_col4, #T_c6535_row13_col5, #T_c6535_row13_col6, #T_c6535_row14_col0, #T_c6535_row14_col1, #T_c6535_row14_col2, #T_c6535_row14_col3, #T_c6535_row14_col4, #T_c6535_row14_col5, #T_c6535_row14_col6, #T_c6535_row15_col0, #T_c6535_row15_col1, #T_c6535_row15_col2, #T_c6535_row15_col3, #T_c6535_row15_col4, #T_c6535_row15_col5, #T_c6535_row15_col6, #T_c6535_row16_col0, #T_c6535_row16_col1, #T_c6535_row16_col2, #T_c6535_row16_col3, #T_c6535_row16_col4, #T_c6535_row16_col5, #T_c6535_row16_col6, #T_c6535_row17_col0, #T_c6535_row17_col1, #T_c6535_row17_col2, #T_c6535_row17_col3, #T_c6535_row17_col4, #T_c6535_row17_col5, #T_c6535_row17_col6, #T_c6535_row18_col0, #T_c6535_row18_col1, #T_c6535_row18_col2, #T_c6535_row18_col3, #T_c6535_row18_col4, #T_c6535_row18_col5, #T_c6535_row18_col6, #T_c6535_row19_col0, #T_c6535_row19_col1, #T_c6535_row19_col2, #T_c6535_row19_col3, #T_c6535_row19_col4, #T_c6535_row19_col5, #T_c6535_row19_col6 {\n",
       "  text-align: left;\n",
       "}\n",
       "#T_c6535_row0_col1, #T_c6535_row1_col5, #T_c6535_row4_col2, #T_c6535_row4_col3, #T_c6535_row4_col4, #T_c6535_row6_col6 {\n",
       "  text-align: left;\n",
       "  background-color: yellow;\n",
       "}\n",
       "#T_c6535_row0_col7, #T_c6535_row1_col7, #T_c6535_row2_col7, #T_c6535_row3_col7, #T_c6535_row4_col7, #T_c6535_row5_col7, #T_c6535_row6_col7, #T_c6535_row7_col7, #T_c6535_row8_col7, #T_c6535_row9_col7, #T_c6535_row10_col7, #T_c6535_row11_col7, #T_c6535_row12_col7, #T_c6535_row13_col7, #T_c6535_row15_col7, #T_c6535_row16_col7, #T_c6535_row18_col7, #T_c6535_row19_col7 {\n",
       "  text-align: left;\n",
       "  background-color: lightgrey;\n",
       "}\n",
       "#T_c6535_row14_col7, #T_c6535_row17_col7 {\n",
       "  text-align: left;\n",
       "  background-color: yellow;\n",
       "  background-color: lightgrey;\n",
       "}\n",
       "</style>\n",
       "<table id=\"T_c6535\">\n",
       "  <thead>\n",
       "    <tr>\n",
       "      <th class=\"blank level0\" >&nbsp;</th>\n",
       "      <th id=\"T_c6535_level0_col0\" class=\"col_heading level0 col0\" >Model</th>\n",
       "      <th id=\"T_c6535_level0_col1\" class=\"col_heading level0 col1\" >MAE</th>\n",
       "      <th id=\"T_c6535_level0_col2\" class=\"col_heading level0 col2\" >MSE</th>\n",
       "      <th id=\"T_c6535_level0_col3\" class=\"col_heading level0 col3\" >RMSE</th>\n",
       "      <th id=\"T_c6535_level0_col4\" class=\"col_heading level0 col4\" >R2</th>\n",
       "      <th id=\"T_c6535_level0_col5\" class=\"col_heading level0 col5\" >RMSLE</th>\n",
       "      <th id=\"T_c6535_level0_col6\" class=\"col_heading level0 col6\" >MAPE</th>\n",
       "      <th id=\"T_c6535_level0_col7\" class=\"col_heading level0 col7\" >TT (Sec)</th>\n",
       "    </tr>\n",
       "  </thead>\n",
       "  <tbody>\n",
       "    <tr>\n",
       "      <th id=\"T_c6535_level0_row0\" class=\"row_heading level0 row0\" >et</th>\n",
       "      <td id=\"T_c6535_row0_col0\" class=\"data row0 col0\" >Extra Trees Regressor</td>\n",
       "      <td id=\"T_c6535_row0_col1\" class=\"data row0 col1\" >0.1772</td>\n",
       "      <td id=\"T_c6535_row0_col2\" class=\"data row0 col2\" >0.2167</td>\n",
       "      <td id=\"T_c6535_row0_col3\" class=\"data row0 col3\" >0.4619</td>\n",
       "      <td id=\"T_c6535_row0_col4\" class=\"data row0 col4\" >0.8223</td>\n",
       "      <td id=\"T_c6535_row0_col5\" class=\"data row0 col5\" >0.1767</td>\n",
       "      <td id=\"T_c6535_row0_col6\" class=\"data row0 col6\" >3110118755.3944</td>\n",
       "      <td id=\"T_c6535_row0_col7\" class=\"data row0 col7\" >1.3220</td>\n",
       "    </tr>\n",
       "    <tr>\n",
       "      <th id=\"T_c6535_level0_row1\" class=\"row_heading level0 row1\" >catboost</th>\n",
       "      <td id=\"T_c6535_row1_col0\" class=\"data row1 col0\" >CatBoost Regressor</td>\n",
       "      <td id=\"T_c6535_row1_col1\" class=\"data row1 col1\" >0.1840</td>\n",
       "      <td id=\"T_c6535_row1_col2\" class=\"data row1 col2\" >0.1760</td>\n",
       "      <td id=\"T_c6535_row1_col3\" class=\"data row1 col3\" >0.4161</td>\n",
       "      <td id=\"T_c6535_row1_col4\" class=\"data row1 col4\" >0.8556</td>\n",
       "      <td id=\"T_c6535_row1_col5\" class=\"data row1 col5\" >0.1693</td>\n",
       "      <td id=\"T_c6535_row1_col6\" class=\"data row1 col6\" >13029745160.2215</td>\n",
       "      <td id=\"T_c6535_row1_col7\" class=\"data row1 col7\" >4.6860</td>\n",
       "    </tr>\n",
       "    <tr>\n",
       "      <th id=\"T_c6535_level0_row2\" class=\"row_heading level0 row2\" >xgboost</th>\n",
       "      <td id=\"T_c6535_row2_col0\" class=\"data row2 col0\" >Extreme Gradient Boosting</td>\n",
       "      <td id=\"T_c6535_row2_col1\" class=\"data row2 col1\" >0.1858</td>\n",
       "      <td id=\"T_c6535_row2_col2\" class=\"data row2 col2\" >0.1946</td>\n",
       "      <td id=\"T_c6535_row2_col3\" class=\"data row2 col3\" >0.4366</td>\n",
       "      <td id=\"T_c6535_row2_col4\" class=\"data row2 col4\" >0.8400</td>\n",
       "      <td id=\"T_c6535_row2_col5\" class=\"data row2 col5\" >0.1744</td>\n",
       "      <td id=\"T_c6535_row2_col6\" class=\"data row2 col6\" >3676658896.2140</td>\n",
       "      <td id=\"T_c6535_row2_col7\" class=\"data row2 col7\" >0.3880</td>\n",
       "    </tr>\n",
       "    <tr>\n",
       "      <th id=\"T_c6535_level0_row3\" class=\"row_heading level0 row3\" >rf</th>\n",
       "      <td id=\"T_c6535_row3_col0\" class=\"data row3 col0\" >Random Forest Regressor</td>\n",
       "      <td id=\"T_c6535_row3_col1\" class=\"data row3 col1\" >0.1893</td>\n",
       "      <td id=\"T_c6535_row3_col2\" class=\"data row3 col2\" >0.1891</td>\n",
       "      <td id=\"T_c6535_row3_col3\" class=\"data row3 col3\" >0.4339</td>\n",
       "      <td id=\"T_c6535_row3_col4\" class=\"data row3 col4\" >0.8456</td>\n",
       "      <td id=\"T_c6535_row3_col5\" class=\"data row3 col5\" >0.1735</td>\n",
       "      <td id=\"T_c6535_row3_col6\" class=\"data row3 col6\" >5121885299.6563</td>\n",
       "      <td id=\"T_c6535_row3_col7\" class=\"data row3 col7\" >1.8400</td>\n",
       "    </tr>\n",
       "    <tr>\n",
       "      <th id=\"T_c6535_level0_row4\" class=\"row_heading level0 row4\" >lightgbm</th>\n",
       "      <td id=\"T_c6535_row4_col0\" class=\"data row4 col0\" >Light Gradient Boosting Machine</td>\n",
       "      <td id=\"T_c6535_row4_col1\" class=\"data row4 col1\" >0.1938</td>\n",
       "      <td id=\"T_c6535_row4_col2\" class=\"data row4 col2\" >0.1648</td>\n",
       "      <td id=\"T_c6535_row4_col3\" class=\"data row4 col3\" >0.4054</td>\n",
       "      <td id=\"T_c6535_row4_col4\" class=\"data row4 col4\" >0.8658</td>\n",
       "      <td id=\"T_c6535_row4_col5\" class=\"data row4 col5\" >0.1695</td>\n",
       "      <td id=\"T_c6535_row4_col6\" class=\"data row4 col6\" >12952922459.0655</td>\n",
       "      <td id=\"T_c6535_row4_col7\" class=\"data row4 col7\" >0.3260</td>\n",
       "    </tr>\n",
       "    <tr>\n",
       "      <th id=\"T_c6535_level0_row5\" class=\"row_heading level0 row5\" >gbr</th>\n",
       "      <td id=\"T_c6535_row5_col0\" class=\"data row5 col0\" >Gradient Boosting Regressor</td>\n",
       "      <td id=\"T_c6535_row5_col1\" class=\"data row5 col1\" >0.2381</td>\n",
       "      <td id=\"T_c6535_row5_col2\" class=\"data row5 col2\" >0.2084</td>\n",
       "      <td id=\"T_c6535_row5_col3\" class=\"data row5 col3\" >0.4557</td>\n",
       "      <td id=\"T_c6535_row5_col4\" class=\"data row5 col4\" >0.8305</td>\n",
       "      <td id=\"T_c6535_row5_col5\" class=\"data row5 col5\" >0.1926</td>\n",
       "      <td id=\"T_c6535_row5_col6\" class=\"data row5 col6\" >11102470356.8445</td>\n",
       "      <td id=\"T_c6535_row5_col7\" class=\"data row5 col7\" >0.6940</td>\n",
       "    </tr>\n",
       "    <tr>\n",
       "      <th id=\"T_c6535_level0_row6\" class=\"row_heading level0 row6\" >dt</th>\n",
       "      <td id=\"T_c6535_row6_col0\" class=\"data row6 col0\" >Decision Tree Regressor</td>\n",
       "      <td id=\"T_c6535_row6_col1\" class=\"data row6 col1\" >0.2480</td>\n",
       "      <td id=\"T_c6535_row6_col2\" class=\"data row6 col2\" >0.3414</td>\n",
       "      <td id=\"T_c6535_row6_col3\" class=\"data row6 col3\" >0.5828</td>\n",
       "      <td id=\"T_c6535_row6_col4\" class=\"data row6 col4\" >0.7224</td>\n",
       "      <td id=\"T_c6535_row6_col5\" class=\"data row6 col5\" >0.2252</td>\n",
       "      <td id=\"T_c6535_row6_col6\" class=\"data row6 col6\" >1904295118.3349</td>\n",
       "      <td id=\"T_c6535_row6_col7\" class=\"data row6 col7\" >0.1740</td>\n",
       "    </tr>\n",
       "    <tr>\n",
       "      <th id=\"T_c6535_level0_row7\" class=\"row_heading level0 row7\" >knn</th>\n",
       "      <td id=\"T_c6535_row7_col0\" class=\"data row7 col0\" >K Neighbors Regressor</td>\n",
       "      <td id=\"T_c6535_row7_col1\" class=\"data row7 col1\" >0.3488</td>\n",
       "      <td id=\"T_c6535_row7_col2\" class=\"data row7 col2\" >0.3701</td>\n",
       "      <td id=\"T_c6535_row7_col3\" class=\"data row7 col3\" >0.6084</td>\n",
       "      <td id=\"T_c6535_row7_col4\" class=\"data row7 col4\" >0.6995</td>\n",
       "      <td id=\"T_c6535_row7_col5\" class=\"data row7 col5\" >0.2651</td>\n",
       "      <td id=\"T_c6535_row7_col6\" class=\"data row7 col6\" >3464177670.7302</td>\n",
       "      <td id=\"T_c6535_row7_col7\" class=\"data row7 col7\" >0.1580</td>\n",
       "    </tr>\n",
       "    <tr>\n",
       "      <th id=\"T_c6535_level0_row8\" class=\"row_heading level0 row8\" >br</th>\n",
       "      <td id=\"T_c6535_row8_col0\" class=\"data row8 col0\" >Bayesian Ridge</td>\n",
       "      <td id=\"T_c6535_row8_col1\" class=\"data row8 col1\" >0.3753</td>\n",
       "      <td id=\"T_c6535_row8_col2\" class=\"data row8 col2\" >0.3547</td>\n",
       "      <td id=\"T_c6535_row8_col3\" class=\"data row8 col3\" >0.5946</td>\n",
       "      <td id=\"T_c6535_row8_col4\" class=\"data row8 col4\" >0.7118</td>\n",
       "      <td id=\"T_c6535_row8_col5\" class=\"data row8 col5\" >0.2537</td>\n",
       "      <td id=\"T_c6535_row8_col6\" class=\"data row8 col6\" >35559270014.4160</td>\n",
       "      <td id=\"T_c6535_row8_col7\" class=\"data row8 col7\" >0.1500</td>\n",
       "    </tr>\n",
       "    <tr>\n",
       "      <th id=\"T_c6535_level0_row9\" class=\"row_heading level0 row9\" >ridge</th>\n",
       "      <td id=\"T_c6535_row9_col0\" class=\"data row9 col0\" >Ridge Regression</td>\n",
       "      <td id=\"T_c6535_row9_col1\" class=\"data row9 col1\" >0.3763</td>\n",
       "      <td id=\"T_c6535_row9_col2\" class=\"data row9 col2\" >0.3488</td>\n",
       "      <td id=\"T_c6535_row9_col3\" class=\"data row9 col3\" >0.5898</td>\n",
       "      <td id=\"T_c6535_row9_col4\" class=\"data row9 col4\" >0.7165</td>\n",
       "      <td id=\"T_c6535_row9_col5\" class=\"data row9 col5\" >0.2552</td>\n",
       "      <td id=\"T_c6535_row9_col6\" class=\"data row9 col6\" >29609777587.0569</td>\n",
       "      <td id=\"T_c6535_row9_col7\" class=\"data row9 col7\" >0.1440</td>\n",
       "    </tr>\n",
       "    <tr>\n",
       "      <th id=\"T_c6535_level0_row10\" class=\"row_heading level0 row10\" >lr</th>\n",
       "      <td id=\"T_c6535_row10_col0\" class=\"data row10 col0\" >Linear Regression</td>\n",
       "      <td id=\"T_c6535_row10_col1\" class=\"data row10 col1\" >0.3806</td>\n",
       "      <td id=\"T_c6535_row10_col2\" class=\"data row10 col2\" >0.3498</td>\n",
       "      <td id=\"T_c6535_row10_col3\" class=\"data row10 col3\" >0.5906</td>\n",
       "      <td id=\"T_c6535_row10_col4\" class=\"data row10 col4\" >0.7156</td>\n",
       "      <td id=\"T_c6535_row10_col5\" class=\"data row10 col5\" >0.2571</td>\n",
       "      <td id=\"T_c6535_row10_col6\" class=\"data row10 col6\" >29128802326.5856</td>\n",
       "      <td id=\"T_c6535_row10_col7\" class=\"data row10 col7\" >2.3500</td>\n",
       "    </tr>\n",
       "    <tr>\n",
       "      <th id=\"T_c6535_level0_row11\" class=\"row_heading level0 row11\" >huber</th>\n",
       "      <td id=\"T_c6535_row11_col0\" class=\"data row11 col0\" >Huber Regressor</td>\n",
       "      <td id=\"T_c6535_row11_col1\" class=\"data row11 col1\" >0.4777</td>\n",
       "      <td id=\"T_c6535_row11_col2\" class=\"data row11 col2\" >0.5287</td>\n",
       "      <td id=\"T_c6535_row11_col3\" class=\"data row11 col3\" >0.7266</td>\n",
       "      <td id=\"T_c6535_row11_col4\" class=\"data row11 col4\" >0.5708</td>\n",
       "      <td id=\"T_c6535_row11_col5\" class=\"data row11 col5\" >0.2948</td>\n",
       "      <td id=\"T_c6535_row11_col6\" class=\"data row11 col6\" >18308994475.0468</td>\n",
       "      <td id=\"T_c6535_row11_col7\" class=\"data row11 col7\" >0.3500</td>\n",
       "    </tr>\n",
       "    <tr>\n",
       "      <th id=\"T_c6535_level0_row12\" class=\"row_heading level0 row12\" >en</th>\n",
       "      <td id=\"T_c6535_row12_col0\" class=\"data row12 col0\" >Elastic Net</td>\n",
       "      <td id=\"T_c6535_row12_col1\" class=\"data row12 col1\" >0.4826</td>\n",
       "      <td id=\"T_c6535_row12_col2\" class=\"data row12 col2\" >0.5373</td>\n",
       "      <td id=\"T_c6535_row12_col3\" class=\"data row12 col3\" >0.7327</td>\n",
       "      <td id=\"T_c6535_row12_col4\" class=\"data row12 col4\" >0.5639</td>\n",
       "      <td id=\"T_c6535_row12_col5\" class=\"data row12 col5\" >0.3001</td>\n",
       "      <td id=\"T_c6535_row12_col6\" class=\"data row12 col6\" >17881371451.9028</td>\n",
       "      <td id=\"T_c6535_row12_col7\" class=\"data row12 col7\" >0.1540</td>\n",
       "    </tr>\n",
       "    <tr>\n",
       "      <th id=\"T_c6535_level0_row13\" class=\"row_heading level0 row13\" >lasso</th>\n",
       "      <td id=\"T_c6535_row13_col0\" class=\"data row13 col0\" >Lasso Regression</td>\n",
       "      <td id=\"T_c6535_row13_col1\" class=\"data row13 col1\" >0.4908</td>\n",
       "      <td id=\"T_c6535_row13_col2\" class=\"data row13 col2\" >0.5518</td>\n",
       "      <td id=\"T_c6535_row13_col3\" class=\"data row13 col3\" >0.7426</td>\n",
       "      <td id=\"T_c6535_row13_col4\" class=\"data row13 col4\" >0.5522</td>\n",
       "      <td id=\"T_c6535_row13_col5\" class=\"data row13 col5\" >0.3049</td>\n",
       "      <td id=\"T_c6535_row13_col6\" class=\"data row13 col6\" >21648857505.1588</td>\n",
       "      <td id=\"T_c6535_row13_col7\" class=\"data row13 col7\" >1.9240</td>\n",
       "    </tr>\n",
       "    <tr>\n",
       "      <th id=\"T_c6535_level0_row14\" class=\"row_heading level0 row14\" >llar</th>\n",
       "      <td id=\"T_c6535_row14_col0\" class=\"data row14 col0\" >Lasso Least Angle Regression</td>\n",
       "      <td id=\"T_c6535_row14_col1\" class=\"data row14 col1\" >0.4908</td>\n",
       "      <td id=\"T_c6535_row14_col2\" class=\"data row14 col2\" >0.5518</td>\n",
       "      <td id=\"T_c6535_row14_col3\" class=\"data row14 col3\" >0.7426</td>\n",
       "      <td id=\"T_c6535_row14_col4\" class=\"data row14 col4\" >0.5522</td>\n",
       "      <td id=\"T_c6535_row14_col5\" class=\"data row14 col5\" >0.3050</td>\n",
       "      <td id=\"T_c6535_row14_col6\" class=\"data row14 col6\" >21657467297.1589</td>\n",
       "      <td id=\"T_c6535_row14_col7\" class=\"data row14 col7\" >0.1420</td>\n",
       "    </tr>\n",
       "    <tr>\n",
       "      <th id=\"T_c6535_level0_row15\" class=\"row_heading level0 row15\" >omp</th>\n",
       "      <td id=\"T_c6535_row15_col0\" class=\"data row15 col0\" >Orthogonal Matching Pursuit</td>\n",
       "      <td id=\"T_c6535_row15_col1\" class=\"data row15 col1\" >0.5008</td>\n",
       "      <td id=\"T_c6535_row15_col2\" class=\"data row15 col2\" >0.5639</td>\n",
       "      <td id=\"T_c6535_row15_col3\" class=\"data row15 col3\" >0.7505</td>\n",
       "      <td id=\"T_c6535_row15_col4\" class=\"data row15 col4\" >0.5423</td>\n",
       "      <td id=\"T_c6535_row15_col5\" class=\"data row15 col5\" >0.3057</td>\n",
       "      <td id=\"T_c6535_row15_col6\" class=\"data row15 col6\" >21724684296.1956</td>\n",
       "      <td id=\"T_c6535_row15_col7\" class=\"data row15 col7\" >0.1540</td>\n",
       "    </tr>\n",
       "    <tr>\n",
       "      <th id=\"T_c6535_level0_row16\" class=\"row_heading level0 row16\" >ada</th>\n",
       "      <td id=\"T_c6535_row16_col0\" class=\"data row16 col0\" >AdaBoost Regressor</td>\n",
       "      <td id=\"T_c6535_row16_col1\" class=\"data row16 col1\" >0.5636</td>\n",
       "      <td id=\"T_c6535_row16_col2\" class=\"data row16 col2\" >0.5617</td>\n",
       "      <td id=\"T_c6535_row16_col3\" class=\"data row16 col3\" >0.7492</td>\n",
       "      <td id=\"T_c6535_row16_col4\" class=\"data row16 col4\" >0.5437</td>\n",
       "      <td id=\"T_c6535_row16_col5\" class=\"data row16 col5\" >0.3580</td>\n",
       "      <td id=\"T_c6535_row16_col6\" class=\"data row16 col6\" >30885506882.0576</td>\n",
       "      <td id=\"T_c6535_row16_col7\" class=\"data row16 col7\" >0.3660</td>\n",
       "    </tr>\n",
       "    <tr>\n",
       "      <th id=\"T_c6535_level0_row17\" class=\"row_heading level0 row17\" >dummy</th>\n",
       "      <td id=\"T_c6535_row17_col0\" class=\"data row17 col0\" >Dummy Regressor</td>\n",
       "      <td id=\"T_c6535_row17_col1\" class=\"data row17 col1\" >0.7874</td>\n",
       "      <td id=\"T_c6535_row17_col2\" class=\"data row17 col2\" >1.2366</td>\n",
       "      <td id=\"T_c6535_row17_col3\" class=\"data row17 col3\" >1.1118</td>\n",
       "      <td id=\"T_c6535_row17_col4\" class=\"data row17 col4\" >-0.0022</td>\n",
       "      <td id=\"T_c6535_row17_col5\" class=\"data row17 col5\" >0.4445</td>\n",
       "      <td id=\"T_c6535_row17_col6\" class=\"data row17 col6\" >25885789420.9391</td>\n",
       "      <td id=\"T_c6535_row17_col7\" class=\"data row17 col7\" >0.1420</td>\n",
       "    </tr>\n",
       "    <tr>\n",
       "      <th id=\"T_c6535_level0_row18\" class=\"row_heading level0 row18\" >par</th>\n",
       "      <td id=\"T_c6535_row18_col0\" class=\"data row18 col0\" >Passive Aggressive Regressor</td>\n",
       "      <td id=\"T_c6535_row18_col1\" class=\"data row18 col1\" >0.9043</td>\n",
       "      <td id=\"T_c6535_row18_col2\" class=\"data row18 col2\" >1.4589</td>\n",
       "      <td id=\"T_c6535_row18_col3\" class=\"data row18 col3\" >1.1898</td>\n",
       "      <td id=\"T_c6535_row18_col4\" class=\"data row18 col4\" >-0.1905</td>\n",
       "      <td id=\"T_c6535_row18_col5\" class=\"data row18 col5\" >0.4773</td>\n",
       "      <td id=\"T_c6535_row18_col6\" class=\"data row18 col6\" >92586550861.3535</td>\n",
       "      <td id=\"T_c6535_row18_col7\" class=\"data row18 col7\" >0.1480</td>\n",
       "    </tr>\n",
       "    <tr>\n",
       "      <th id=\"T_c6535_level0_row19\" class=\"row_heading level0 row19\" >lar</th>\n",
       "      <td id=\"T_c6535_row19_col0\" class=\"data row19 col0\" >Least Angle Regression</td>\n",
       "      <td id=\"T_c6535_row19_col1\" class=\"data row19 col1\" >186332457876602.2188</td>\n",
       "      <td id=\"T_c6535_row19_col2\" class=\"data row19 col2\" >442900556933626946945458110464.0000</td>\n",
       "      <td id=\"T_c6535_row19_col3\" class=\"data row19 col3\" >322578705044217.6250</td>\n",
       "      <td id=\"T_c6535_row19_col4\" class=\"data row19 col4\" >-347526644585698610872775081984.0000</td>\n",
       "      <td id=\"T_c6535_row19_col5\" class=\"data row19 col5\" >22.8384</td>\n",
       "      <td id=\"T_c6535_row19_col6\" class=\"data row19 col6\" >2951259077565167494496256.0000</td>\n",
       "      <td id=\"T_c6535_row19_col7\" class=\"data row19 col7\" >0.1540</td>\n",
       "    </tr>\n",
       "  </tbody>\n",
       "</table>\n"
      ],
      "text/plain": [
       "<pandas.io.formats.style.Styler at 0x1c2b8459600>"
      ]
     },
     "metadata": {},
     "output_type": "display_data"
    },
    {
     "data": {
      "text/html": [],
      "text/plain": [
       "<IPython.core.display.HTML object>"
      ]
     },
     "metadata": {},
     "output_type": "display_data"
    },
    {
     "data": {
      "text/html": [],
      "text/plain": [
       "<IPython.core.display.HTML object>"
      ]
     },
     "metadata": {},
     "output_type": "display_data"
    },
    {
     "data": {
      "text/html": [
       "<style type=\"text/css\">\n",
       "#T_e9143_row5_col0, #T_e9143_row5_col1, #T_e9143_row5_col2, #T_e9143_row5_col3, #T_e9143_row5_col4, #T_e9143_row5_col5 {\n",
       "  background: yellow;\n",
       "}\n",
       "</style>\n",
       "<table id=\"T_e9143\">\n",
       "  <thead>\n",
       "    <tr>\n",
       "      <th class=\"blank level0\" >&nbsp;</th>\n",
       "      <th id=\"T_e9143_level0_col0\" class=\"col_heading level0 col0\" >MAE</th>\n",
       "      <th id=\"T_e9143_level0_col1\" class=\"col_heading level0 col1\" >MSE</th>\n",
       "      <th id=\"T_e9143_level0_col2\" class=\"col_heading level0 col2\" >RMSE</th>\n",
       "      <th id=\"T_e9143_level0_col3\" class=\"col_heading level0 col3\" >R2</th>\n",
       "      <th id=\"T_e9143_level0_col4\" class=\"col_heading level0 col4\" >RMSLE</th>\n",
       "      <th id=\"T_e9143_level0_col5\" class=\"col_heading level0 col5\" >MAPE</th>\n",
       "    </tr>\n",
       "    <tr>\n",
       "      <th class=\"index_name level0\" >Fold</th>\n",
       "      <th class=\"blank col0\" >&nbsp;</th>\n",
       "      <th class=\"blank col1\" >&nbsp;</th>\n",
       "      <th class=\"blank col2\" >&nbsp;</th>\n",
       "      <th class=\"blank col3\" >&nbsp;</th>\n",
       "      <th class=\"blank col4\" >&nbsp;</th>\n",
       "      <th class=\"blank col5\" >&nbsp;</th>\n",
       "    </tr>\n",
       "  </thead>\n",
       "  <tbody>\n",
       "    <tr>\n",
       "      <th id=\"T_e9143_level0_row0\" class=\"row_heading level0 row0\" >0</th>\n",
       "      <td id=\"T_e9143_row0_col0\" class=\"data row0 col0\" >0.1896</td>\n",
       "      <td id=\"T_e9143_row0_col1\" class=\"data row0 col1\" >0.2284</td>\n",
       "      <td id=\"T_e9143_row0_col2\" class=\"data row0 col2\" >0.4779</td>\n",
       "      <td id=\"T_e9143_row0_col3\" class=\"data row0 col3\" >0.8209</td>\n",
       "      <td id=\"T_e9143_row0_col4\" class=\"data row0 col4\" >0.1784</td>\n",
       "      <td id=\"T_e9143_row0_col5\" class=\"data row0 col5\" >3.1570</td>\n",
       "    </tr>\n",
       "    <tr>\n",
       "      <th id=\"T_e9143_level0_row1\" class=\"row_heading level0 row1\" >1</th>\n",
       "      <td id=\"T_e9143_row1_col0\" class=\"data row1 col0\" >0.2060</td>\n",
       "      <td id=\"T_e9143_row1_col1\" class=\"data row1 col1\" >0.2169</td>\n",
       "      <td id=\"T_e9143_row1_col2\" class=\"data row1 col2\" >0.4657</td>\n",
       "      <td id=\"T_e9143_row1_col3\" class=\"data row1 col3\" >0.8197</td>\n",
       "      <td id=\"T_e9143_row1_col4\" class=\"data row1 col4\" >0.1866</td>\n",
       "      <td id=\"T_e9143_row1_col5\" class=\"data row1 col5\" >14339980130.8158</td>\n",
       "    </tr>\n",
       "    <tr>\n",
       "      <th id=\"T_e9143_level0_row2\" class=\"row_heading level0 row2\" >2</th>\n",
       "      <td id=\"T_e9143_row2_col0\" class=\"data row2 col0\" >0.2195</td>\n",
       "      <td id=\"T_e9143_row2_col1\" class=\"data row2 col1\" >0.2691</td>\n",
       "      <td id=\"T_e9143_row2_col2\" class=\"data row2 col2\" >0.5187</td>\n",
       "      <td id=\"T_e9143_row2_col3\" class=\"data row2 col3\" >0.7661</td>\n",
       "      <td id=\"T_e9143_row2_col4\" class=\"data row2 col4\" >0.2170</td>\n",
       "      <td id=\"T_e9143_row2_col5\" class=\"data row2 col5\" >10.4224</td>\n",
       "    </tr>\n",
       "    <tr>\n",
       "      <th id=\"T_e9143_level0_row3\" class=\"row_heading level0 row3\" >3</th>\n",
       "      <td id=\"T_e9143_row3_col0\" class=\"data row3 col0\" >0.2095</td>\n",
       "      <td id=\"T_e9143_row3_col1\" class=\"data row3 col1\" >0.2085</td>\n",
       "      <td id=\"T_e9143_row3_col2\" class=\"data row3 col2\" >0.4566</td>\n",
       "      <td id=\"T_e9143_row3_col3\" class=\"data row3 col3\" >0.8330</td>\n",
       "      <td id=\"T_e9143_row3_col4\" class=\"data row3 col4\" >0.1943</td>\n",
       "      <td id=\"T_e9143_row3_col5\" class=\"data row3 col5\" >3.1188</td>\n",
       "    </tr>\n",
       "    <tr>\n",
       "      <th id=\"T_e9143_level0_row4\" class=\"row_heading level0 row4\" >4</th>\n",
       "      <td id=\"T_e9143_row4_col0\" class=\"data row4 col0\" >0.2147</td>\n",
       "      <td id=\"T_e9143_row4_col1\" class=\"data row4 col1\" >0.1783</td>\n",
       "      <td id=\"T_e9143_row4_col2\" class=\"data row4 col2\" >0.4223</td>\n",
       "      <td id=\"T_e9143_row4_col3\" class=\"data row4 col3\" >0.8622</td>\n",
       "      <td id=\"T_e9143_row4_col4\" class=\"data row4 col4\" >0.1853</td>\n",
       "      <td id=\"T_e9143_row4_col5\" class=\"data row4 col5\" >2.4704</td>\n",
       "    </tr>\n",
       "    <tr>\n",
       "      <th id=\"T_e9143_level0_row5\" class=\"row_heading level0 row5\" >Mean</th>\n",
       "      <td id=\"T_e9143_row5_col0\" class=\"data row5 col0\" >0.2078</td>\n",
       "      <td id=\"T_e9143_row5_col1\" class=\"data row5 col1\" >0.2202</td>\n",
       "      <td id=\"T_e9143_row5_col2\" class=\"data row5 col2\" >0.4682</td>\n",
       "      <td id=\"T_e9143_row5_col3\" class=\"data row5 col3\" >0.8204</td>\n",
       "      <td id=\"T_e9143_row5_col4\" class=\"data row5 col4\" >0.1923</td>\n",
       "      <td id=\"T_e9143_row5_col5\" class=\"data row5 col5\" >2867996029.9969</td>\n",
       "    </tr>\n",
       "    <tr>\n",
       "      <th id=\"T_e9143_level0_row6\" class=\"row_heading level0 row6\" >Std</th>\n",
       "      <td id=\"T_e9143_row6_col0\" class=\"data row6 col0\" >0.0102</td>\n",
       "      <td id=\"T_e9143_row6_col1\" class=\"data row6 col1\" >0.0295</td>\n",
       "      <td id=\"T_e9143_row6_col2\" class=\"data row6 col2\" >0.0313</td>\n",
       "      <td id=\"T_e9143_row6_col3\" class=\"data row6 col3\" >0.0312</td>\n",
       "      <td id=\"T_e9143_row6_col4\" class=\"data row6 col4\" >0.0133</td>\n",
       "      <td id=\"T_e9143_row6_col5\" class=\"data row6 col5\" >5735992050.4095</td>\n",
       "    </tr>\n",
       "  </tbody>\n",
       "</table>\n"
      ],
      "text/plain": [
       "<pandas.io.formats.style.Styler at 0x1c2b843dcc0>"
      ]
     },
     "metadata": {},
     "output_type": "display_data"
    },
    {
     "data": {
      "text/html": [],
      "text/plain": [
       "<IPython.core.display.HTML object>"
      ]
     },
     "metadata": {},
     "output_type": "display_data"
    },
    {
     "name": "stdout",
     "output_type": "stream",
     "text": [
      "Fitting 5 folds for each of 1 candidates, totalling 5 fits\n",
      "Fitting 5 folds for each of 1 candidates, totalling 5 fits\n",
      "Fitting 5 folds for each of 1 candidates, totalling 5 fits\n",
      "Fitting 5 folds for each of 1 candidates, totalling 5 fits\n",
      "Fitting 5 folds for each of 1 candidates, totalling 5 fits\n",
      "Fitting 5 folds for each of 1 candidates, totalling 5 fits\n",
      "Fitting 5 folds for each of 1 candidates, totalling 5 fits\n",
      "Fitting 5 folds for each of 1 candidates, totalling 5 fits\n",
      "Fitting 5 folds for each of 1 candidates, totalling 5 fits\n",
      "Fitting 5 folds for each of 1 candidates, totalling 5 fits\n",
      "Original model was better than the tuned model, hence it will be returned. NOTE: The display metrics are for the tuned model (not the original one).\n",
      "Transformation Pipeline and Model Successfully Saved\n",
      "Transformation Pipeline and Model Successfully Loaded\n"
     ]
    },
    {
     "data": {
      "text/html": [],
      "text/plain": [
       "<IPython.core.display.HTML object>"
      ]
     },
     "metadata": {},
     "output_type": "display_data"
    },
    {
     "name": "stdout",
     "output_type": "stream",
     "text": [
      "Prediction_mae list size: (840,)\n",
      "target_test_mae list size: (840,)\n"
     ]
    }
   ],
   "source": [
    "from pycaret.regression import *\n",
    "# Setup\n",
    "regression_setup_mae = setup(\n",
    "    data=model_data_clean,\n",
    "    target='target',\n",
    "    session_id=123,\n",
    "    fold=5,\n",
    "    train_size=0.8,\n",
    "    n_jobs=-1,\n",
    "    verbose=False,\n",
    "    remove_multicollinearity=True,\n",
    "    multicollinearity_threshold=0.9,\n",
    "    #remove_outliers=True,\n",
    "    #outliers_threshold=0.05\n",
    ")\n",
    "\n",
    "# Compare, tune, finalize models\n",
    "best_model_mae = compare_models(sort='MAE', n_select=3)\n",
    "tuned_model_mae = tune_model(best_model_mae[0], optimize='MAE', search_library='scikit-optimize')\n",
    "final_model_mae= finalize_model(tuned_model_mae)\n",
    "\n",
    "# Save : final_model used the metric R2.\n",
    "save_model(final_model_mae, 'formation_energy_final_model_mae')\n",
    "\n",
    "# Load the saved model\n",
    "model_mae = load_model('formation_energy_final_model_mae')\n",
    "\n",
    "# Retrieve holdout set\n",
    "X_test_mae = get_config('X_test')\n",
    "y_test_mae = get_config('y_test')\n",
    "X_train_mae = get_config('X_train')\n",
    "y_train_mae = get_config('y_train')\n",
    "\n",
    "# Get predictions using the final model\n",
    "predictions_df_mae = predict_model(model_mae, data=X_test_mae)\n",
    "\n",
    "# The predictions are in the 'Label' column\n",
    "y_pred_mae = predictions_df_mae['prediction_label']\n",
    "y_pred_mae.head()\n",
    "print(\"Prediction_mae list size:\",  y_pred_mae.shape)\n",
    "print(\"target_test_mae list size:\",  y_test_mae.shape)"
   ]
  },
  {
   "cell_type": "markdown",
   "id": "be81b091",
   "metadata": {},
   "source": [
    "2. Model selection: Metric R2"
   ]
  },
  {
   "cell_type": "code",
   "execution_count": 14,
   "id": "ac52ace4",
   "metadata": {},
   "outputs": [
    {
     "data": {
      "text/html": [],
      "text/plain": [
       "<IPython.core.display.HTML object>"
      ]
     },
     "metadata": {},
     "output_type": "display_data"
    },
    {
     "data": {
      "text/html": [
       "<style type=\"text/css\">\n",
       "#T_38142 th {\n",
       "  text-align: left;\n",
       "}\n",
       "#T_38142_row0_col0, #T_38142_row0_col1, #T_38142_row0_col5, #T_38142_row0_col6, #T_38142_row1_col0, #T_38142_row1_col1, #T_38142_row1_col2, #T_38142_row1_col3, #T_38142_row1_col4, #T_38142_row1_col6, #T_38142_row2_col0, #T_38142_row2_col1, #T_38142_row2_col2, #T_38142_row2_col3, #T_38142_row2_col4, #T_38142_row2_col5, #T_38142_row2_col6, #T_38142_row3_col0, #T_38142_row3_col1, #T_38142_row3_col2, #T_38142_row3_col3, #T_38142_row3_col4, #T_38142_row3_col5, #T_38142_row3_col6, #T_38142_row4_col0, #T_38142_row4_col1, #T_38142_row4_col2, #T_38142_row4_col3, #T_38142_row4_col4, #T_38142_row4_col5, #T_38142_row4_col6, #T_38142_row5_col0, #T_38142_row5_col2, #T_38142_row5_col3, #T_38142_row5_col4, #T_38142_row5_col5, #T_38142_row5_col6, #T_38142_row6_col0, #T_38142_row6_col1, #T_38142_row6_col2, #T_38142_row6_col3, #T_38142_row6_col4, #T_38142_row6_col5, #T_38142_row7_col0, #T_38142_row7_col1, #T_38142_row7_col2, #T_38142_row7_col3, #T_38142_row7_col4, #T_38142_row7_col5, #T_38142_row7_col6, #T_38142_row8_col0, #T_38142_row8_col1, #T_38142_row8_col2, #T_38142_row8_col3, #T_38142_row8_col4, #T_38142_row8_col5, #T_38142_row8_col6, #T_38142_row9_col0, #T_38142_row9_col1, #T_38142_row9_col2, #T_38142_row9_col3, #T_38142_row9_col4, #T_38142_row9_col5, #T_38142_row9_col6, #T_38142_row10_col0, #T_38142_row10_col1, #T_38142_row10_col2, #T_38142_row10_col3, #T_38142_row10_col4, #T_38142_row10_col5, #T_38142_row10_col6, #T_38142_row11_col0, #T_38142_row11_col1, #T_38142_row11_col2, #T_38142_row11_col3, #T_38142_row11_col4, #T_38142_row11_col5, #T_38142_row11_col6, #T_38142_row12_col0, #T_38142_row12_col1, #T_38142_row12_col2, #T_38142_row12_col3, #T_38142_row12_col4, #T_38142_row12_col5, #T_38142_row12_col6, #T_38142_row13_col0, #T_38142_row13_col1, #T_38142_row13_col2, #T_38142_row13_col3, #T_38142_row13_col4, #T_38142_row13_col5, #T_38142_row13_col6, #T_38142_row14_col0, #T_38142_row14_col1, #T_38142_row14_col2, #T_38142_row14_col3, #T_38142_row14_col4, #T_38142_row14_col5, #T_38142_row14_col6, #T_38142_row15_col0, #T_38142_row15_col1, #T_38142_row15_col2, #T_38142_row15_col3, #T_38142_row15_col4, #T_38142_row15_col5, #T_38142_row15_col6, #T_38142_row16_col0, #T_38142_row16_col1, #T_38142_row16_col2, #T_38142_row16_col3, #T_38142_row16_col4, #T_38142_row16_col5, #T_38142_row16_col6, #T_38142_row17_col0, #T_38142_row17_col1, #T_38142_row17_col2, #T_38142_row17_col3, #T_38142_row17_col4, #T_38142_row17_col5, #T_38142_row17_col6, #T_38142_row18_col0, #T_38142_row18_col1, #T_38142_row18_col2, #T_38142_row18_col3, #T_38142_row18_col4, #T_38142_row18_col5, #T_38142_row18_col6, #T_38142_row19_col0, #T_38142_row19_col1, #T_38142_row19_col2, #T_38142_row19_col3, #T_38142_row19_col4, #T_38142_row19_col5, #T_38142_row19_col6 {\n",
       "  text-align: left;\n",
       "}\n",
       "#T_38142_row0_col2, #T_38142_row0_col3, #T_38142_row0_col4, #T_38142_row1_col5, #T_38142_row5_col1, #T_38142_row6_col6 {\n",
       "  text-align: left;\n",
       "  background-color: yellow;\n",
       "}\n",
       "#T_38142_row0_col7, #T_38142_row1_col7, #T_38142_row2_col7, #T_38142_row3_col7, #T_38142_row4_col7, #T_38142_row5_col7, #T_38142_row6_col7, #T_38142_row7_col7, #T_38142_row8_col7, #T_38142_row9_col7, #T_38142_row10_col7, #T_38142_row11_col7, #T_38142_row12_col7, #T_38142_row13_col7, #T_38142_row14_col7, #T_38142_row15_col7, #T_38142_row16_col7, #T_38142_row18_col7, #T_38142_row19_col7 {\n",
       "  text-align: left;\n",
       "  background-color: lightgrey;\n",
       "}\n",
       "#T_38142_row17_col7 {\n",
       "  text-align: left;\n",
       "  background-color: yellow;\n",
       "  background-color: lightgrey;\n",
       "}\n",
       "</style>\n",
       "<table id=\"T_38142\">\n",
       "  <thead>\n",
       "    <tr>\n",
       "      <th class=\"blank level0\" >&nbsp;</th>\n",
       "      <th id=\"T_38142_level0_col0\" class=\"col_heading level0 col0\" >Model</th>\n",
       "      <th id=\"T_38142_level0_col1\" class=\"col_heading level0 col1\" >MAE</th>\n",
       "      <th id=\"T_38142_level0_col2\" class=\"col_heading level0 col2\" >MSE</th>\n",
       "      <th id=\"T_38142_level0_col3\" class=\"col_heading level0 col3\" >RMSE</th>\n",
       "      <th id=\"T_38142_level0_col4\" class=\"col_heading level0 col4\" >R2</th>\n",
       "      <th id=\"T_38142_level0_col5\" class=\"col_heading level0 col5\" >RMSLE</th>\n",
       "      <th id=\"T_38142_level0_col6\" class=\"col_heading level0 col6\" >MAPE</th>\n",
       "      <th id=\"T_38142_level0_col7\" class=\"col_heading level0 col7\" >TT (Sec)</th>\n",
       "    </tr>\n",
       "  </thead>\n",
       "  <tbody>\n",
       "    <tr>\n",
       "      <th id=\"T_38142_level0_row0\" class=\"row_heading level0 row0\" >lightgbm</th>\n",
       "      <td id=\"T_38142_row0_col0\" class=\"data row0 col0\" >Light Gradient Boosting Machine</td>\n",
       "      <td id=\"T_38142_row0_col1\" class=\"data row0 col1\" >0.1938</td>\n",
       "      <td id=\"T_38142_row0_col2\" class=\"data row0 col2\" >0.1648</td>\n",
       "      <td id=\"T_38142_row0_col3\" class=\"data row0 col3\" >0.4054</td>\n",
       "      <td id=\"T_38142_row0_col4\" class=\"data row0 col4\" >0.8658</td>\n",
       "      <td id=\"T_38142_row0_col5\" class=\"data row0 col5\" >0.1695</td>\n",
       "      <td id=\"T_38142_row0_col6\" class=\"data row0 col6\" >12952922459.0655</td>\n",
       "      <td id=\"T_38142_row0_col7\" class=\"data row0 col7\" >0.3720</td>\n",
       "    </tr>\n",
       "    <tr>\n",
       "      <th id=\"T_38142_level0_row1\" class=\"row_heading level0 row1\" >catboost</th>\n",
       "      <td id=\"T_38142_row1_col0\" class=\"data row1 col0\" >CatBoost Regressor</td>\n",
       "      <td id=\"T_38142_row1_col1\" class=\"data row1 col1\" >0.1840</td>\n",
       "      <td id=\"T_38142_row1_col2\" class=\"data row1 col2\" >0.1760</td>\n",
       "      <td id=\"T_38142_row1_col3\" class=\"data row1 col3\" >0.4161</td>\n",
       "      <td id=\"T_38142_row1_col4\" class=\"data row1 col4\" >0.8556</td>\n",
       "      <td id=\"T_38142_row1_col5\" class=\"data row1 col5\" >0.1693</td>\n",
       "      <td id=\"T_38142_row1_col6\" class=\"data row1 col6\" >13029745160.2215</td>\n",
       "      <td id=\"T_38142_row1_col7\" class=\"data row1 col7\" >4.5280</td>\n",
       "    </tr>\n",
       "    <tr>\n",
       "      <th id=\"T_38142_level0_row2\" class=\"row_heading level0 row2\" >rf</th>\n",
       "      <td id=\"T_38142_row2_col0\" class=\"data row2 col0\" >Random Forest Regressor</td>\n",
       "      <td id=\"T_38142_row2_col1\" class=\"data row2 col1\" >0.1893</td>\n",
       "      <td id=\"T_38142_row2_col2\" class=\"data row2 col2\" >0.1891</td>\n",
       "      <td id=\"T_38142_row2_col3\" class=\"data row2 col3\" >0.4339</td>\n",
       "      <td id=\"T_38142_row2_col4\" class=\"data row2 col4\" >0.8456</td>\n",
       "      <td id=\"T_38142_row2_col5\" class=\"data row2 col5\" >0.1735</td>\n",
       "      <td id=\"T_38142_row2_col6\" class=\"data row2 col6\" >5121885299.6563</td>\n",
       "      <td id=\"T_38142_row2_col7\" class=\"data row2 col7\" >1.9340</td>\n",
       "    </tr>\n",
       "    <tr>\n",
       "      <th id=\"T_38142_level0_row3\" class=\"row_heading level0 row3\" >xgboost</th>\n",
       "      <td id=\"T_38142_row3_col0\" class=\"data row3 col0\" >Extreme Gradient Boosting</td>\n",
       "      <td id=\"T_38142_row3_col1\" class=\"data row3 col1\" >0.1858</td>\n",
       "      <td id=\"T_38142_row3_col2\" class=\"data row3 col2\" >0.1946</td>\n",
       "      <td id=\"T_38142_row3_col3\" class=\"data row3 col3\" >0.4366</td>\n",
       "      <td id=\"T_38142_row3_col4\" class=\"data row3 col4\" >0.8400</td>\n",
       "      <td id=\"T_38142_row3_col5\" class=\"data row3 col5\" >0.1744</td>\n",
       "      <td id=\"T_38142_row3_col6\" class=\"data row3 col6\" >3676658896.2140</td>\n",
       "      <td id=\"T_38142_row3_col7\" class=\"data row3 col7\" >0.4240</td>\n",
       "    </tr>\n",
       "    <tr>\n",
       "      <th id=\"T_38142_level0_row4\" class=\"row_heading level0 row4\" >gbr</th>\n",
       "      <td id=\"T_38142_row4_col0\" class=\"data row4 col0\" >Gradient Boosting Regressor</td>\n",
       "      <td id=\"T_38142_row4_col1\" class=\"data row4 col1\" >0.2381</td>\n",
       "      <td id=\"T_38142_row4_col2\" class=\"data row4 col2\" >0.2084</td>\n",
       "      <td id=\"T_38142_row4_col3\" class=\"data row4 col3\" >0.4557</td>\n",
       "      <td id=\"T_38142_row4_col4\" class=\"data row4 col4\" >0.8305</td>\n",
       "      <td id=\"T_38142_row4_col5\" class=\"data row4 col5\" >0.1926</td>\n",
       "      <td id=\"T_38142_row4_col6\" class=\"data row4 col6\" >11102470356.8445</td>\n",
       "      <td id=\"T_38142_row4_col7\" class=\"data row4 col7\" >0.7340</td>\n",
       "    </tr>\n",
       "    <tr>\n",
       "      <th id=\"T_38142_level0_row5\" class=\"row_heading level0 row5\" >et</th>\n",
       "      <td id=\"T_38142_row5_col0\" class=\"data row5 col0\" >Extra Trees Regressor</td>\n",
       "      <td id=\"T_38142_row5_col1\" class=\"data row5 col1\" >0.1772</td>\n",
       "      <td id=\"T_38142_row5_col2\" class=\"data row5 col2\" >0.2167</td>\n",
       "      <td id=\"T_38142_row5_col3\" class=\"data row5 col3\" >0.4619</td>\n",
       "      <td id=\"T_38142_row5_col4\" class=\"data row5 col4\" >0.8223</td>\n",
       "      <td id=\"T_38142_row5_col5\" class=\"data row5 col5\" >0.1767</td>\n",
       "      <td id=\"T_38142_row5_col6\" class=\"data row5 col6\" >3110118755.3944</td>\n",
       "      <td id=\"T_38142_row5_col7\" class=\"data row5 col7\" >1.4300</td>\n",
       "    </tr>\n",
       "    <tr>\n",
       "      <th id=\"T_38142_level0_row6\" class=\"row_heading level0 row6\" >dt</th>\n",
       "      <td id=\"T_38142_row6_col0\" class=\"data row6 col0\" >Decision Tree Regressor</td>\n",
       "      <td id=\"T_38142_row6_col1\" class=\"data row6 col1\" >0.2480</td>\n",
       "      <td id=\"T_38142_row6_col2\" class=\"data row6 col2\" >0.3414</td>\n",
       "      <td id=\"T_38142_row6_col3\" class=\"data row6 col3\" >0.5828</td>\n",
       "      <td id=\"T_38142_row6_col4\" class=\"data row6 col4\" >0.7224</td>\n",
       "      <td id=\"T_38142_row6_col5\" class=\"data row6 col5\" >0.2252</td>\n",
       "      <td id=\"T_38142_row6_col6\" class=\"data row6 col6\" >1904295118.3349</td>\n",
       "      <td id=\"T_38142_row6_col7\" class=\"data row6 col7\" >0.1900</td>\n",
       "    </tr>\n",
       "    <tr>\n",
       "      <th id=\"T_38142_level0_row7\" class=\"row_heading level0 row7\" >ridge</th>\n",
       "      <td id=\"T_38142_row7_col0\" class=\"data row7 col0\" >Ridge Regression</td>\n",
       "      <td id=\"T_38142_row7_col1\" class=\"data row7 col1\" >0.3763</td>\n",
       "      <td id=\"T_38142_row7_col2\" class=\"data row7 col2\" >0.3488</td>\n",
       "      <td id=\"T_38142_row7_col3\" class=\"data row7 col3\" >0.5898</td>\n",
       "      <td id=\"T_38142_row7_col4\" class=\"data row7 col4\" >0.7165</td>\n",
       "      <td id=\"T_38142_row7_col5\" class=\"data row7 col5\" >0.2552</td>\n",
       "      <td id=\"T_38142_row7_col6\" class=\"data row7 col6\" >29609777587.0569</td>\n",
       "      <td id=\"T_38142_row7_col7\" class=\"data row7 col7\" >0.1640</td>\n",
       "    </tr>\n",
       "    <tr>\n",
       "      <th id=\"T_38142_level0_row8\" class=\"row_heading level0 row8\" >lr</th>\n",
       "      <td id=\"T_38142_row8_col0\" class=\"data row8 col0\" >Linear Regression</td>\n",
       "      <td id=\"T_38142_row8_col1\" class=\"data row8 col1\" >0.3806</td>\n",
       "      <td id=\"T_38142_row8_col2\" class=\"data row8 col2\" >0.3498</td>\n",
       "      <td id=\"T_38142_row8_col3\" class=\"data row8 col3\" >0.5906</td>\n",
       "      <td id=\"T_38142_row8_col4\" class=\"data row8 col4\" >0.7156</td>\n",
       "      <td id=\"T_38142_row8_col5\" class=\"data row8 col5\" >0.2571</td>\n",
       "      <td id=\"T_38142_row8_col6\" class=\"data row8 col6\" >29128802326.5856</td>\n",
       "      <td id=\"T_38142_row8_col7\" class=\"data row8 col7\" >0.1660</td>\n",
       "    </tr>\n",
       "    <tr>\n",
       "      <th id=\"T_38142_level0_row9\" class=\"row_heading level0 row9\" >br</th>\n",
       "      <td id=\"T_38142_row9_col0\" class=\"data row9 col0\" >Bayesian Ridge</td>\n",
       "      <td id=\"T_38142_row9_col1\" class=\"data row9 col1\" >0.3753</td>\n",
       "      <td id=\"T_38142_row9_col2\" class=\"data row9 col2\" >0.3547</td>\n",
       "      <td id=\"T_38142_row9_col3\" class=\"data row9 col3\" >0.5946</td>\n",
       "      <td id=\"T_38142_row9_col4\" class=\"data row9 col4\" >0.7118</td>\n",
       "      <td id=\"T_38142_row9_col5\" class=\"data row9 col5\" >0.2537</td>\n",
       "      <td id=\"T_38142_row9_col6\" class=\"data row9 col6\" >35559270014.4160</td>\n",
       "      <td id=\"T_38142_row9_col7\" class=\"data row9 col7\" >0.1580</td>\n",
       "    </tr>\n",
       "    <tr>\n",
       "      <th id=\"T_38142_level0_row10\" class=\"row_heading level0 row10\" >knn</th>\n",
       "      <td id=\"T_38142_row10_col0\" class=\"data row10 col0\" >K Neighbors Regressor</td>\n",
       "      <td id=\"T_38142_row10_col1\" class=\"data row10 col1\" >0.3488</td>\n",
       "      <td id=\"T_38142_row10_col2\" class=\"data row10 col2\" >0.3701</td>\n",
       "      <td id=\"T_38142_row10_col3\" class=\"data row10 col3\" >0.6084</td>\n",
       "      <td id=\"T_38142_row10_col4\" class=\"data row10 col4\" >0.6995</td>\n",
       "      <td id=\"T_38142_row10_col5\" class=\"data row10 col5\" >0.2651</td>\n",
       "      <td id=\"T_38142_row10_col6\" class=\"data row10 col6\" >3464177670.7302</td>\n",
       "      <td id=\"T_38142_row10_col7\" class=\"data row10 col7\" >0.1920</td>\n",
       "    </tr>\n",
       "    <tr>\n",
       "      <th id=\"T_38142_level0_row11\" class=\"row_heading level0 row11\" >huber</th>\n",
       "      <td id=\"T_38142_row11_col0\" class=\"data row11 col0\" >Huber Regressor</td>\n",
       "      <td id=\"T_38142_row11_col1\" class=\"data row11 col1\" >0.4777</td>\n",
       "      <td id=\"T_38142_row11_col2\" class=\"data row11 col2\" >0.5287</td>\n",
       "      <td id=\"T_38142_row11_col3\" class=\"data row11 col3\" >0.7266</td>\n",
       "      <td id=\"T_38142_row11_col4\" class=\"data row11 col4\" >0.5708</td>\n",
       "      <td id=\"T_38142_row11_col5\" class=\"data row11 col5\" >0.2948</td>\n",
       "      <td id=\"T_38142_row11_col6\" class=\"data row11 col6\" >18308994475.0468</td>\n",
       "      <td id=\"T_38142_row11_col7\" class=\"data row11 col7\" >0.4060</td>\n",
       "    </tr>\n",
       "    <tr>\n",
       "      <th id=\"T_38142_level0_row12\" class=\"row_heading level0 row12\" >en</th>\n",
       "      <td id=\"T_38142_row12_col0\" class=\"data row12 col0\" >Elastic Net</td>\n",
       "      <td id=\"T_38142_row12_col1\" class=\"data row12 col1\" >0.4826</td>\n",
       "      <td id=\"T_38142_row12_col2\" class=\"data row12 col2\" >0.5373</td>\n",
       "      <td id=\"T_38142_row12_col3\" class=\"data row12 col3\" >0.7327</td>\n",
       "      <td id=\"T_38142_row12_col4\" class=\"data row12 col4\" >0.5639</td>\n",
       "      <td id=\"T_38142_row12_col5\" class=\"data row12 col5\" >0.3001</td>\n",
       "      <td id=\"T_38142_row12_col6\" class=\"data row12 col6\" >17881371451.9028</td>\n",
       "      <td id=\"T_38142_row12_col7\" class=\"data row12 col7\" >0.1620</td>\n",
       "    </tr>\n",
       "    <tr>\n",
       "      <th id=\"T_38142_level0_row13\" class=\"row_heading level0 row13\" >lasso</th>\n",
       "      <td id=\"T_38142_row13_col0\" class=\"data row13 col0\" >Lasso Regression</td>\n",
       "      <td id=\"T_38142_row13_col1\" class=\"data row13 col1\" >0.4908</td>\n",
       "      <td id=\"T_38142_row13_col2\" class=\"data row13 col2\" >0.5518</td>\n",
       "      <td id=\"T_38142_row13_col3\" class=\"data row13 col3\" >0.7426</td>\n",
       "      <td id=\"T_38142_row13_col4\" class=\"data row13 col4\" >0.5522</td>\n",
       "      <td id=\"T_38142_row13_col5\" class=\"data row13 col5\" >0.3049</td>\n",
       "      <td id=\"T_38142_row13_col6\" class=\"data row13 col6\" >21648857505.1588</td>\n",
       "      <td id=\"T_38142_row13_col7\" class=\"data row13 col7\" >0.2320</td>\n",
       "    </tr>\n",
       "    <tr>\n",
       "      <th id=\"T_38142_level0_row14\" class=\"row_heading level0 row14\" >llar</th>\n",
       "      <td id=\"T_38142_row14_col0\" class=\"data row14 col0\" >Lasso Least Angle Regression</td>\n",
       "      <td id=\"T_38142_row14_col1\" class=\"data row14 col1\" >0.4908</td>\n",
       "      <td id=\"T_38142_row14_col2\" class=\"data row14 col2\" >0.5518</td>\n",
       "      <td id=\"T_38142_row14_col3\" class=\"data row14 col3\" >0.7426</td>\n",
       "      <td id=\"T_38142_row14_col4\" class=\"data row14 col4\" >0.5522</td>\n",
       "      <td id=\"T_38142_row14_col5\" class=\"data row14 col5\" >0.3050</td>\n",
       "      <td id=\"T_38142_row14_col6\" class=\"data row14 col6\" >21657467297.1589</td>\n",
       "      <td id=\"T_38142_row14_col7\" class=\"data row14 col7\" >0.1560</td>\n",
       "    </tr>\n",
       "    <tr>\n",
       "      <th id=\"T_38142_level0_row15\" class=\"row_heading level0 row15\" >ada</th>\n",
       "      <td id=\"T_38142_row15_col0\" class=\"data row15 col0\" >AdaBoost Regressor</td>\n",
       "      <td id=\"T_38142_row15_col1\" class=\"data row15 col1\" >0.5636</td>\n",
       "      <td id=\"T_38142_row15_col2\" class=\"data row15 col2\" >0.5617</td>\n",
       "      <td id=\"T_38142_row15_col3\" class=\"data row15 col3\" >0.7492</td>\n",
       "      <td id=\"T_38142_row15_col4\" class=\"data row15 col4\" >0.5437</td>\n",
       "      <td id=\"T_38142_row15_col5\" class=\"data row15 col5\" >0.3580</td>\n",
       "      <td id=\"T_38142_row15_col6\" class=\"data row15 col6\" >30885506882.0576</td>\n",
       "      <td id=\"T_38142_row15_col7\" class=\"data row15 col7\" >0.3920</td>\n",
       "    </tr>\n",
       "    <tr>\n",
       "      <th id=\"T_38142_level0_row16\" class=\"row_heading level0 row16\" >omp</th>\n",
       "      <td id=\"T_38142_row16_col0\" class=\"data row16 col0\" >Orthogonal Matching Pursuit</td>\n",
       "      <td id=\"T_38142_row16_col1\" class=\"data row16 col1\" >0.5008</td>\n",
       "      <td id=\"T_38142_row16_col2\" class=\"data row16 col2\" >0.5639</td>\n",
       "      <td id=\"T_38142_row16_col3\" class=\"data row16 col3\" >0.7505</td>\n",
       "      <td id=\"T_38142_row16_col4\" class=\"data row16 col4\" >0.5423</td>\n",
       "      <td id=\"T_38142_row16_col5\" class=\"data row16 col5\" >0.3057</td>\n",
       "      <td id=\"T_38142_row16_col6\" class=\"data row16 col6\" >21724684296.1956</td>\n",
       "      <td id=\"T_38142_row16_col7\" class=\"data row16 col7\" >0.1640</td>\n",
       "    </tr>\n",
       "    <tr>\n",
       "      <th id=\"T_38142_level0_row17\" class=\"row_heading level0 row17\" >dummy</th>\n",
       "      <td id=\"T_38142_row17_col0\" class=\"data row17 col0\" >Dummy Regressor</td>\n",
       "      <td id=\"T_38142_row17_col1\" class=\"data row17 col1\" >0.7874</td>\n",
       "      <td id=\"T_38142_row17_col2\" class=\"data row17 col2\" >1.2366</td>\n",
       "      <td id=\"T_38142_row17_col3\" class=\"data row17 col3\" >1.1118</td>\n",
       "      <td id=\"T_38142_row17_col4\" class=\"data row17 col4\" >-0.0022</td>\n",
       "      <td id=\"T_38142_row17_col5\" class=\"data row17 col5\" >0.4445</td>\n",
       "      <td id=\"T_38142_row17_col6\" class=\"data row17 col6\" >25885789420.9391</td>\n",
       "      <td id=\"T_38142_row17_col7\" class=\"data row17 col7\" >0.1360</td>\n",
       "    </tr>\n",
       "    <tr>\n",
       "      <th id=\"T_38142_level0_row18\" class=\"row_heading level0 row18\" >par</th>\n",
       "      <td id=\"T_38142_row18_col0\" class=\"data row18 col0\" >Passive Aggressive Regressor</td>\n",
       "      <td id=\"T_38142_row18_col1\" class=\"data row18 col1\" >0.9043</td>\n",
       "      <td id=\"T_38142_row18_col2\" class=\"data row18 col2\" >1.4589</td>\n",
       "      <td id=\"T_38142_row18_col3\" class=\"data row18 col3\" >1.1898</td>\n",
       "      <td id=\"T_38142_row18_col4\" class=\"data row18 col4\" >-0.1905</td>\n",
       "      <td id=\"T_38142_row18_col5\" class=\"data row18 col5\" >0.4773</td>\n",
       "      <td id=\"T_38142_row18_col6\" class=\"data row18 col6\" >92586550861.3535</td>\n",
       "      <td id=\"T_38142_row18_col7\" class=\"data row18 col7\" >0.1700</td>\n",
       "    </tr>\n",
       "    <tr>\n",
       "      <th id=\"T_38142_level0_row19\" class=\"row_heading level0 row19\" >lar</th>\n",
       "      <td id=\"T_38142_row19_col0\" class=\"data row19 col0\" >Least Angle Regression</td>\n",
       "      <td id=\"T_38142_row19_col1\" class=\"data row19 col1\" >186332457876602.2188</td>\n",
       "      <td id=\"T_38142_row19_col2\" class=\"data row19 col2\" >442900556933626946945458110464.0000</td>\n",
       "      <td id=\"T_38142_row19_col3\" class=\"data row19 col3\" >322578705044217.6250</td>\n",
       "      <td id=\"T_38142_row19_col4\" class=\"data row19 col4\" >-347526644585698610872775081984.0000</td>\n",
       "      <td id=\"T_38142_row19_col5\" class=\"data row19 col5\" >22.8384</td>\n",
       "      <td id=\"T_38142_row19_col6\" class=\"data row19 col6\" >2951259077565167494496256.0000</td>\n",
       "      <td id=\"T_38142_row19_col7\" class=\"data row19 col7\" >0.1700</td>\n",
       "    </tr>\n",
       "  </tbody>\n",
       "</table>\n"
      ],
      "text/plain": [
       "<pandas.io.formats.style.Styler at 0x1c2b9e020b0>"
      ]
     },
     "metadata": {},
     "output_type": "display_data"
    },
    {
     "data": {
      "text/html": [],
      "text/plain": [
       "<IPython.core.display.HTML object>"
      ]
     },
     "metadata": {},
     "output_type": "display_data"
    },
    {
     "data": {
      "text/html": [],
      "text/plain": [
       "<IPython.core.display.HTML object>"
      ]
     },
     "metadata": {},
     "output_type": "display_data"
    },
    {
     "data": {
      "text/html": [
       "<style type=\"text/css\">\n",
       "#T_7a584_row5_col0, #T_7a584_row5_col1, #T_7a584_row5_col2, #T_7a584_row5_col3, #T_7a584_row5_col4, #T_7a584_row5_col5 {\n",
       "  background: yellow;\n",
       "}\n",
       "</style>\n",
       "<table id=\"T_7a584\">\n",
       "  <thead>\n",
       "    <tr>\n",
       "      <th class=\"blank level0\" >&nbsp;</th>\n",
       "      <th id=\"T_7a584_level0_col0\" class=\"col_heading level0 col0\" >MAE</th>\n",
       "      <th id=\"T_7a584_level0_col1\" class=\"col_heading level0 col1\" >MSE</th>\n",
       "      <th id=\"T_7a584_level0_col2\" class=\"col_heading level0 col2\" >RMSE</th>\n",
       "      <th id=\"T_7a584_level0_col3\" class=\"col_heading level0 col3\" >R2</th>\n",
       "      <th id=\"T_7a584_level0_col4\" class=\"col_heading level0 col4\" >RMSLE</th>\n",
       "      <th id=\"T_7a584_level0_col5\" class=\"col_heading level0 col5\" >MAPE</th>\n",
       "    </tr>\n",
       "    <tr>\n",
       "      <th class=\"index_name level0\" >Fold</th>\n",
       "      <th class=\"blank col0\" >&nbsp;</th>\n",
       "      <th class=\"blank col1\" >&nbsp;</th>\n",
       "      <th class=\"blank col2\" >&nbsp;</th>\n",
       "      <th class=\"blank col3\" >&nbsp;</th>\n",
       "      <th class=\"blank col4\" >&nbsp;</th>\n",
       "      <th class=\"blank col5\" >&nbsp;</th>\n",
       "    </tr>\n",
       "  </thead>\n",
       "  <tbody>\n",
       "    <tr>\n",
       "      <th id=\"T_7a584_level0_row0\" class=\"row_heading level0 row0\" >0</th>\n",
       "      <td id=\"T_7a584_row0_col0\" class=\"data row0 col0\" >0.2533</td>\n",
       "      <td id=\"T_7a584_row0_col1\" class=\"data row0 col1\" >0.2857</td>\n",
       "      <td id=\"T_7a584_row0_col2\" class=\"data row0 col2\" >0.5345</td>\n",
       "      <td id=\"T_7a584_row0_col3\" class=\"data row0 col3\" >0.7759</td>\n",
       "      <td id=\"T_7a584_row0_col4\" class=\"data row0 col4\" >0.2140</td>\n",
       "      <td id=\"T_7a584_row0_col5\" class=\"data row0 col5\" >10.4864</td>\n",
       "    </tr>\n",
       "    <tr>\n",
       "      <th id=\"T_7a584_level0_row1\" class=\"row_heading level0 row1\" >1</th>\n",
       "      <td id=\"T_7a584_row1_col0\" class=\"data row1 col0\" >0.2647</td>\n",
       "      <td id=\"T_7a584_row1_col1\" class=\"data row1 col1\" >0.1981</td>\n",
       "      <td id=\"T_7a584_row1_col2\" class=\"data row1 col2\" >0.4451</td>\n",
       "      <td id=\"T_7a584_row1_col3\" class=\"data row1 col3\" >0.8353</td>\n",
       "      <td id=\"T_7a584_row1_col4\" class=\"data row1 col4\" >0.2115</td>\n",
       "      <td id=\"T_7a584_row1_col5\" class=\"data row1 col5\" >76152318963.0581</td>\n",
       "    </tr>\n",
       "    <tr>\n",
       "      <th id=\"T_7a584_level0_row2\" class=\"row_heading level0 row2\" >2</th>\n",
       "      <td id=\"T_7a584_row2_col0\" class=\"data row2 col0\" >0.2747</td>\n",
       "      <td id=\"T_7a584_row2_col1\" class=\"data row2 col1\" >0.3077</td>\n",
       "      <td id=\"T_7a584_row2_col2\" class=\"data row2 col2\" >0.5547</td>\n",
       "      <td id=\"T_7a584_row2_col3\" class=\"data row2 col3\" >0.7326</td>\n",
       "      <td id=\"T_7a584_row2_col4\" class=\"data row2 col4\" >0.2351</td>\n",
       "      <td id=\"T_7a584_row2_col5\" class=\"data row2 col5\" >62.9024</td>\n",
       "    </tr>\n",
       "    <tr>\n",
       "      <th id=\"T_7a584_level0_row3\" class=\"row_heading level0 row3\" >3</th>\n",
       "      <td id=\"T_7a584_row3_col0\" class=\"data row3 col0\" >0.2654</td>\n",
       "      <td id=\"T_7a584_row3_col1\" class=\"data row3 col1\" >0.2367</td>\n",
       "      <td id=\"T_7a584_row3_col2\" class=\"data row3 col2\" >0.4865</td>\n",
       "      <td id=\"T_7a584_row3_col3\" class=\"data row3 col3\" >0.8104</td>\n",
       "      <td id=\"T_7a584_row3_col4\" class=\"data row3 col4\" >0.2119</td>\n",
       "      <td id=\"T_7a584_row3_col5\" class=\"data row3 col5\" >6.6398</td>\n",
       "    </tr>\n",
       "    <tr>\n",
       "      <th id=\"T_7a584_level0_row4\" class=\"row_heading level0 row4\" >4</th>\n",
       "      <td id=\"T_7a584_row4_col0\" class=\"data row4 col0\" >0.2893</td>\n",
       "      <td id=\"T_7a584_row4_col1\" class=\"data row4 col1\" >0.2576</td>\n",
       "      <td id=\"T_7a584_row4_col2\" class=\"data row4 col2\" >0.5075</td>\n",
       "      <td id=\"T_7a584_row4_col3\" class=\"data row4 col3\" >0.8009</td>\n",
       "      <td id=\"T_7a584_row4_col4\" class=\"data row4 col4\" >0.2262</td>\n",
       "      <td id=\"T_7a584_row4_col5\" class=\"data row4 col5\" >5.0873</td>\n",
       "    </tr>\n",
       "    <tr>\n",
       "      <th id=\"T_7a584_level0_row5\" class=\"row_heading level0 row5\" >Mean</th>\n",
       "      <td id=\"T_7a584_row5_col0\" class=\"data row5 col0\" >0.2695</td>\n",
       "      <td id=\"T_7a584_row5_col1\" class=\"data row5 col1\" >0.2571</td>\n",
       "      <td id=\"T_7a584_row5_col2\" class=\"data row5 col2\" >0.5057</td>\n",
       "      <td id=\"T_7a584_row5_col3\" class=\"data row5 col3\" >0.7910</td>\n",
       "      <td id=\"T_7a584_row5_col4\" class=\"data row5 col4\" >0.2197</td>\n",
       "      <td id=\"T_7a584_row5_col5\" class=\"data row5 col5\" >15230463809.6348</td>\n",
       "    </tr>\n",
       "    <tr>\n",
       "      <th id=\"T_7a584_level0_row6\" class=\"row_heading level0 row6\" >Std</th>\n",
       "      <td id=\"T_7a584_row6_col0\" class=\"data row6 col0\" >0.0120</td>\n",
       "      <td id=\"T_7a584_row6_col1\" class=\"data row6 col1\" >0.0381</td>\n",
       "      <td id=\"T_7a584_row6_col2\" class=\"data row6 col2\" >0.0381</td>\n",
       "      <td id=\"T_7a584_row6_col3\" class=\"data row6 col3\" >0.0349</td>\n",
       "      <td id=\"T_7a584_row6_col4\" class=\"data row6 col4\" >0.0094</td>\n",
       "      <td id=\"T_7a584_row6_col5\" class=\"data row6 col5\" >30460927576.7117</td>\n",
       "    </tr>\n",
       "  </tbody>\n",
       "</table>\n"
      ],
      "text/plain": [
       "<pandas.io.formats.style.Styler at 0x1c2b9e01b70>"
      ]
     },
     "metadata": {},
     "output_type": "display_data"
    },
    {
     "data": {
      "text/html": [],
      "text/plain": [
       "<IPython.core.display.HTML object>"
      ]
     },
     "metadata": {},
     "output_type": "display_data"
    },
    {
     "name": "stdout",
     "output_type": "stream",
     "text": [
      "Fitting 5 folds for each of 1 candidates, totalling 5 fits\n",
      "Fitting 5 folds for each of 1 candidates, totalling 5 fits\n",
      "Fitting 5 folds for each of 1 candidates, totalling 5 fits\n",
      "Fitting 5 folds for each of 1 candidates, totalling 5 fits\n",
      "Fitting 5 folds for each of 1 candidates, totalling 5 fits\n",
      "Fitting 5 folds for each of 1 candidates, totalling 5 fits\n",
      "Fitting 5 folds for each of 1 candidates, totalling 5 fits\n",
      "Fitting 5 folds for each of 1 candidates, totalling 5 fits\n",
      "Fitting 5 folds for each of 1 candidates, totalling 5 fits\n",
      "Fitting 5 folds for each of 1 candidates, totalling 5 fits\n",
      "Original model was better than the tuned model, hence it will be returned. NOTE: The display metrics are for the tuned model (not the original one).\n",
      "Transformation Pipeline and Model Successfully Saved\n",
      "Transformation Pipeline and Model Successfully Loaded\n"
     ]
    },
    {
     "data": {
      "text/html": [],
      "text/plain": [
       "<IPython.core.display.HTML object>"
      ]
     },
     "metadata": {},
     "output_type": "display_data"
    },
    {
     "name": "stdout",
     "output_type": "stream",
     "text": [
      "Prediction list size: (840,)\n",
      "Prediction list size: (840,)\n"
     ]
    }
   ],
   "source": [
    "from pycaret.regression import get_config\n",
    "# Setup\n",
    "regression_setup = setup(\n",
    "    data=model_data_clean,\n",
    "    target='target',\n",
    "    session_id=123,\n",
    "    fold=5,\n",
    "    train_size=0.8,\n",
    "    n_jobs=-1,\n",
    "    remove_multicollinearity=True,\n",
    "    multicollinearity_threshold=0.9,\n",
    "    verbose=False,\n",
    "    #remove_outliers=True,\n",
    "    #outliers_threshold=0.05\n",
    "    )\n",
    "\n",
    "# Compare, Tune, Finalize \n",
    "best_model = compare_models(sort='R2', n_select=3)\n",
    "tuned_model = tune_model(best_model[0], optimize='R2', search_library='scikit-optimize')\n",
    "final_model = finalize_model(tuned_model)\n",
    "\n",
    "# Save : final_model used the metric R2.\n",
    "save_model(final_model, 'formation_energy_final_model')\n",
    "\n",
    "# Load the saved model\n",
    "model = load_model('formation_energy_final_model')\n",
    "\n",
    "# Retrieve holdout set\n",
    "X_test = get_config('X_test')\n",
    "y_test = get_config('y_test')\n",
    "X_train = get_config('X_train')\n",
    "y_train = get_config('y_train')\n",
    "\n",
    "\n",
    "# Get predictions using the final model\n",
    "predictions_df = predict_model(model, data=X_test)\n",
    "\n",
    "# The predictions are in the 'Label' column\n",
    "y_pred = predictions_df['prediction_label']\n",
    "y_pred.head()\n",
    "print(\"Prediction list size:\",  y_pred.shape)\n",
    "print(\"Prediction list size:\",  y_test.shape)"
   ]
  },
  {
   "cell_type": "code",
   "execution_count": 15,
   "id": "3d6d0c58",
   "metadata": {},
   "outputs": [
    {
     "name": "stdout",
     "output_type": "stream",
     "text": [
      "Corrected MAPE_MAE: 0.00%\n",
      "MAE_MAE: 0.0000\n",
      "RMSE_MAE: 0.0000\n",
      "R2 Score_MAE: 1.0000\n"
     ]
    }
   ],
   "source": [
    "from sklearn.metrics import mean_absolute_error, root_mean_squared_error, r2_score\n",
    "\n",
    "def safe_mape(y_true, y_pred):\n",
    "    y_true, y_pred = np.array(y_true), np.array(y_pred)\n",
    "    mask = y_true != 0  # avoid division by zero\n",
    "    return np.mean(np.abs((y_true[mask] - y_pred[mask]) / y_true[mask])) * 100\n",
    "\n",
    "corrected_mape_mae = safe_mape(y_test_mae, y_pred_mae)\n",
    "# Calculate other metrics\n",
    "mae_mae = mean_absolute_error(y_test_mae, y_pred_mae)\n",
    "rmse_mae = root_mean_squared_error(y_test_mae, y_pred_mae)\n",
    "r2_mae = r2_score(y_test_mae, y_pred_mae)\n",
    "\n",
    "print(f\"Corrected MAPE_MAE: {corrected_mape_mae:.2f}%\")\n",
    "print(f\"MAE_MAE: {mae_mae:.4f}\")\n",
    "print(f\"RMSE_MAE: {rmse_mae:.4f}\")\n",
    "print(f\"R2 Score_MAE: {r2_mae:.4f}\")"
   ]
  },
  {
   "cell_type": "markdown",
   "id": "d5b9981c",
   "metadata": {},
   "source": [
    "2. evaluation: Metric- R2"
   ]
  },
  {
   "cell_type": "code",
   "execution_count": 16,
   "id": "67cabc7b",
   "metadata": {},
   "outputs": [
    {
     "name": "stdout",
     "output_type": "stream",
     "text": [
      "Corrected MAPE: 546.51%\n",
      "MAE: 0.1097\n",
      "RMSE: 0.1904\n",
      "R2 Score: 0.9666\n"
     ]
    }
   ],
   "source": [
    "corrected_mape = safe_mape(y_test, y_pred)\n",
    "# Calculate other metrics\n",
    "mae = mean_absolute_error(y_test, y_pred)\n",
    "rmse = root_mean_squared_error(y_test, y_pred)\n",
    "r2 = r2_score(y_test, y_pred)\n",
    "\n",
    "print(f\"Corrected MAPE: {corrected_mape:.2f}%\")\n",
    "print(f\"MAE: {mae:.4f}\")\n",
    "print(f\"RMSE: {rmse:.4f}\")\n",
    "print(f\"R2 Score: {r2:.4f}\")\n"
   ]
  },
  {
   "cell_type": "markdown",
   "id": "be489181",
   "metadata": {},
   "source": [
    "# Model Analysis\n",
    "https://pycaret.gitbook.io/docs/get-started/quickstart#regression"
   ]
  },
  {
   "cell_type": "markdown",
   "id": "e366d9bc",
   "metadata": {},
   "source": [
    "1. Sort: MAE"
   ]
  },
  {
   "cell_type": "code",
   "execution_count": 17,
   "id": "619fbad1",
   "metadata": {},
   "outputs": [
    {
     "data": {
      "application/vnd.jupyter.widget-view+json": {
       "model_id": "3b0331c7115e4b0f98bfad80fadc22b2",
       "version_major": 2,
       "version_minor": 0
      },
      "text/plain": [
       "interactive(children=(ToggleButtons(description='Plot Type:', icons=('',), options=(('Pipeline Plot', 'pipelin…"
      ]
     },
     "metadata": {},
     "output_type": "display_data"
    },
    {
     "name": "stdout",
     "output_type": "stream",
     "text": [
      "[ExtraTreesRegressor(n_jobs=-1, random_state=123), <catboost.core.CatBoostRegressor object at 0x000001C2B842CD60>, XGBRegressor(base_score=None, booster='gbtree', callbacks=None,\n",
      "             colsample_bylevel=None, colsample_bynode=None,\n",
      "             colsample_bytree=None, device='cpu', early_stopping_rounds=None,\n",
      "             enable_categorical=False, eval_metric=None, feature_types=None,\n",
      "             feature_weights=None, gamma=None, grow_policy=None,\n",
      "             importance_type=None, interaction_constraints=None,\n",
      "             learning_rate=None, max_bin=None, max_cat_threshold=None,\n",
      "             max_cat_to_onehot=None, max_delta_step=None, max_depth=None,\n",
      "             max_leaves=None, min_child_weight=None, missing=nan,\n",
      "             monotone_constraints=None, multi_strategy=None, n_estimators=None,\n",
      "             n_jobs=-1, num_parallel_tree=None, ...)]\n",
      "                    Description             Value\n",
      "0                    Session id               123\n",
      "1                        Target            target\n",
      "2                   Target type        Regression\n",
      "3           Original data shape       (4200, 147)\n",
      "4        Transformed data shape        (4200, 94)\n",
      "5   Transformed train set shape        (3360, 94)\n",
      "6    Transformed test set shape         (840, 94)\n",
      "7              Numeric features               139\n",
      "8                    Preprocess              True\n",
      "9               Imputation type            simple\n",
      "10           Numeric imputation              mean\n",
      "11       Categorical imputation              mode\n",
      "12     Remove multicollinearity              True\n",
      "13  Multicollinearity threshold               0.9\n",
      "14               Fold Generator             KFold\n",
      "15                  Fold Number                 5\n",
      "16                     CPU Jobs                -1\n",
      "17                      Use GPU             False\n",
      "18               Log Experiment             False\n",
      "19              Experiment Name  reg-default-name\n",
      "20                          USI              7c45\n"
     ]
    }
   ],
   "source": [
    "from pycaret.regression import evaluate_model\n",
    "from pycaret.regression import pull\n",
    "# Setup\n",
    "regression_setup_mae = setup(\n",
    "    data=model_data_clean,\n",
    "    target='target',\n",
    "    session_id=123,\n",
    "    fold=5,\n",
    "    train_size=0.8,\n",
    "    n_jobs=-1,\n",
    "    verbose=False,\n",
    "    remove_multicollinearity=True,\n",
    "    multicollinearity_threshold=0.9,\n",
    "    #remove_outliers=True,\n",
    "    #outliers_threshold=0.05\n",
    ")\n",
    "evaluate_model(model_mae)\n",
    "print(best_model_mae)\n",
    "\n",
    "# Use pull() after evaluate_model or plot_model to grab the results\n",
    "summary_df_mae = pull()\n",
    "print(summary_df_mae)"
   ]
  },
  {
   "cell_type": "markdown",
   "id": "c2901516",
   "metadata": {},
   "source": [
    "2. Sort: R2"
   ]
  },
  {
   "cell_type": "code",
   "execution_count": 18,
   "id": "aa5d93e8",
   "metadata": {},
   "outputs": [
    {
     "data": {
      "application/vnd.jupyter.widget-view+json": {
       "model_id": "e5886ebb70274e6eb5a28137814a42d0",
       "version_major": 2,
       "version_minor": 0
      },
      "text/plain": [
       "interactive(children=(ToggleButtons(description='Plot Type:', icons=('',), options=(('Pipeline Plot', 'pipelin…"
      ]
     },
     "metadata": {},
     "output_type": "display_data"
    },
    {
     "name": "stdout",
     "output_type": "stream",
     "text": [
      "[LGBMRegressor(n_jobs=-1, random_state=123), <catboost.core.CatBoostRegressor object at 0x000001C2B9DA89D0>, RandomForestRegressor(n_jobs=-1, random_state=123)]\n",
      "                    Description             Value\n",
      "0                    Session id               123\n",
      "1                        Target            target\n",
      "2                   Target type        Regression\n",
      "3           Original data shape       (4200, 147)\n",
      "4        Transformed data shape        (4200, 94)\n",
      "5   Transformed train set shape        (3360, 94)\n",
      "6    Transformed test set shape         (840, 94)\n",
      "7              Numeric features               139\n",
      "8                    Preprocess              True\n",
      "9               Imputation type            simple\n",
      "10           Numeric imputation              mean\n",
      "11       Categorical imputation              mode\n",
      "12     Remove multicollinearity              True\n",
      "13  Multicollinearity threshold               0.9\n",
      "14               Fold Generator             KFold\n",
      "15                  Fold Number                 5\n",
      "16                     CPU Jobs                -1\n",
      "17                      Use GPU             False\n",
      "18               Log Experiment             False\n",
      "19              Experiment Name  reg-default-name\n",
      "20                          USI              9aac\n"
     ]
    }
   ],
   "source": [
    "# Setup\n",
    "regression_setup = setup(\n",
    "    data=model_data_clean,\n",
    "    target='target',\n",
    "    session_id=123,\n",
    "    fold=5,\n",
    "    train_size=0.8,\n",
    "    n_jobs=-1,\n",
    "    remove_multicollinearity=True,\n",
    "    multicollinearity_threshold=0.9,\n",
    "    verbose=False,\n",
    "    #remove_outliers=True,\n",
    "    #outliers_threshold=0.05\n",
    "    )\n",
    "\n",
    "evaluate_model(model)\n",
    "print(best_model)\n",
    "\n",
    "# Use pull() after evaluate_model or plot_model to grab the results\n",
    "summary_df = pull()\n",
    "print(summary_df)"
   ]
  }
 ],
 "metadata": {
  "kernelspec": {
   "display_name": "formation_env",
   "language": "python",
   "name": "python3"
  },
  "language_info": {
   "codemirror_mode": {
    "name": "ipython",
    "version": 3
   },
   "file_extension": ".py",
   "mimetype": "text/x-python",
   "name": "python",
   "nbconvert_exporter": "python",
   "pygments_lexer": "ipython3",
   "version": "3.10.16"
  }
 },
 "nbformat": 4,
 "nbformat_minor": 5
}
