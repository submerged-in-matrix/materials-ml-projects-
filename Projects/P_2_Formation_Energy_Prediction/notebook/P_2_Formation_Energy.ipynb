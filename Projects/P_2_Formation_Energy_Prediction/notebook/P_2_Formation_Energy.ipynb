{
 "cells": [
  {
   "cell_type": "markdown",
   "id": "1caa57cd",
   "metadata": {},
   "source": [
    "# Required Libraries"
   ]
  },
  {
   "cell_type": "code",
   "execution_count": 1,
   "id": "e1062663",
   "metadata": {},
   "outputs": [],
   "source": [
    "import pandas as pd\n",
    "import numpy as np\n",
    "import shap\n",
    "import matplotlib.pyplot as plt\n",
    "from mp_api.client import MPRester\n",
    "\n",
    "from pymatgen.core.composition import Composition\n",
    "from matminer.featurizers.composition import ElementProperty\n",
    "from matminer.featurizers.structure import DensityFeatures, GlobalSymmetryFeatures\n",
    "from pymatgen.core import Structure\n",
    "\n",
    "from pycaret.regression import setup, compare_models, tune_model, finalize_model, predict_model, save_model, load_model\n",
    "import xgboost as xgb\n",
    "import joblib"
   ]
  },
  {
   "cell_type": "markdown",
   "id": "c8a7720b",
   "metadata": {},
   "source": [
    "# Data Scrapping"
   ]
  },
  {
   "cell_type": "code",
   "execution_count": 19,
   "id": "89e1d244",
   "metadata": {},
   "outputs": [
    {
     "data": {
      "application/vnd.jupyter.widget-view+json": {
       "model_id": "0ce1bb9049894cdbb1f0687d6d8d933e",
       "version_major": 2,
       "version_minor": 0
      },
      "text/plain": [
       "Retrieving SummaryDoc documents:   0%|          | 0/4500 [00:00<?, ?it/s]"
      ]
     },
     "metadata": {},
     "output_type": "display_data"
    },
    {
     "name": "stdout",
     "output_type": "stream",
     "text": [
      "Retrieved 4500 Materials with their desired properties.\n"
     ]
    }
   ],
   "source": [
    "# 🔑 3. Fetch Data from Materials Project\n",
    "API_KEY = '2yqf6FmGq648PC6a4JaNk1jXd5G5LyKo'  # Replace with your Materials Project API key\n",
    "mpr = MPRester(API_KEY)\n",
    "\n",
    "# Fetching materials data with specific properties\n",
    "with MPRester(API_KEY) as mpr:\n",
    "        entries = mpr.materials.summary.search(\n",
    "        fields=['formula_pretty', 'formation_energy_per_atom', 'structure'],\n",
    "        num_chunks=9,\n",
    "        #num_chunks=None\n",
    "        chunk_size=500\n",
    "        )\n",
    "\n",
    "print(f\"Retrieved {len(entries)} Materials with their desired properties.\")"
   ]
  },
  {
   "cell_type": "code",
   "execution_count": 3,
   "id": "0f43e2bb",
   "metadata": {},
   "outputs": [
    {
     "name": "stdout",
     "output_type": "stream",
     "text": [
      "{'builder_meta': None, 'nsites': None, 'elements': None, 'nelements': None, 'composition': None, 'composition_reduced': None, 'formula_pretty': 'O2', 'formula_anonymous': None, 'chemsys': None, 'volume': None, 'density': None, 'density_atomic': None, 'symmetry': None, 'property_name': None, 'material_id': None, 'deprecated': None, 'deprecation_reasons': None, 'last_updated': None, 'origins': None, 'warnings': None, 'structure': Structure Summary\n",
      "Lattice\n",
      "    abc : 5.160296 5.2402447696794665 5.89021299170463\n",
      " angles : 90.23517285321574 90.49680784381113 90.25713099844408\n",
      " volume : 159.2695518855733\n",
      "      A : 5.160296 0.0 0.0\n",
      "      B : -0.023517 5.240192 0.0\n",
      "      C : -0.051073 -0.024406 5.889941\n",
      "    pbc : True True True\n",
      "PeriodicSite: O (4.4080, 2.5940, 5.8225) [0.8663, 0.4996, 0.9886]\n",
      "PeriodicSite: O (0.4295, 2.2106, 5.7774) [0.0949, 0.4264, 0.9809]\n",
      "PeriodicSite: O (1.8839, 5.1653, 3.0112) [0.3746, 0.9881, 0.5112]\n",
      "PeriodicSite: O (3.0761, 0.3396, 3.0839) [0.6016, 0.0672, 0.5236]\n",
      "PeriodicSite: O (2.5640, 4.5633, 0.0876) [0.5010, 0.8709, 0.0149]\n",
      "PeriodicSite: O (2.2015, 0.5036, 0.1107) [0.4272, 0.0962, 0.0188]\n",
      "PeriodicSite: O (4.7429, 2.1596, 2.8439) [0.9258, 0.4144, 0.4828]\n",
      "PeriodicSite: O (5.0504, 3.3623, 2.8683) [0.9865, 0.6439, 0.4870]\n",
      "PeriodicSite: O (3.1178, 1.9707, 2.9482) [0.6109, 0.3784, 0.5005]\n",
      "PeriodicSite: O (0.5208, 0.5778, 5.8410) [0.1113, 0.1149, 0.9917], 'task_ids': None, 'uncorrected_energy_per_atom': None, 'energy_per_atom': None, 'formation_energy_per_atom': 0.38701357200000003, 'energy_above_hull': None, 'is_stable': None, 'equilibrium_reaction_energy_per_atom': None, 'decomposes_to': None, 'xas': None, 'grain_boundaries': None, 'band_gap': None, 'cbm': None, 'vbm': None, 'efermi': None, 'is_gap_direct': None, 'is_metal': None, 'es_source_calc_id': None, 'bandstructure': None, 'dos': None, 'dos_energy_up': None, 'dos_energy_down': None, 'is_magnetic': None, 'ordering': None, 'total_magnetization': None, 'total_magnetization_normalized_vol': None, 'total_magnetization_normalized_formula_units': None, 'num_magnetic_sites': None, 'num_unique_magnetic_sites': None, 'types_of_magnetic_species': None, 'bulk_modulus': None, 'shear_modulus': None, 'universal_anisotropy': None, 'homogeneous_poisson': None, 'e_total': None, 'e_ionic': None, 'e_electronic': None, 'n': None, 'e_ij_max': None, 'weighted_surface_energy_EV_PER_ANG2': None, 'weighted_surface_energy': None, 'weighted_work_function': None, 'surface_anisotropy': None, 'shape_factor': None, 'has_reconstructed': None, 'possible_species': None, 'has_props': None, 'theoretical': None, 'database_IDs': None, 'fields_not_requested': ['builder_meta', 'nsites', 'elements', 'nelements', 'composition', 'composition_reduced', 'formula_anonymous', 'chemsys', 'volume', 'density', 'density_atomic', 'symmetry', 'property_name', 'material_id', 'deprecated', 'deprecation_reasons', 'last_updated', 'origins', 'warnings', 'task_ids', 'uncorrected_energy_per_atom', 'energy_per_atom', 'energy_above_hull', 'is_stable', 'equilibrium_reaction_energy_per_atom', 'decomposes_to', 'xas', 'grain_boundaries', 'band_gap', 'cbm', 'vbm', 'efermi', 'is_gap_direct', 'is_metal', 'es_source_calc_id', 'bandstructure', 'dos', 'dos_energy_up', 'dos_energy_down', 'is_magnetic', 'ordering', 'total_magnetization', 'total_magnetization_normalized_vol', 'total_magnetization_normalized_formula_units', 'num_magnetic_sites', 'num_unique_magnetic_sites', 'types_of_magnetic_species', 'bulk_modulus', 'shear_modulus', 'universal_anisotropy', 'homogeneous_poisson', 'e_total', 'e_ionic', 'e_electronic', 'n', 'e_ij_max', 'weighted_surface_energy_EV_PER_ANG2', 'weighted_surface_energy', 'weighted_work_function', 'surface_anisotropy', 'shape_factor', 'has_reconstructed', 'possible_species', 'has_props', 'theoretical', 'database_IDs']}\n"
     ]
    }
   ],
   "source": [
    "print(entries[0].model_dump())"
   ]
  },
  {
   "cell_type": "code",
   "execution_count": 21,
   "id": "f6b91e5e",
   "metadata": {},
   "outputs": [],
   "source": [
    "# --- Step 3: Convert to DataFrame for analysis ---\n",
    "# Each entry is a SummaryDoc Object; convert to rows\n",
    "data = []\n",
    "for i in entries:\n",
    "    data.append({\n",
    "        \n",
    "        \"formula\": i.formula_pretty,\n",
    "        \"structure\": i.structure,\n",
    "        \"formation_energy_per_atom\": i.formation_energy_per_atom,\n",
    "    })\n",
    "\n",
    "df = pd.DataFrame(data)\n",
    "df.to_csv(\"Formation Energy Data.csv\", index=False)"
   ]
  },
  {
   "cell_type": "code",
   "execution_count": 22,
   "id": "412980b0",
   "metadata": {},
   "outputs": [
    {
     "data": {
      "application/vnd.microsoft.datawrangler.viewer.v0+json": {
       "columns": [
        {
         "name": "index",
         "rawType": "int64",
         "type": "integer"
        },
        {
         "name": "formula",
         "rawType": "object",
         "type": "string"
        },
        {
         "name": "structure",
         "rawType": "object",
         "type": "unknown"
        },
        {
         "name": "formation_energy_per_atom",
         "rawType": "float64",
         "type": "float"
        }
       ],
       "ref": "8de20e46-2f8e-4e7e-ab09-52becdd82379",
       "rows": [
        [
         "0",
         "Nb",
         "Full Formula (Nb12)\nReduced Formula: Nb\nabc   :   5.374343   6.938011   7.179916\nangles: 107.496791 108.620266 102.624921\npbc   :       True       True       True\nSites (12)\n  #  SP           a         b         c    magmom\n---  ----  --------  --------  --------  --------\n  0  Nb    0.06949   0.140393  0.503316         0\n  1  Nb    0.509667  0.212573  0.340606         0\n  2  Nb    0.072719  0.731441  0.133756        -0\n  3  Nb    0.046112  0.405816  0.262338         0\n  4  Nb    0.024193  0.983918  0.882255        -0\n  5  Nb    0.596368  0.925967  0.050041        -0\n  6  Nb    0.683872  0.720414  0.393695        -0\n  7  Nb    0.054694  0.564241  0.697763         0\n  8  Nb    0.55334   0.563811  0.699148         0\n  9  Nb    0.42808   0.395001  0.998307        -0\n 10  Nb    0.771339  0.251176  0.789395        -0\n 11  Nb    0.336504  0.880067  0.604147         0",
         "0.18974828500000201"
        ],
        [
         "1",
         "Si",
         "Full Formula (Si8)\nReduced Formula: Si\nabc   :   5.386324   4.993065   6.889348\nangles:  69.433303 109.946767  96.593537\npbc   :       True       True       True\nSites (8)\n  #  SP           a         b         c    magmom\n---  ----  --------  --------  --------  --------\n  0  Si    0.97728   0.235972  0.117326        -0\n  1  Si    0.798476  0.55649   0.739457        -0\n  2  Si    0.421681  0.244981  0.309614         0\n  3  Si    0.789915  0.926248  0.896793         0\n  4  Si    0.769151  0.550259  0.241342         0\n  5  Si    0.444686  0.249079  0.653811        -0\n  6  Si    0.779581  0.94965   0.394804         0\n  7  Si    0.004084  0.254755  0.624565        -0",
         "0.37250966749999903"
        ],
        [
         "2",
         "Rb",
         "Full Formula (Rb8)\nReduced Formula: Rb\nabc   :   8.978624   9.419573   9.985111\nangles: 102.415193 114.107995  92.537353\npbc   :       True       True       True\nSites (8)\n  #  SP           a         b         c    magmom\n---  ----  --------  --------  --------  --------\n  0  Rb    0.388715  0.79463   0.234057         0\n  1  Rb    0.97485   0.820843  0.782301         0\n  2  Rb    0.894549  0.599739  0.269305         0\n  3  Rb    0.780495  0.299401  0.750595         0\n  4  Rb    0.273446  0.288511  0.73344          0\n  5  Rb    0.453472  0.78227   0.726238         0\n  6  Rb    0.849128  0.088731  0.22978          0\n  7  Rb    0.364381  0.302596  0.249545         0",
         "0.053649282500000006"
        ],
        [
         "3",
         "O2",
         "Full Formula (O12)\nReduced Formula: O2\nabc   :   4.930603   5.122182   7.899177\nangles:  90.627352  91.068696  90.120427\npbc   :       True       True       True\nSites (12)\n  #  SP           a         b         c    magmom\n---  ----  --------  --------  --------  --------\n  0  O     0.422065  0.729541  0.49886          0\n  1  O     0.589998  0.281141  0.995694         0\n  2  O     0.226715  0.085877  0.243923         0\n  3  O     0.771364  0.911815  0.751483         0\n  4  O     0.275322  0.584439  0.003756        -0\n  5  O     0.717125  0.408134  0.500425        -0\n  6  O     0.083515  0.219289  0.747131        -0\n  7  O     0.918165  0.7763    0.258352        -0\n  8  O     0.023646  0.975316  0.750631        -0\n  9  O     0.975594  0.020692  0.251409        -0\n 10  O     0.468419  0.483054  0.498427        -0\n 11  O     0.528073  0.524401  0.99991         -0",
         "0.419853780833333"
        ],
        [
         "4",
         "O2",
         "Full Formula (O10)\nReduced Formula: O2\nabc   :   5.160296   5.240245   5.890213\nangles:  90.235173  90.496808  90.257131\npbc   :       True       True       True\nSites (10)\n  #  SP           a         b         c    magmom\n---  ----  --------  --------  --------  --------\n  0  O     0.866281  0.499618  0.98855      0.445\n  1  O     0.094882  0.426418  0.980897     0.355\n  2  O     0.374634  0.988089  0.511237     0.445\n  3  O     0.601607  0.067239  0.523596     0.356\n  4  O     0.500982  0.870895  0.014881     0.445\n  5  O     0.42724   0.096182  0.018788     0.358\n  6  O     0.925787  0.414374  0.482834     0.358\n  7  O     0.986453  0.643905  0.486987     0.445\n  8  O     0.610868  0.378399  0.500543     0.046\n  9  O     0.111266  0.114881  0.991685     0.047",
         "0.38701357200000003"
        ]
       ],
       "shape": {
        "columns": 3,
        "rows": 5
       }
      },
      "text/html": [
       "<div>\n",
       "<style scoped>\n",
       "    .dataframe tbody tr th:only-of-type {\n",
       "        vertical-align: middle;\n",
       "    }\n",
       "\n",
       "    .dataframe tbody tr th {\n",
       "        vertical-align: top;\n",
       "    }\n",
       "\n",
       "    .dataframe thead th {\n",
       "        text-align: right;\n",
       "    }\n",
       "</style>\n",
       "<table border=\"1\" class=\"dataframe\">\n",
       "  <thead>\n",
       "    <tr style=\"text-align: right;\">\n",
       "      <th></th>\n",
       "      <th>formula</th>\n",
       "      <th>structure</th>\n",
       "      <th>formation_energy_per_atom</th>\n",
       "    </tr>\n",
       "  </thead>\n",
       "  <tbody>\n",
       "    <tr>\n",
       "      <th>0</th>\n",
       "      <td>Nb</td>\n",
       "      <td>[[-0.99328832 -0.42135479  3.13782546] Nb, [1....</td>\n",
       "      <td>0.189748</td>\n",
       "    </tr>\n",
       "    <tr>\n",
       "      <th>1</th>\n",
       "      <td>Si</td>\n",
       "      <td>[[3.02219719 3.56784026 2.0565257 ] Si, [0.964...</td>\n",
       "      <td>0.372510</td>\n",
       "    </tr>\n",
       "    <tr>\n",
       "      <th>2</th>\n",
       "      <td>Rb</td>\n",
       "      <td>[[2.2041556  6.93248144 2.06237757] Rb, [5.219...</td>\n",
       "      <td>0.053649</td>\n",
       "    </tr>\n",
       "    <tr>\n",
       "      <th>3</th>\n",
       "      <td>O2</td>\n",
       "      <td>[[1.99968417 3.6935332  3.93966005] O, [2.7593...</td>\n",
       "      <td>0.419854</td>\n",
       "    </tr>\n",
       "    <tr>\n",
       "      <th>4</th>\n",
       "      <td>O2</td>\n",
       "      <td>[[4.40802865 2.5939677  5.82250118] O, [0.4294...</td>\n",
       "      <td>0.387014</td>\n",
       "    </tr>\n",
       "  </tbody>\n",
       "</table>\n",
       "</div>"
      ],
      "text/plain": [
       "  formula                                          structure   \n",
       "0      Nb  [[-0.99328832 -0.42135479  3.13782546] Nb, [1....  \\\n",
       "1      Si  [[3.02219719 3.56784026 2.0565257 ] Si, [0.964...   \n",
       "2      Rb  [[2.2041556  6.93248144 2.06237757] Rb, [5.219...   \n",
       "3      O2  [[1.99968417 3.6935332  3.93966005] O, [2.7593...   \n",
       "4      O2  [[4.40802865 2.5939677  5.82250118] O, [0.4294...   \n",
       "\n",
       "   formation_energy_per_atom  \n",
       "0                   0.189748  \n",
       "1                   0.372510  \n",
       "2                   0.053649  \n",
       "3                   0.419854  \n",
       "4                   0.387014  "
      ]
     },
     "execution_count": 22,
     "metadata": {},
     "output_type": "execute_result"
    }
   ],
   "source": [
    "df.head()"
   ]
  },
  {
   "cell_type": "markdown",
   "id": "730f0d8a",
   "metadata": {},
   "source": [
    "# Featurization  \n",
    "Composition featurization: Used Matminers element property  which used 'Magpie presets'.  \n",
    "Structure Features: Used Matminers Desity and Global symmetry featurizers."
   ]
  },
  {
   "cell_type": "code",
   "execution_count": 23,
   "id": "3315d122",
   "metadata": {},
   "outputs": [
    {
     "data": {
      "application/vnd.jupyter.widget-view+json": {
       "model_id": "3c17061e0a734074a66a5a19abefe6bb",
       "version_major": 2,
       "version_minor": 0
      },
      "text/plain": [
       "ElementProperty:   0%|          | 0/4500 [00:00<?, ?it/s]"
      ]
     },
     "metadata": {},
     "output_type": "display_data"
    }
   ],
   "source": [
    "# 🧩 4. Feature Engineering\n",
    "#df = pd.read_csv(\"Formation Energy Data.csv\")\n",
    "df['composition'] = df['formula'].apply(Composition)\n",
    "\n",
    "# Composition Features\n",
    "ep_feat = ElementProperty.from_preset(preset_name=\"magpie\")\n",
    "df = ep_feat.featurize_dataframe(df, col_id='composition', ignore_errors=True)\n",
    "\n",
    "# Structure Features\n",
    "structure_features = []\n",
    "for s in df['structure']:\n",
    "    features = {}\n",
    "    try:\n",
    "        dens_feat = DensityFeatures().featurize(s)\n",
    "        features.update(dict(zip(DensityFeatures().feature_labels(), dens_feat)))\n",
    "\n",
    "        gsf_feat = GlobalSymmetryFeatures().featurize(s)\n",
    "        features.update(dict(zip(GlobalSymmetryFeatures().feature_labels(), gsf_feat)))\n",
    "    except Exception as e:\n",
    "        features = {f: np.nan for f in features.keys()}\n",
    "    structure_features.append(features)\n",
    "\n",
    "structure_df = pd.DataFrame(structure_features)"
   ]
  },
  {
   "cell_type": "markdown",
   "id": "6ade74dd",
   "metadata": {},
   "source": [
    "# Data curing"
   ]
  },
  {
   "cell_type": "code",
   "execution_count": 24,
   "id": "a10aca8a",
   "metadata": {},
   "outputs": [],
   "source": [
    "# Merge composition and structure features\n",
    "X = pd.concat([df, structure_df], axis=1)\n",
    "\n",
    "# Drop columns that aren't features\n",
    "X = X.drop(columns=['composition', 'structure', 'formation_energy_per_atom'])\n",
    "\n",
    "# Drop rows with any missing values\n",
    "X = X.dropna()\n",
    "\n",
    "# Now align y with the rows that remain in X,  Since we dropped rows in X, the index might be different.\n",
    "y = df.loc[X.index, 'formation_energy_per_atom']"
   ]
  },
  {
   "cell_type": "code",
   "execution_count": 25,
   "id": "141be17e",
   "metadata": {},
   "outputs": [
    {
     "name": "stdout",
     "output_type": "stream",
     "text": [
      "0    0.189748\n",
      "1    0.372510\n",
      "2    0.053649\n",
      "3    0.419854\n",
      "4    0.387014\n",
      "Name: formation_energy_per_atom, dtype: float64\n"
     ]
    }
   ],
   "source": [
    "#print(X[:5])\n",
    "print(y[:5])"
   ]
  },
  {
   "cell_type": "code",
   "execution_count": 26,
   "id": "af1b060d",
   "metadata": {},
   "outputs": [
    {
     "name": "stdout",
     "output_type": "stream",
     "text": [
      "formula                       object\n",
      "MagpieData minimum Number    float64\n",
      "MagpieData maximum Number    float64\n",
      "MagpieData range Number      float64\n",
      "MagpieData mean Number       float64\n",
      "                              ...   \n",
      "crystal_system                object\n",
      "crystal_system_int           float64\n",
      "is_centrosymmetric            object\n",
      "n_symmetry_ops               float64\n",
      "target                       float64\n",
      "Length: 142, dtype: object\n"
     ]
    }
   ],
   "source": [
    "model_data = pd.concat([X, y], axis=1)\n",
    "#model_data.to_csv(\"model_data_curated_featurized.csv\", index=False)\n",
    "model_data.rename(columns={'formation_energy_per_atom': 'target'}, inplace=True)\n",
    "print(model_data.dtypes)"
   ]
  },
  {
   "cell_type": "code",
   "execution_count": 27,
   "id": "e81b312e",
   "metadata": {},
   "outputs": [
    {
     "name": "stdout",
     "output_type": "stream",
     "text": [
      "Non-numeric columns: Index(['formula', 'crystal_system', 'is_centrosymmetric'], dtype='object')\n"
     ]
    }
   ],
   "source": [
    "non_numeric_cols = model_data.select_dtypes(include=['object']).columns\n",
    "print(\"Non-numeric columns:\", non_numeric_cols)"
   ]
  },
  {
   "cell_type": "code",
   "execution_count": 32,
   "id": "e526ad7f",
   "metadata": {},
   "outputs": [
    {
     "name": "stdout",
     "output_type": "stream",
     "text": [
      "MagpieData minimum Number      float64\n",
      "MagpieData maximum Number      float64\n",
      "MagpieData range Number        float64\n",
      "MagpieData mean Number         float64\n",
      "MagpieData avg_dev Number      float64\n",
      "                                ...   \n",
      "crystal_system_monoclinic         bool\n",
      "crystal_system_orthorhombic       bool\n",
      "crystal_system_tetragonal         bool\n",
      "crystal_system_triclinic          bool\n",
      "crystal_system_trigonal           bool\n",
      "Length: 147, dtype: object\n",
      "cleaned dataset size for model training and validation: (4200, 147)\n",
      "cleaned Unseen dataset size: (278, 147)\n"
     ]
    }
   ],
   "source": [
    "# Make a copy of your model_data\n",
    "model_data_clean = model_data.copy()\n",
    "\n",
    "# Drop 'formula' (we already extracted features from it)\n",
    "model_data_clean = model_data_clean.drop(columns=['formula'])\n",
    "\n",
    "# Handle 'crystal_system' (one-hot encoding)\n",
    "model_data_clean = pd.get_dummies(model_data_clean, columns=['crystal_system'])\n",
    "\n",
    "# Handle 'is_centrosymmetric' via one-hot-encoding (map True/False to 1/0). In some cases it might be a string, so let's handle both cases robustly\n",
    "model_data_clean['is_centrosymmetric'] = model_data_clean['is_centrosymmetric'].map({\n",
    "    True: 1, False: 0, \n",
    "    'True': 1, 'False': 0\n",
    "})\n",
    "model_data_clean.to_csv(\"model_data_all_featurized_curated.csv\", index=False)\n",
    "# Save the last 278 rows as unseen data\n",
    "unseen_data = model_data_clean.tail(278)\n",
    "model_data_clean = model_data_clean.iloc[:-278]  # saves the rest for model training and optimization\n",
    "\n",
    "# Reset index for both datasets\n",
    "model_data_clean.reset_index(drop=True, inplace=True)\n",
    "unseen_data.reset_index(drop=True, inplace=True)\n",
    "\n",
    "# Double-check dtypes\n",
    "print(model_data_clean.dtypes)\n",
    "print( \"cleaned dataset size for model training and validation:\", model_data_clean.shape)\n",
    "print( \"cleaned Unseen dataset size:\", unseen_data.shape)"
   ]
  },
  {
   "cell_type": "code",
   "execution_count": 29,
   "id": "d1313e1b",
   "metadata": {},
   "outputs": [
    {
     "name": "stdout",
     "output_type": "stream",
     "text": [
      "Non-numeric columns: Index([], dtype='object')\n"
     ]
    }
   ],
   "source": [
    "non_numeric_cols_clean = model_data_clean.select_dtypes(include=['object']).columns\n",
    "print(\"Non-numeric columns:\", non_numeric_cols_clean)"
   ]
  },
  {
   "cell_type": "markdown",
   "id": "7cc733b2",
   "metadata": {},
   "source": [
    "# Model Selection :\n",
    "Pycaret is used.  \n",
    "https://pycaret.gitbook.io/docs  \n",
    "Models were choosen based on sorting metrics: 1. mean absolute error (mae), i.e., focusing on prediction accuracy  2. R2 score, i.e., focusing on capturing the variance in the training dataset."
   ]
  },
  {
   "cell_type": "markdown",
   "id": "b0b0d895",
   "metadata": {},
   "source": [
    "1. Model Selection: Metric 'mae'"
   ]
  },
  {
   "cell_type": "code",
   "execution_count": 38,
   "id": "6f229aeb",
   "metadata": {},
   "outputs": [
    {
     "data": {
      "text/html": [],
      "text/plain": [
       "<IPython.core.display.HTML object>"
      ]
     },
     "metadata": {},
     "output_type": "display_data"
    },
    {
     "data": {
      "text/html": [
       "<style type=\"text/css\">\n",
       "#T_5872c th {\n",
       "  text-align: left;\n",
       "}\n",
       "#T_5872c_row0_col0, #T_5872c_row0_col2, #T_5872c_row0_col3, #T_5872c_row0_col4, #T_5872c_row0_col5, #T_5872c_row1_col0, #T_5872c_row1_col1, #T_5872c_row1_col2, #T_5872c_row1_col3, #T_5872c_row1_col4, #T_5872c_row1_col5, #T_5872c_row1_col6, #T_5872c_row2_col0, #T_5872c_row2_col1, #T_5872c_row2_col6, #T_5872c_row3_col0, #T_5872c_row3_col1, #T_5872c_row3_col2, #T_5872c_row3_col3, #T_5872c_row3_col4, #T_5872c_row3_col5, #T_5872c_row3_col6, #T_5872c_row4_col0, #T_5872c_row4_col1, #T_5872c_row4_col2, #T_5872c_row4_col3, #T_5872c_row4_col4, #T_5872c_row4_col5, #T_5872c_row4_col6, #T_5872c_row5_col0, #T_5872c_row5_col1, #T_5872c_row5_col2, #T_5872c_row5_col3, #T_5872c_row5_col4, #T_5872c_row5_col5, #T_5872c_row5_col6, #T_5872c_row6_col0, #T_5872c_row6_col1, #T_5872c_row6_col2, #T_5872c_row6_col3, #T_5872c_row6_col4, #T_5872c_row6_col5, #T_5872c_row6_col6, #T_5872c_row7_col0, #T_5872c_row7_col1, #T_5872c_row7_col2, #T_5872c_row7_col3, #T_5872c_row7_col4, #T_5872c_row7_col5, #T_5872c_row7_col6, #T_5872c_row8_col0, #T_5872c_row8_col1, #T_5872c_row8_col2, #T_5872c_row8_col3, #T_5872c_row8_col4, #T_5872c_row8_col5, #T_5872c_row8_col6, #T_5872c_row9_col0, #T_5872c_row9_col1, #T_5872c_row9_col2, #T_5872c_row9_col3, #T_5872c_row9_col4, #T_5872c_row9_col5, #T_5872c_row9_col6, #T_5872c_row10_col0, #T_5872c_row10_col1, #T_5872c_row10_col2, #T_5872c_row10_col3, #T_5872c_row10_col4, #T_5872c_row10_col5, #T_5872c_row10_col6, #T_5872c_row11_col0, #T_5872c_row11_col1, #T_5872c_row11_col2, #T_5872c_row11_col3, #T_5872c_row11_col4, #T_5872c_row11_col5, #T_5872c_row11_col6, #T_5872c_row12_col0, #T_5872c_row12_col1, #T_5872c_row12_col2, #T_5872c_row12_col3, #T_5872c_row12_col4, #T_5872c_row12_col5, #T_5872c_row12_col6, #T_5872c_row13_col0, #T_5872c_row13_col1, #T_5872c_row13_col2, #T_5872c_row13_col3, #T_5872c_row13_col4, #T_5872c_row13_col5, #T_5872c_row13_col6, #T_5872c_row14_col0, #T_5872c_row14_col1, #T_5872c_row14_col2, #T_5872c_row14_col3, #T_5872c_row14_col4, #T_5872c_row14_col5, #T_5872c_row14_col6, #T_5872c_row15_col0, #T_5872c_row15_col1, #T_5872c_row15_col2, #T_5872c_row15_col3, #T_5872c_row15_col4, #T_5872c_row15_col5, #T_5872c_row15_col6, #T_5872c_row16_col0, #T_5872c_row16_col1, #T_5872c_row16_col2, #T_5872c_row16_col3, #T_5872c_row16_col4, #T_5872c_row16_col5, #T_5872c_row16_col6, #T_5872c_row17_col0, #T_5872c_row17_col1, #T_5872c_row17_col2, #T_5872c_row17_col3, #T_5872c_row17_col4, #T_5872c_row17_col5, #T_5872c_row17_col6, #T_5872c_row18_col0, #T_5872c_row18_col1, #T_5872c_row18_col2, #T_5872c_row18_col3, #T_5872c_row18_col4, #T_5872c_row18_col5, #T_5872c_row18_col6, #T_5872c_row19_col0, #T_5872c_row19_col1, #T_5872c_row19_col2, #T_5872c_row19_col3, #T_5872c_row19_col4, #T_5872c_row19_col5, #T_5872c_row19_col6 {\n",
       "  text-align: left;\n",
       "}\n",
       "#T_5872c_row0_col1, #T_5872c_row0_col6, #T_5872c_row2_col2, #T_5872c_row2_col3, #T_5872c_row2_col4, #T_5872c_row2_col5 {\n",
       "  text-align: left;\n",
       "  background-color: yellow;\n",
       "}\n",
       "#T_5872c_row0_col7, #T_5872c_row1_col7, #T_5872c_row2_col7, #T_5872c_row3_col7, #T_5872c_row4_col7, #T_5872c_row5_col7, #T_5872c_row6_col7, #T_5872c_row7_col7, #T_5872c_row8_col7, #T_5872c_row9_col7, #T_5872c_row10_col7, #T_5872c_row11_col7, #T_5872c_row12_col7, #T_5872c_row13_col7, #T_5872c_row15_col7, #T_5872c_row16_col7, #T_5872c_row17_col7, #T_5872c_row18_col7, #T_5872c_row19_col7 {\n",
       "  text-align: left;\n",
       "  background-color: lightgrey;\n",
       "}\n",
       "#T_5872c_row14_col7 {\n",
       "  text-align: left;\n",
       "  background-color: yellow;\n",
       "  background-color: lightgrey;\n",
       "}\n",
       "</style>\n",
       "<table id=\"T_5872c\">\n",
       "  <thead>\n",
       "    <tr>\n",
       "      <th class=\"blank level0\" >&nbsp;</th>\n",
       "      <th id=\"T_5872c_level0_col0\" class=\"col_heading level0 col0\" >Model</th>\n",
       "      <th id=\"T_5872c_level0_col1\" class=\"col_heading level0 col1\" >MAE</th>\n",
       "      <th id=\"T_5872c_level0_col2\" class=\"col_heading level0 col2\" >MSE</th>\n",
       "      <th id=\"T_5872c_level0_col3\" class=\"col_heading level0 col3\" >RMSE</th>\n",
       "      <th id=\"T_5872c_level0_col4\" class=\"col_heading level0 col4\" >R2</th>\n",
       "      <th id=\"T_5872c_level0_col5\" class=\"col_heading level0 col5\" >RMSLE</th>\n",
       "      <th id=\"T_5872c_level0_col6\" class=\"col_heading level0 col6\" >MAPE</th>\n",
       "      <th id=\"T_5872c_level0_col7\" class=\"col_heading level0 col7\" >TT (Sec)</th>\n",
       "    </tr>\n",
       "  </thead>\n",
       "  <tbody>\n",
       "    <tr>\n",
       "      <th id=\"T_5872c_level0_row0\" class=\"row_heading level0 row0\" >catboost</th>\n",
       "      <td id=\"T_5872c_row0_col0\" class=\"data row0 col0\" >CatBoost Regressor</td>\n",
       "      <td id=\"T_5872c_row0_col1\" class=\"data row0 col1\" >0.1878</td>\n",
       "      <td id=\"T_5872c_row0_col2\" class=\"data row0 col2\" >0.1740</td>\n",
       "      <td id=\"T_5872c_row0_col3\" class=\"data row0 col3\" >0.4157</td>\n",
       "      <td id=\"T_5872c_row0_col4\" class=\"data row0 col4\" >0.8561</td>\n",
       "      <td id=\"T_5872c_row0_col5\" class=\"data row0 col5\" >0.1712</td>\n",
       "      <td id=\"T_5872c_row0_col6\" class=\"data row0 col6\" >340023054.4339</td>\n",
       "      <td id=\"T_5872c_row0_col7\" class=\"data row0 col7\" >4.7160</td>\n",
       "    </tr>\n",
       "    <tr>\n",
       "      <th id=\"T_5872c_level0_row1\" class=\"row_heading level0 row1\" >et</th>\n",
       "      <td id=\"T_5872c_row1_col0\" class=\"data row1 col0\" >Extra Trees Regressor</td>\n",
       "      <td id=\"T_5872c_row1_col1\" class=\"data row1 col1\" >0.1879</td>\n",
       "      <td id=\"T_5872c_row1_col2\" class=\"data row1 col2\" >0.2257</td>\n",
       "      <td id=\"T_5872c_row1_col3\" class=\"data row1 col3\" >0.4728</td>\n",
       "      <td id=\"T_5872c_row1_col4\" class=\"data row1 col4\" >0.8160</td>\n",
       "      <td id=\"T_5872c_row1_col5\" class=\"data row1 col5\" >0.1844</td>\n",
       "      <td id=\"T_5872c_row1_col6\" class=\"data row1 col6\" >3037721568.0704</td>\n",
       "      <td id=\"T_5872c_row1_col7\" class=\"data row1 col7\" >1.2260</td>\n",
       "    </tr>\n",
       "    <tr>\n",
       "      <th id=\"T_5872c_level0_row2\" class=\"row_heading level0 row2\" >lightgbm</th>\n",
       "      <td id=\"T_5872c_row2_col0\" class=\"data row2 col0\" >Light Gradient Boosting Machine</td>\n",
       "      <td id=\"T_5872c_row2_col1\" class=\"data row2 col1\" >0.1949</td>\n",
       "      <td id=\"T_5872c_row2_col2\" class=\"data row2 col2\" >0.1590</td>\n",
       "      <td id=\"T_5872c_row2_col3\" class=\"data row2 col3\" >0.3983</td>\n",
       "      <td id=\"T_5872c_row2_col4\" class=\"data row2 col4\" >0.8699</td>\n",
       "      <td id=\"T_5872c_row2_col5\" class=\"data row2 col5\" >0.1683</td>\n",
       "      <td id=\"T_5872c_row2_col6\" class=\"data row2 col6\" >5298939284.5912</td>\n",
       "      <td id=\"T_5872c_row2_col7\" class=\"data row2 col7\" >0.3600</td>\n",
       "    </tr>\n",
       "    <tr>\n",
       "      <th id=\"T_5872c_level0_row3\" class=\"row_heading level0 row3\" >xgboost</th>\n",
       "      <td id=\"T_5872c_row3_col0\" class=\"data row3 col0\" >Extreme Gradient Boosting</td>\n",
       "      <td id=\"T_5872c_row3_col1\" class=\"data row3 col1\" >0.1964</td>\n",
       "      <td id=\"T_5872c_row3_col2\" class=\"data row3 col2\" >0.2045</td>\n",
       "      <td id=\"T_5872c_row3_col3\" class=\"data row3 col3\" >0.4500</td>\n",
       "      <td id=\"T_5872c_row3_col4\" class=\"data row3 col4\" >0.8308</td>\n",
       "      <td id=\"T_5872c_row3_col5\" class=\"data row3 col5\" >0.1814</td>\n",
       "      <td id=\"T_5872c_row3_col6\" class=\"data row3 col6\" >2790698418.2206</td>\n",
       "      <td id=\"T_5872c_row3_col7\" class=\"data row3 col7\" >0.4180</td>\n",
       "    </tr>\n",
       "    <tr>\n",
       "      <th id=\"T_5872c_level0_row4\" class=\"row_heading level0 row4\" >rf</th>\n",
       "      <td id=\"T_5872c_row4_col0\" class=\"data row4 col0\" >Random Forest Regressor</td>\n",
       "      <td id=\"T_5872c_row4_col1\" class=\"data row4 col1\" >0.1982</td>\n",
       "      <td id=\"T_5872c_row4_col2\" class=\"data row4 col2\" >0.1919</td>\n",
       "      <td id=\"T_5872c_row4_col3\" class=\"data row4 col3\" >0.4369</td>\n",
       "      <td id=\"T_5872c_row4_col4\" class=\"data row4 col4\" >0.8429</td>\n",
       "      <td id=\"T_5872c_row4_col5\" class=\"data row4 col5\" >0.1808</td>\n",
       "      <td id=\"T_5872c_row4_col6\" class=\"data row4 col6\" >3244226853.4801</td>\n",
       "      <td id=\"T_5872c_row4_col7\" class=\"data row4 col7\" >1.7640</td>\n",
       "    </tr>\n",
       "    <tr>\n",
       "      <th id=\"T_5872c_level0_row5\" class=\"row_heading level0 row5\" >gbr</th>\n",
       "      <td id=\"T_5872c_row5_col0\" class=\"data row5 col0\" >Gradient Boosting Regressor</td>\n",
       "      <td id=\"T_5872c_row5_col1\" class=\"data row5 col1\" >0.2475</td>\n",
       "      <td id=\"T_5872c_row5_col2\" class=\"data row5 col2\" >0.2219</td>\n",
       "      <td id=\"T_5872c_row5_col3\" class=\"data row5 col3\" >0.4705</td>\n",
       "      <td id=\"T_5872c_row5_col4\" class=\"data row5 col4\" >0.8182</td>\n",
       "      <td id=\"T_5872c_row5_col5\" class=\"data row5 col5\" >0.2026</td>\n",
       "      <td id=\"T_5872c_row5_col6\" class=\"data row5 col6\" >8238406884.3511</td>\n",
       "      <td id=\"T_5872c_row5_col7\" class=\"data row5 col7\" >0.7200</td>\n",
       "    </tr>\n",
       "    <tr>\n",
       "      <th id=\"T_5872c_level0_row6\" class=\"row_heading level0 row6\" >dt</th>\n",
       "      <td id=\"T_5872c_row6_col0\" class=\"data row6 col0\" >Decision Tree Regressor</td>\n",
       "      <td id=\"T_5872c_row6_col1\" class=\"data row6 col1\" >0.2573</td>\n",
       "      <td id=\"T_5872c_row6_col2\" class=\"data row6 col2\" >0.3598</td>\n",
       "      <td id=\"T_5872c_row6_col3\" class=\"data row6 col3\" >0.5953</td>\n",
       "      <td id=\"T_5872c_row6_col4\" class=\"data row6 col4\" >0.7067</td>\n",
       "      <td id=\"T_5872c_row6_col5\" class=\"data row6 col5\" >0.2312</td>\n",
       "      <td id=\"T_5872c_row6_col6\" class=\"data row6 col6\" >1900855440.5502</td>\n",
       "      <td id=\"T_5872c_row6_col7\" class=\"data row6 col7\" >0.2240</td>\n",
       "    </tr>\n",
       "    <tr>\n",
       "      <th id=\"T_5872c_level0_row7\" class=\"row_heading level0 row7\" >knn</th>\n",
       "      <td id=\"T_5872c_row7_col0\" class=\"data row7 col0\" >K Neighbors Regressor</td>\n",
       "      <td id=\"T_5872c_row7_col1\" class=\"data row7 col1\" >0.3564</td>\n",
       "      <td id=\"T_5872c_row7_col2\" class=\"data row7 col2\" >0.3778</td>\n",
       "      <td id=\"T_5872c_row7_col3\" class=\"data row7 col3\" >0.6137</td>\n",
       "      <td id=\"T_5872c_row7_col4\" class=\"data row7 col4\" >0.6933</td>\n",
       "      <td id=\"T_5872c_row7_col5\" class=\"data row7 col5\" >0.2680</td>\n",
       "      <td id=\"T_5872c_row7_col6\" class=\"data row7 col6\" >6046160927.8449</td>\n",
       "      <td id=\"T_5872c_row7_col7\" class=\"data row7 col7\" >0.1660</td>\n",
       "    </tr>\n",
       "    <tr>\n",
       "      <th id=\"T_5872c_level0_row8\" class=\"row_heading level0 row8\" >br</th>\n",
       "      <td id=\"T_5872c_row8_col0\" class=\"data row8 col0\" >Bayesian Ridge</td>\n",
       "      <td id=\"T_5872c_row8_col1\" class=\"data row8 col1\" >0.3820</td>\n",
       "      <td id=\"T_5872c_row8_col2\" class=\"data row8 col2\" >0.3615</td>\n",
       "      <td id=\"T_5872c_row8_col3\" class=\"data row8 col3\" >0.6004</td>\n",
       "      <td id=\"T_5872c_row8_col4\" class=\"data row8 col4\" >0.7051</td>\n",
       "      <td id=\"T_5872c_row8_col5\" class=\"data row8 col5\" >0.2570</td>\n",
       "      <td id=\"T_5872c_row8_col6\" class=\"data row8 col6\" >28102351281.8766</td>\n",
       "      <td id=\"T_5872c_row8_col7\" class=\"data row8 col7\" >0.1720</td>\n",
       "    </tr>\n",
       "    <tr>\n",
       "      <th id=\"T_5872c_level0_row9\" class=\"row_heading level0 row9\" >ridge</th>\n",
       "      <td id=\"T_5872c_row9_col0\" class=\"data row9 col0\" >Ridge Regression</td>\n",
       "      <td id=\"T_5872c_row9_col1\" class=\"data row9 col1\" >0.3831</td>\n",
       "      <td id=\"T_5872c_row9_col2\" class=\"data row9 col2\" >0.3584</td>\n",
       "      <td id=\"T_5872c_row9_col3\" class=\"data row9 col3\" >0.5979</td>\n",
       "      <td id=\"T_5872c_row9_col4\" class=\"data row9 col4\" >0.7074</td>\n",
       "      <td id=\"T_5872c_row9_col5\" class=\"data row9 col5\" >0.2573</td>\n",
       "      <td id=\"T_5872c_row9_col6\" class=\"data row9 col6\" >21186981092.2851</td>\n",
       "      <td id=\"T_5872c_row9_col7\" class=\"data row9 col7\" >0.1660</td>\n",
       "    </tr>\n",
       "    <tr>\n",
       "      <th id=\"T_5872c_level0_row10\" class=\"row_heading level0 row10\" >lr</th>\n",
       "      <td id=\"T_5872c_row10_col0\" class=\"data row10 col0\" >Linear Regression</td>\n",
       "      <td id=\"T_5872c_row10_col1\" class=\"data row10 col1\" >0.3844</td>\n",
       "      <td id=\"T_5872c_row10_col2\" class=\"data row10 col2\" >0.3588</td>\n",
       "      <td id=\"T_5872c_row10_col3\" class=\"data row10 col3\" >0.5983</td>\n",
       "      <td id=\"T_5872c_row10_col4\" class=\"data row10 col4\" >0.7071</td>\n",
       "      <td id=\"T_5872c_row10_col5\" class=\"data row10 col5\" >0.2576</td>\n",
       "      <td id=\"T_5872c_row10_col6\" class=\"data row10 col6\" >20039327767.5294</td>\n",
       "      <td id=\"T_5872c_row10_col7\" class=\"data row10 col7\" >3.3540</td>\n",
       "    </tr>\n",
       "    <tr>\n",
       "      <th id=\"T_5872c_level0_row11\" class=\"row_heading level0 row11\" >huber</th>\n",
       "      <td id=\"T_5872c_row11_col0\" class=\"data row11 col0\" >Huber Regressor</td>\n",
       "      <td id=\"T_5872c_row11_col1\" class=\"data row11 col1\" >0.4805</td>\n",
       "      <td id=\"T_5872c_row11_col2\" class=\"data row11 col2\" >0.5271</td>\n",
       "      <td id=\"T_5872c_row11_col3\" class=\"data row11 col3\" >0.7250</td>\n",
       "      <td id=\"T_5872c_row11_col4\" class=\"data row11 col4\" >0.5710</td>\n",
       "      <td id=\"T_5872c_row11_col5\" class=\"data row11 col5\" >0.2937</td>\n",
       "      <td id=\"T_5872c_row11_col6\" class=\"data row11 col6\" >15467068950.7630</td>\n",
       "      <td id=\"T_5872c_row11_col7\" class=\"data row11 col7\" >0.4160</td>\n",
       "    </tr>\n",
       "    <tr>\n",
       "      <th id=\"T_5872c_level0_row12\" class=\"row_heading level0 row12\" >en</th>\n",
       "      <td id=\"T_5872c_row12_col0\" class=\"data row12 col0\" >Elastic Net</td>\n",
       "      <td id=\"T_5872c_row12_col1\" class=\"data row12 col1\" >0.4831</td>\n",
       "      <td id=\"T_5872c_row12_col2\" class=\"data row12 col2\" >0.5314</td>\n",
       "      <td id=\"T_5872c_row12_col3\" class=\"data row12 col3\" >0.7279</td>\n",
       "      <td id=\"T_5872c_row12_col4\" class=\"data row12 col4\" >0.5677</td>\n",
       "      <td id=\"T_5872c_row12_col5\" class=\"data row12 col5\" >0.2994</td>\n",
       "      <td id=\"T_5872c_row12_col6\" class=\"data row12 col6\" >17681550566.4538</td>\n",
       "      <td id=\"T_5872c_row12_col7\" class=\"data row12 col7\" >0.1860</td>\n",
       "    </tr>\n",
       "    <tr>\n",
       "      <th id=\"T_5872c_level0_row13\" class=\"row_heading level0 row13\" >lasso</th>\n",
       "      <td id=\"T_5872c_row13_col0\" class=\"data row13 col0\" >Lasso Regression</td>\n",
       "      <td id=\"T_5872c_row13_col1\" class=\"data row13 col1\" >0.4915</td>\n",
       "      <td id=\"T_5872c_row13_col2\" class=\"data row13 col2\" >0.5461</td>\n",
       "      <td id=\"T_5872c_row13_col3\" class=\"data row13 col3\" >0.7379</td>\n",
       "      <td id=\"T_5872c_row13_col4\" class=\"data row13 col4\" >0.5556</td>\n",
       "      <td id=\"T_5872c_row13_col5\" class=\"data row13 col5\" >0.3043</td>\n",
       "      <td id=\"T_5872c_row13_col6\" class=\"data row13 col6\" >19851383631.7671</td>\n",
       "      <td id=\"T_5872c_row13_col7\" class=\"data row13 col7\" >2.2780</td>\n",
       "    </tr>\n",
       "    <tr>\n",
       "      <th id=\"T_5872c_level0_row14\" class=\"row_heading level0 row14\" >llar</th>\n",
       "      <td id=\"T_5872c_row14_col0\" class=\"data row14 col0\" >Lasso Least Angle Regression</td>\n",
       "      <td id=\"T_5872c_row14_col1\" class=\"data row14 col1\" >0.4915</td>\n",
       "      <td id=\"T_5872c_row14_col2\" class=\"data row14 col2\" >0.5461</td>\n",
       "      <td id=\"T_5872c_row14_col3\" class=\"data row14 col3\" >0.7379</td>\n",
       "      <td id=\"T_5872c_row14_col4\" class=\"data row14 col4\" >0.5556</td>\n",
       "      <td id=\"T_5872c_row14_col5\" class=\"data row14 col5\" >0.3043</td>\n",
       "      <td id=\"T_5872c_row14_col6\" class=\"data row14 col6\" >19861286121.3732</td>\n",
       "      <td id=\"T_5872c_row14_col7\" class=\"data row14 col7\" >0.1640</td>\n",
       "    </tr>\n",
       "    <tr>\n",
       "      <th id=\"T_5872c_level0_row15\" class=\"row_heading level0 row15\" >omp</th>\n",
       "      <td id=\"T_5872c_row15_col0\" class=\"data row15 col0\" >Orthogonal Matching Pursuit</td>\n",
       "      <td id=\"T_5872c_row15_col1\" class=\"data row15 col1\" >0.5002</td>\n",
       "      <td id=\"T_5872c_row15_col2\" class=\"data row15 col2\" >0.5537</td>\n",
       "      <td id=\"T_5872c_row15_col3\" class=\"data row15 col3\" >0.7434</td>\n",
       "      <td id=\"T_5872c_row15_col4\" class=\"data row15 col4\" >0.5489</td>\n",
       "      <td id=\"T_5872c_row15_col5\" class=\"data row15 col5\" >0.3036</td>\n",
       "      <td id=\"T_5872c_row15_col6\" class=\"data row15 col6\" >17715129578.7203</td>\n",
       "      <td id=\"T_5872c_row15_col7\" class=\"data row15 col7\" >0.1680</td>\n",
       "    </tr>\n",
       "    <tr>\n",
       "      <th id=\"T_5872c_level0_row16\" class=\"row_heading level0 row16\" >ada</th>\n",
       "      <td id=\"T_5872c_row16_col0\" class=\"data row16 col0\" >AdaBoost Regressor</td>\n",
       "      <td id=\"T_5872c_row16_col1\" class=\"data row16 col1\" >0.5783</td>\n",
       "      <td id=\"T_5872c_row16_col2\" class=\"data row16 col2\" >0.5579</td>\n",
       "      <td id=\"T_5872c_row16_col3\" class=\"data row16 col3\" >0.7456</td>\n",
       "      <td id=\"T_5872c_row16_col4\" class=\"data row16 col4\" >0.5393</td>\n",
       "      <td id=\"T_5872c_row16_col5\" class=\"data row16 col5\" >0.3532</td>\n",
       "      <td id=\"T_5872c_row16_col6\" class=\"data row16 col6\" >12672518485.9552</td>\n",
       "      <td id=\"T_5872c_row16_col7\" class=\"data row16 col7\" >0.3920</td>\n",
       "    </tr>\n",
       "    <tr>\n",
       "      <th id=\"T_5872c_level0_row17\" class=\"row_heading level0 row17\" >dummy</th>\n",
       "      <td id=\"T_5872c_row17_col0\" class=\"data row17 col0\" >Dummy Regressor</td>\n",
       "      <td id=\"T_5872c_row17_col1\" class=\"data row17 col1\" >0.7884</td>\n",
       "      <td id=\"T_5872c_row17_col2\" class=\"data row17 col2\" >1.2320</td>\n",
       "      <td id=\"T_5872c_row17_col3\" class=\"data row17 col3\" >1.1090</td>\n",
       "      <td id=\"T_5872c_row17_col4\" class=\"data row17 col4\" >-0.0019</td>\n",
       "      <td id=\"T_5872c_row17_col5\" class=\"data row17 col5\" >0.4438</td>\n",
       "      <td id=\"T_5872c_row17_col6\" class=\"data row17 col6\" >26764935215.8370</td>\n",
       "      <td id=\"T_5872c_row17_col7\" class=\"data row17 col7\" >0.2340</td>\n",
       "    </tr>\n",
       "    <tr>\n",
       "      <th id=\"T_5872c_level0_row18\" class=\"row_heading level0 row18\" >par</th>\n",
       "      <td id=\"T_5872c_row18_col0\" class=\"data row18 col0\" >Passive Aggressive Regressor</td>\n",
       "      <td id=\"T_5872c_row18_col1\" class=\"data row18 col1\" >0.8515</td>\n",
       "      <td id=\"T_5872c_row18_col2\" class=\"data row18 col2\" >1.3156</td>\n",
       "      <td id=\"T_5872c_row18_col3\" class=\"data row18 col3\" >1.1265</td>\n",
       "      <td id=\"T_5872c_row18_col4\" class=\"data row18 col4\" >-0.0703</td>\n",
       "      <td id=\"T_5872c_row18_col5\" class=\"data row18 col5\" >0.4666</td>\n",
       "      <td id=\"T_5872c_row18_col6\" class=\"data row18 col6\" >25899377331.3859</td>\n",
       "      <td id=\"T_5872c_row18_col7\" class=\"data row18 col7\" >0.1740</td>\n",
       "    </tr>\n",
       "    <tr>\n",
       "      <th id=\"T_5872c_level0_row19\" class=\"row_heading level0 row19\" >lar</th>\n",
       "      <td id=\"T_5872c_row19_col0\" class=\"data row19 col0\" >Least Angle Regression</td>\n",
       "      <td id=\"T_5872c_row19_col1\" class=\"data row19 col1\" >1716073492158.9263</td>\n",
       "      <td id=\"T_5872c_row19_col2\" class=\"data row19 col2\" >79032112639106313153937408.0000</td>\n",
       "      <td id=\"T_5872c_row19_col3\" class=\"data row19 col3\" >4288018295816.3960</td>\n",
       "      <td id=\"T_5872c_row19_col4\" class=\"data row19 col4\" >-67127944697826160756654080.0000</td>\n",
       "      <td id=\"T_5872c_row19_col5\" class=\"data row19 col5\" >19.8664</td>\n",
       "      <td id=\"T_5872c_row19_col6\" class=\"data row19 col6\" >10634617517389502464.0000</td>\n",
       "      <td id=\"T_5872c_row19_col7\" class=\"data row19 col7\" >0.2360</td>\n",
       "    </tr>\n",
       "  </tbody>\n",
       "</table>\n"
      ],
      "text/plain": [
       "<pandas.io.formats.style.Styler at 0x1e243ebaec0>"
      ]
     },
     "metadata": {},
     "output_type": "display_data"
    },
    {
     "data": {
      "text/html": [],
      "text/plain": [
       "<IPython.core.display.HTML object>"
      ]
     },
     "metadata": {},
     "output_type": "display_data"
    },
    {
     "data": {
      "text/html": [],
      "text/plain": [
       "<IPython.core.display.HTML object>"
      ]
     },
     "metadata": {},
     "output_type": "display_data"
    },
    {
     "data": {
      "text/html": [
       "<style type=\"text/css\">\n",
       "#T_ccdbb_row5_col0, #T_ccdbb_row5_col1, #T_ccdbb_row5_col2, #T_ccdbb_row5_col3, #T_ccdbb_row5_col4, #T_ccdbb_row5_col5 {\n",
       "  background: yellow;\n",
       "}\n",
       "</style>\n",
       "<table id=\"T_ccdbb\">\n",
       "  <thead>\n",
       "    <tr>\n",
       "      <th class=\"blank level0\" >&nbsp;</th>\n",
       "      <th id=\"T_ccdbb_level0_col0\" class=\"col_heading level0 col0\" >MAE</th>\n",
       "      <th id=\"T_ccdbb_level0_col1\" class=\"col_heading level0 col1\" >MSE</th>\n",
       "      <th id=\"T_ccdbb_level0_col2\" class=\"col_heading level0 col2\" >RMSE</th>\n",
       "      <th id=\"T_ccdbb_level0_col3\" class=\"col_heading level0 col3\" >R2</th>\n",
       "      <th id=\"T_ccdbb_level0_col4\" class=\"col_heading level0 col4\" >RMSLE</th>\n",
       "      <th id=\"T_ccdbb_level0_col5\" class=\"col_heading level0 col5\" >MAPE</th>\n",
       "    </tr>\n",
       "    <tr>\n",
       "      <th class=\"index_name level0\" >Fold</th>\n",
       "      <th class=\"blank col0\" >&nbsp;</th>\n",
       "      <th class=\"blank col1\" >&nbsp;</th>\n",
       "      <th class=\"blank col2\" >&nbsp;</th>\n",
       "      <th class=\"blank col3\" >&nbsp;</th>\n",
       "      <th class=\"blank col4\" >&nbsp;</th>\n",
       "      <th class=\"blank col5\" >&nbsp;</th>\n",
       "    </tr>\n",
       "  </thead>\n",
       "  <tbody>\n",
       "    <tr>\n",
       "      <th id=\"T_ccdbb_level0_row0\" class=\"row_heading level0 row0\" >0</th>\n",
       "      <td id=\"T_ccdbb_row0_col0\" class=\"data row0 col0\" >0.2901</td>\n",
       "      <td id=\"T_ccdbb_row0_col1\" class=\"data row0 col1\" >0.3337</td>\n",
       "      <td id=\"T_ccdbb_row0_col2\" class=\"data row0 col2\" >0.5776</td>\n",
       "      <td id=\"T_ccdbb_row0_col3\" class=\"data row0 col3\" >0.7532</td>\n",
       "      <td id=\"T_ccdbb_row0_col4\" class=\"data row0 col4\" >0.2293</td>\n",
       "      <td id=\"T_ccdbb_row0_col5\" class=\"data row0 col5\" >2.6924</td>\n",
       "    </tr>\n",
       "    <tr>\n",
       "      <th id=\"T_ccdbb_level0_row1\" class=\"row_heading level0 row1\" >1</th>\n",
       "      <td id=\"T_ccdbb_row1_col0\" class=\"data row1 col0\" >0.3051</td>\n",
       "      <td id=\"T_ccdbb_row1_col1\" class=\"data row1 col1\" >0.2502</td>\n",
       "      <td id=\"T_ccdbb_row1_col2\" class=\"data row1 col2\" >0.5002</td>\n",
       "      <td id=\"T_ccdbb_row1_col3\" class=\"data row1 col3\" >0.8018</td>\n",
       "      <td id=\"T_ccdbb_row1_col4\" class=\"data row1 col4\" >0.2327</td>\n",
       "      <td id=\"T_ccdbb_row1_col5\" class=\"data row1 col5\" >185.0053</td>\n",
       "    </tr>\n",
       "    <tr>\n",
       "      <th id=\"T_ccdbb_level0_row2\" class=\"row_heading level0 row2\" >2</th>\n",
       "      <td id=\"T_ccdbb_row2_col0\" class=\"data row2 col0\" >0.3049</td>\n",
       "      <td id=\"T_ccdbb_row2_col1\" class=\"data row2 col1\" >0.3033</td>\n",
       "      <td id=\"T_ccdbb_row2_col2\" class=\"data row2 col2\" >0.5507</td>\n",
       "      <td id=\"T_ccdbb_row2_col3\" class=\"data row2 col3\" >0.7423</td>\n",
       "      <td id=\"T_ccdbb_row2_col4\" class=\"data row2 col4\" >0.2392</td>\n",
       "      <td id=\"T_ccdbb_row2_col5\" class=\"data row2 col5\" >15.9670</td>\n",
       "    </tr>\n",
       "    <tr>\n",
       "      <th id=\"T_ccdbb_level0_row3\" class=\"row_heading level0 row3\" >3</th>\n",
       "      <td id=\"T_ccdbb_row3_col0\" class=\"data row3 col0\" >0.2832</td>\n",
       "      <td id=\"T_ccdbb_row3_col1\" class=\"data row3 col1\" >0.2106</td>\n",
       "      <td id=\"T_ccdbb_row3_col2\" class=\"data row3 col2\" >0.4589</td>\n",
       "      <td id=\"T_ccdbb_row3_col3\" class=\"data row3 col3\" >0.8361</td>\n",
       "      <td id=\"T_ccdbb_row3_col4\" class=\"data row3 col4\" >0.2022</td>\n",
       "      <td id=\"T_ccdbb_row3_col5\" class=\"data row3 col5\" >6.9890</td>\n",
       "    </tr>\n",
       "    <tr>\n",
       "      <th id=\"T_ccdbb_level0_row4\" class=\"row_heading level0 row4\" >4</th>\n",
       "      <td id=\"T_ccdbb_row4_col0\" class=\"data row4 col0\" >0.3073</td>\n",
       "      <td id=\"T_ccdbb_row4_col1\" class=\"data row4 col1\" >0.2336</td>\n",
       "      <td id=\"T_ccdbb_row4_col2\" class=\"data row4 col2\" >0.4833</td>\n",
       "      <td id=\"T_ccdbb_row4_col3\" class=\"data row4 col3\" >0.7820</td>\n",
       "      <td id=\"T_ccdbb_row4_col4\" class=\"data row4 col4\" >0.2322</td>\n",
       "      <td id=\"T_ccdbb_row4_col5\" class=\"data row4 col5\" >57547223170.6349</td>\n",
       "    </tr>\n",
       "    <tr>\n",
       "      <th id=\"T_ccdbb_level0_row5\" class=\"row_heading level0 row5\" >Mean</th>\n",
       "      <td id=\"T_ccdbb_row5_col0\" class=\"data row5 col0\" >0.2981</td>\n",
       "      <td id=\"T_ccdbb_row5_col1\" class=\"data row5 col1\" >0.2663</td>\n",
       "      <td id=\"T_ccdbb_row5_col2\" class=\"data row5 col2\" >0.5142</td>\n",
       "      <td id=\"T_ccdbb_row5_col3\" class=\"data row5 col3\" >0.7831</td>\n",
       "      <td id=\"T_ccdbb_row5_col4\" class=\"data row5 col4\" >0.2271</td>\n",
       "      <td id=\"T_ccdbb_row5_col5\" class=\"data row5 col5\" >11509444676.2577</td>\n",
       "    </tr>\n",
       "    <tr>\n",
       "      <th id=\"T_ccdbb_level0_row6\" class=\"row_heading level0 row6\" >Std</th>\n",
       "      <td id=\"T_ccdbb_row6_col0\" class=\"data row6 col0\" >0.0097</td>\n",
       "      <td id=\"T_ccdbb_row6_col1\" class=\"data row6 col1\" >0.0455</td>\n",
       "      <td id=\"T_ccdbb_row6_col2\" class=\"data row6 col2\" >0.0437</td>\n",
       "      <td id=\"T_ccdbb_row6_col3\" class=\"data row6 col3\" >0.0338</td>\n",
       "      <td id=\"T_ccdbb_row6_col4\" class=\"data row6 col4\" >0.0129</td>\n",
       "      <td id=\"T_ccdbb_row6_col5\" class=\"data row6 col5\" >23018889247.1886</td>\n",
       "    </tr>\n",
       "  </tbody>\n",
       "</table>\n"
      ],
      "text/plain": [
       "<pandas.io.formats.style.Styler at 0x1e25363f190>"
      ]
     },
     "metadata": {},
     "output_type": "display_data"
    },
    {
     "data": {
      "text/html": [],
      "text/plain": [
       "<IPython.core.display.HTML object>"
      ]
     },
     "metadata": {},
     "output_type": "display_data"
    },
    {
     "name": "stdout",
     "output_type": "stream",
     "text": [
      "Fitting 5 folds for each of 1 candidates, totalling 5 fits\n",
      "Fitting 5 folds for each of 1 candidates, totalling 5 fits\n",
      "Fitting 5 folds for each of 1 candidates, totalling 5 fits\n",
      "Fitting 5 folds for each of 1 candidates, totalling 5 fits\n",
      "Fitting 5 folds for each of 1 candidates, totalling 5 fits\n",
      "Fitting 5 folds for each of 1 candidates, totalling 5 fits\n",
      "Fitting 5 folds for each of 1 candidates, totalling 5 fits\n",
      "Fitting 5 folds for each of 1 candidates, totalling 5 fits\n",
      "Fitting 5 folds for each of 1 candidates, totalling 5 fits\n",
      "Fitting 5 folds for each of 1 candidates, totalling 5 fits\n",
      "Original model was better than the tuned model, hence it will be returned. NOTE: The display metrics are for the tuned model (not the original one).\n",
      "Transformation Pipeline and Model Successfully Saved\n",
      "Transformation Pipeline and Model Successfully Loaded\n"
     ]
    },
    {
     "data": {
      "text/html": [],
      "text/plain": [
       "<IPython.core.display.HTML object>"
      ]
     },
     "metadata": {},
     "output_type": "display_data"
    },
    {
     "name": "stdout",
     "output_type": "stream",
     "text": [
      "Prediction_mae list size: (840,)\n",
      "target_test_mae list size: (840,)\n"
     ]
    }
   ],
   "source": [
    "from pycaret.regression import *\n",
    "# Setup\n",
    "regression_setup_mae = setup(\n",
    "    data=model_data_clean,\n",
    "    target='target',\n",
    "    session_id=123,\n",
    "    fold=5,\n",
    "    train_size=0.8,\n",
    "    n_jobs=-1,\n",
    "    verbose=False,\n",
    "    remove_multicollinearity=True,\n",
    "    multicollinearity_threshold=0.9,\n",
    "    #remove_outliers=True,\n",
    "    #outliers_threshold=0.05\n",
    ")\n",
    "\n",
    "# Compare, tune, finalize models\n",
    "best_model_mae = compare_models(sort='MAE', n_select=3)\n",
    "# Save MAE leaderboard\n",
    "leaderboard_mae = pull()[['Model', 'MAE', 'R2']].head(3)\n",
    "\n",
    "tuned_model_mae = tune_model(best_model_mae[0], optimize='MAE', search_library='scikit-optimize')\n",
    "final_model_mae= finalize_model(tuned_model_mae)\n",
    "\n",
    "# Save : final_model used the metric R2.\n",
    "save_model(final_model_mae, 'formation_energy_final_model_mae')\n",
    "\n",
    "# Load the saved model\n",
    "model_mae = load_model('formation_energy_final_model_mae')\n",
    "\n",
    "# Retrieve holdout set\n",
    "X_test_mae = get_config('X_test')\n",
    "y_test_mae = get_config('y_test')\n",
    "X_train_mae = get_config('X_train')\n",
    "y_train_mae = get_config('y_train')\n",
    "\n",
    "# Get predictions using the final model\n",
    "predictions_df_mae = predict_model(model_mae, data=X_test_mae)\n",
    "\n",
    "# The predictions are in the 'Label' column\n",
    "y_pred_mae = predictions_df_mae['prediction_label']\n",
    "y_pred_mae.head()\n",
    "print(\"Prediction_mae list size:\",  y_pred_mae.shape)\n",
    "print(\"target_test_mae list size:\",  y_test_mae.shape)"
   ]
  },
  {
   "cell_type": "markdown",
   "id": "be81b091",
   "metadata": {},
   "source": [
    "2. Model selection: Metric R2"
   ]
  },
  {
   "cell_type": "code",
   "execution_count": 37,
   "id": "ac52ace4",
   "metadata": {},
   "outputs": [
    {
     "data": {
      "text/html": [],
      "text/plain": [
       "<IPython.core.display.HTML object>"
      ]
     },
     "metadata": {},
     "output_type": "display_data"
    },
    {
     "data": {
      "text/html": [
       "<style type=\"text/css\">\n",
       "#T_5c3d5 th {\n",
       "  text-align: left;\n",
       "}\n",
       "#T_5c3d5_row0_col0, #T_5c3d5_row0_col1, #T_5c3d5_row0_col6, #T_5c3d5_row1_col0, #T_5c3d5_row1_col2, #T_5c3d5_row1_col3, #T_5c3d5_row1_col4, #T_5c3d5_row1_col5, #T_5c3d5_row2_col0, #T_5c3d5_row2_col1, #T_5c3d5_row2_col2, #T_5c3d5_row2_col3, #T_5c3d5_row2_col4, #T_5c3d5_row2_col5, #T_5c3d5_row2_col6, #T_5c3d5_row3_col0, #T_5c3d5_row3_col1, #T_5c3d5_row3_col2, #T_5c3d5_row3_col3, #T_5c3d5_row3_col4, #T_5c3d5_row3_col5, #T_5c3d5_row3_col6, #T_5c3d5_row4_col0, #T_5c3d5_row4_col1, #T_5c3d5_row4_col2, #T_5c3d5_row4_col3, #T_5c3d5_row4_col4, #T_5c3d5_row4_col5, #T_5c3d5_row4_col6, #T_5c3d5_row5_col0, #T_5c3d5_row5_col1, #T_5c3d5_row5_col2, #T_5c3d5_row5_col3, #T_5c3d5_row5_col4, #T_5c3d5_row5_col5, #T_5c3d5_row5_col6, #T_5c3d5_row6_col0, #T_5c3d5_row6_col1, #T_5c3d5_row6_col2, #T_5c3d5_row6_col3, #T_5c3d5_row6_col4, #T_5c3d5_row6_col5, #T_5c3d5_row6_col6, #T_5c3d5_row7_col0, #T_5c3d5_row7_col1, #T_5c3d5_row7_col2, #T_5c3d5_row7_col3, #T_5c3d5_row7_col4, #T_5c3d5_row7_col5, #T_5c3d5_row7_col6, #T_5c3d5_row8_col0, #T_5c3d5_row8_col1, #T_5c3d5_row8_col2, #T_5c3d5_row8_col3, #T_5c3d5_row8_col4, #T_5c3d5_row8_col5, #T_5c3d5_row8_col6, #T_5c3d5_row9_col0, #T_5c3d5_row9_col1, #T_5c3d5_row9_col2, #T_5c3d5_row9_col3, #T_5c3d5_row9_col4, #T_5c3d5_row9_col5, #T_5c3d5_row9_col6, #T_5c3d5_row10_col0, #T_5c3d5_row10_col1, #T_5c3d5_row10_col2, #T_5c3d5_row10_col3, #T_5c3d5_row10_col4, #T_5c3d5_row10_col5, #T_5c3d5_row10_col6, #T_5c3d5_row11_col0, #T_5c3d5_row11_col1, #T_5c3d5_row11_col2, #T_5c3d5_row11_col3, #T_5c3d5_row11_col4, #T_5c3d5_row11_col5, #T_5c3d5_row11_col6, #T_5c3d5_row12_col0, #T_5c3d5_row12_col1, #T_5c3d5_row12_col2, #T_5c3d5_row12_col3, #T_5c3d5_row12_col4, #T_5c3d5_row12_col5, #T_5c3d5_row12_col6, #T_5c3d5_row13_col0, #T_5c3d5_row13_col1, #T_5c3d5_row13_col2, #T_5c3d5_row13_col3, #T_5c3d5_row13_col4, #T_5c3d5_row13_col5, #T_5c3d5_row13_col6, #T_5c3d5_row14_col0, #T_5c3d5_row14_col1, #T_5c3d5_row14_col2, #T_5c3d5_row14_col3, #T_5c3d5_row14_col4, #T_5c3d5_row14_col5, #T_5c3d5_row14_col6, #T_5c3d5_row15_col0, #T_5c3d5_row15_col1, #T_5c3d5_row15_col2, #T_5c3d5_row15_col3, #T_5c3d5_row15_col4, #T_5c3d5_row15_col5, #T_5c3d5_row15_col6, #T_5c3d5_row16_col0, #T_5c3d5_row16_col1, #T_5c3d5_row16_col2, #T_5c3d5_row16_col3, #T_5c3d5_row16_col4, #T_5c3d5_row16_col5, #T_5c3d5_row16_col6, #T_5c3d5_row17_col0, #T_5c3d5_row17_col1, #T_5c3d5_row17_col2, #T_5c3d5_row17_col3, #T_5c3d5_row17_col4, #T_5c3d5_row17_col5, #T_5c3d5_row17_col6, #T_5c3d5_row18_col0, #T_5c3d5_row18_col1, #T_5c3d5_row18_col2, #T_5c3d5_row18_col3, #T_5c3d5_row18_col4, #T_5c3d5_row18_col5, #T_5c3d5_row18_col6, #T_5c3d5_row19_col0, #T_5c3d5_row19_col1, #T_5c3d5_row19_col2, #T_5c3d5_row19_col3, #T_5c3d5_row19_col4, #T_5c3d5_row19_col5, #T_5c3d5_row19_col6 {\n",
       "  text-align: left;\n",
       "}\n",
       "#T_5c3d5_row0_col2, #T_5c3d5_row0_col3, #T_5c3d5_row0_col4, #T_5c3d5_row0_col5, #T_5c3d5_row1_col1, #T_5c3d5_row1_col6 {\n",
       "  text-align: left;\n",
       "  background-color: yellow;\n",
       "}\n",
       "#T_5c3d5_row0_col7, #T_5c3d5_row1_col7, #T_5c3d5_row2_col7, #T_5c3d5_row3_col7, #T_5c3d5_row4_col7, #T_5c3d5_row5_col7, #T_5c3d5_row6_col7, #T_5c3d5_row7_col7, #T_5c3d5_row8_col7, #T_5c3d5_row9_col7, #T_5c3d5_row10_col7, #T_5c3d5_row11_col7, #T_5c3d5_row12_col7, #T_5c3d5_row13_col7, #T_5c3d5_row14_col7, #T_5c3d5_row16_col7, #T_5c3d5_row17_col7, #T_5c3d5_row18_col7, #T_5c3d5_row19_col7 {\n",
       "  text-align: left;\n",
       "  background-color: lightgrey;\n",
       "}\n",
       "#T_5c3d5_row15_col7 {\n",
       "  text-align: left;\n",
       "  background-color: yellow;\n",
       "  background-color: lightgrey;\n",
       "}\n",
       "</style>\n",
       "<table id=\"T_5c3d5\">\n",
       "  <thead>\n",
       "    <tr>\n",
       "      <th class=\"blank level0\" >&nbsp;</th>\n",
       "      <th id=\"T_5c3d5_level0_col0\" class=\"col_heading level0 col0\" >Model</th>\n",
       "      <th id=\"T_5c3d5_level0_col1\" class=\"col_heading level0 col1\" >MAE</th>\n",
       "      <th id=\"T_5c3d5_level0_col2\" class=\"col_heading level0 col2\" >MSE</th>\n",
       "      <th id=\"T_5c3d5_level0_col3\" class=\"col_heading level0 col3\" >RMSE</th>\n",
       "      <th id=\"T_5c3d5_level0_col4\" class=\"col_heading level0 col4\" >R2</th>\n",
       "      <th id=\"T_5c3d5_level0_col5\" class=\"col_heading level0 col5\" >RMSLE</th>\n",
       "      <th id=\"T_5c3d5_level0_col6\" class=\"col_heading level0 col6\" >MAPE</th>\n",
       "      <th id=\"T_5c3d5_level0_col7\" class=\"col_heading level0 col7\" >TT (Sec)</th>\n",
       "    </tr>\n",
       "  </thead>\n",
       "  <tbody>\n",
       "    <tr>\n",
       "      <th id=\"T_5c3d5_level0_row0\" class=\"row_heading level0 row0\" >lightgbm</th>\n",
       "      <td id=\"T_5c3d5_row0_col0\" class=\"data row0 col0\" >Light Gradient Boosting Machine</td>\n",
       "      <td id=\"T_5c3d5_row0_col1\" class=\"data row0 col1\" >0.1949</td>\n",
       "      <td id=\"T_5c3d5_row0_col2\" class=\"data row0 col2\" >0.1590</td>\n",
       "      <td id=\"T_5c3d5_row0_col3\" class=\"data row0 col3\" >0.3983</td>\n",
       "      <td id=\"T_5c3d5_row0_col4\" class=\"data row0 col4\" >0.8699</td>\n",
       "      <td id=\"T_5c3d5_row0_col5\" class=\"data row0 col5\" >0.1683</td>\n",
       "      <td id=\"T_5c3d5_row0_col6\" class=\"data row0 col6\" >5298939284.5912</td>\n",
       "      <td id=\"T_5c3d5_row0_col7\" class=\"data row0 col7\" >0.3620</td>\n",
       "    </tr>\n",
       "    <tr>\n",
       "      <th id=\"T_5c3d5_level0_row1\" class=\"row_heading level0 row1\" >catboost</th>\n",
       "      <td id=\"T_5c3d5_row1_col0\" class=\"data row1 col0\" >CatBoost Regressor</td>\n",
       "      <td id=\"T_5c3d5_row1_col1\" class=\"data row1 col1\" >0.1878</td>\n",
       "      <td id=\"T_5c3d5_row1_col2\" class=\"data row1 col2\" >0.1740</td>\n",
       "      <td id=\"T_5c3d5_row1_col3\" class=\"data row1 col3\" >0.4157</td>\n",
       "      <td id=\"T_5c3d5_row1_col4\" class=\"data row1 col4\" >0.8561</td>\n",
       "      <td id=\"T_5c3d5_row1_col5\" class=\"data row1 col5\" >0.1712</td>\n",
       "      <td id=\"T_5c3d5_row1_col6\" class=\"data row1 col6\" >340023054.4339</td>\n",
       "      <td id=\"T_5c3d5_row1_col7\" class=\"data row1 col7\" >4.6620</td>\n",
       "    </tr>\n",
       "    <tr>\n",
       "      <th id=\"T_5c3d5_level0_row2\" class=\"row_heading level0 row2\" >rf</th>\n",
       "      <td id=\"T_5c3d5_row2_col0\" class=\"data row2 col0\" >Random Forest Regressor</td>\n",
       "      <td id=\"T_5c3d5_row2_col1\" class=\"data row2 col1\" >0.1982</td>\n",
       "      <td id=\"T_5c3d5_row2_col2\" class=\"data row2 col2\" >0.1919</td>\n",
       "      <td id=\"T_5c3d5_row2_col3\" class=\"data row2 col3\" >0.4369</td>\n",
       "      <td id=\"T_5c3d5_row2_col4\" class=\"data row2 col4\" >0.8429</td>\n",
       "      <td id=\"T_5c3d5_row2_col5\" class=\"data row2 col5\" >0.1808</td>\n",
       "      <td id=\"T_5c3d5_row2_col6\" class=\"data row2 col6\" >3244226853.4801</td>\n",
       "      <td id=\"T_5c3d5_row2_col7\" class=\"data row2 col7\" >1.8980</td>\n",
       "    </tr>\n",
       "    <tr>\n",
       "      <th id=\"T_5c3d5_level0_row3\" class=\"row_heading level0 row3\" >xgboost</th>\n",
       "      <td id=\"T_5c3d5_row3_col0\" class=\"data row3 col0\" >Extreme Gradient Boosting</td>\n",
       "      <td id=\"T_5c3d5_row3_col1\" class=\"data row3 col1\" >0.1964</td>\n",
       "      <td id=\"T_5c3d5_row3_col2\" class=\"data row3 col2\" >0.2045</td>\n",
       "      <td id=\"T_5c3d5_row3_col3\" class=\"data row3 col3\" >0.4500</td>\n",
       "      <td id=\"T_5c3d5_row3_col4\" class=\"data row3 col4\" >0.8308</td>\n",
       "      <td id=\"T_5c3d5_row3_col5\" class=\"data row3 col5\" >0.1814</td>\n",
       "      <td id=\"T_5c3d5_row3_col6\" class=\"data row3 col6\" >2790698418.2206</td>\n",
       "      <td id=\"T_5c3d5_row3_col7\" class=\"data row3 col7\" >0.4220</td>\n",
       "    </tr>\n",
       "    <tr>\n",
       "      <th id=\"T_5c3d5_level0_row4\" class=\"row_heading level0 row4\" >gbr</th>\n",
       "      <td id=\"T_5c3d5_row4_col0\" class=\"data row4 col0\" >Gradient Boosting Regressor</td>\n",
       "      <td id=\"T_5c3d5_row4_col1\" class=\"data row4 col1\" >0.2475</td>\n",
       "      <td id=\"T_5c3d5_row4_col2\" class=\"data row4 col2\" >0.2219</td>\n",
       "      <td id=\"T_5c3d5_row4_col3\" class=\"data row4 col3\" >0.4705</td>\n",
       "      <td id=\"T_5c3d5_row4_col4\" class=\"data row4 col4\" >0.8182</td>\n",
       "      <td id=\"T_5c3d5_row4_col5\" class=\"data row4 col5\" >0.2026</td>\n",
       "      <td id=\"T_5c3d5_row4_col6\" class=\"data row4 col6\" >8238406884.3511</td>\n",
       "      <td id=\"T_5c3d5_row4_col7\" class=\"data row4 col7\" >0.7100</td>\n",
       "    </tr>\n",
       "    <tr>\n",
       "      <th id=\"T_5c3d5_level0_row5\" class=\"row_heading level0 row5\" >et</th>\n",
       "      <td id=\"T_5c3d5_row5_col0\" class=\"data row5 col0\" >Extra Trees Regressor</td>\n",
       "      <td id=\"T_5c3d5_row5_col1\" class=\"data row5 col1\" >0.1879</td>\n",
       "      <td id=\"T_5c3d5_row5_col2\" class=\"data row5 col2\" >0.2257</td>\n",
       "      <td id=\"T_5c3d5_row5_col3\" class=\"data row5 col3\" >0.4728</td>\n",
       "      <td id=\"T_5c3d5_row5_col4\" class=\"data row5 col4\" >0.8160</td>\n",
       "      <td id=\"T_5c3d5_row5_col5\" class=\"data row5 col5\" >0.1844</td>\n",
       "      <td id=\"T_5c3d5_row5_col6\" class=\"data row5 col6\" >3037721568.0704</td>\n",
       "      <td id=\"T_5c3d5_row5_col7\" class=\"data row5 col7\" >1.2000</td>\n",
       "    </tr>\n",
       "    <tr>\n",
       "      <th id=\"T_5c3d5_level0_row6\" class=\"row_heading level0 row6\" >ridge</th>\n",
       "      <td id=\"T_5c3d5_row6_col0\" class=\"data row6 col0\" >Ridge Regression</td>\n",
       "      <td id=\"T_5c3d5_row6_col1\" class=\"data row6 col1\" >0.3831</td>\n",
       "      <td id=\"T_5c3d5_row6_col2\" class=\"data row6 col2\" >0.3584</td>\n",
       "      <td id=\"T_5c3d5_row6_col3\" class=\"data row6 col3\" >0.5979</td>\n",
       "      <td id=\"T_5c3d5_row6_col4\" class=\"data row6 col4\" >0.7074</td>\n",
       "      <td id=\"T_5c3d5_row6_col5\" class=\"data row6 col5\" >0.2573</td>\n",
       "      <td id=\"T_5c3d5_row6_col6\" class=\"data row6 col6\" >21186981092.2851</td>\n",
       "      <td id=\"T_5c3d5_row6_col7\" class=\"data row6 col7\" >0.1660</td>\n",
       "    </tr>\n",
       "    <tr>\n",
       "      <th id=\"T_5c3d5_level0_row7\" class=\"row_heading level0 row7\" >lr</th>\n",
       "      <td id=\"T_5c3d5_row7_col0\" class=\"data row7 col0\" >Linear Regression</td>\n",
       "      <td id=\"T_5c3d5_row7_col1\" class=\"data row7 col1\" >0.3844</td>\n",
       "      <td id=\"T_5c3d5_row7_col2\" class=\"data row7 col2\" >0.3588</td>\n",
       "      <td id=\"T_5c3d5_row7_col3\" class=\"data row7 col3\" >0.5983</td>\n",
       "      <td id=\"T_5c3d5_row7_col4\" class=\"data row7 col4\" >0.7071</td>\n",
       "      <td id=\"T_5c3d5_row7_col5\" class=\"data row7 col5\" >0.2576</td>\n",
       "      <td id=\"T_5c3d5_row7_col6\" class=\"data row7 col6\" >20039327767.5294</td>\n",
       "      <td id=\"T_5c3d5_row7_col7\" class=\"data row7 col7\" >3.2060</td>\n",
       "    </tr>\n",
       "    <tr>\n",
       "      <th id=\"T_5c3d5_level0_row8\" class=\"row_heading level0 row8\" >dt</th>\n",
       "      <td id=\"T_5c3d5_row8_col0\" class=\"data row8 col0\" >Decision Tree Regressor</td>\n",
       "      <td id=\"T_5c3d5_row8_col1\" class=\"data row8 col1\" >0.2573</td>\n",
       "      <td id=\"T_5c3d5_row8_col2\" class=\"data row8 col2\" >0.3598</td>\n",
       "      <td id=\"T_5c3d5_row8_col3\" class=\"data row8 col3\" >0.5953</td>\n",
       "      <td id=\"T_5c3d5_row8_col4\" class=\"data row8 col4\" >0.7067</td>\n",
       "      <td id=\"T_5c3d5_row8_col5\" class=\"data row8 col5\" >0.2312</td>\n",
       "      <td id=\"T_5c3d5_row8_col6\" class=\"data row8 col6\" >1900855440.5502</td>\n",
       "      <td id=\"T_5c3d5_row8_col7\" class=\"data row8 col7\" >0.2020</td>\n",
       "    </tr>\n",
       "    <tr>\n",
       "      <th id=\"T_5c3d5_level0_row9\" class=\"row_heading level0 row9\" >br</th>\n",
       "      <td id=\"T_5c3d5_row9_col0\" class=\"data row9 col0\" >Bayesian Ridge</td>\n",
       "      <td id=\"T_5c3d5_row9_col1\" class=\"data row9 col1\" >0.3820</td>\n",
       "      <td id=\"T_5c3d5_row9_col2\" class=\"data row9 col2\" >0.3615</td>\n",
       "      <td id=\"T_5c3d5_row9_col3\" class=\"data row9 col3\" >0.6004</td>\n",
       "      <td id=\"T_5c3d5_row9_col4\" class=\"data row9 col4\" >0.7051</td>\n",
       "      <td id=\"T_5c3d5_row9_col5\" class=\"data row9 col5\" >0.2570</td>\n",
       "      <td id=\"T_5c3d5_row9_col6\" class=\"data row9 col6\" >28102351281.8766</td>\n",
       "      <td id=\"T_5c3d5_row9_col7\" class=\"data row9 col7\" >0.1740</td>\n",
       "    </tr>\n",
       "    <tr>\n",
       "      <th id=\"T_5c3d5_level0_row10\" class=\"row_heading level0 row10\" >knn</th>\n",
       "      <td id=\"T_5c3d5_row10_col0\" class=\"data row10 col0\" >K Neighbors Regressor</td>\n",
       "      <td id=\"T_5c3d5_row10_col1\" class=\"data row10 col1\" >0.3564</td>\n",
       "      <td id=\"T_5c3d5_row10_col2\" class=\"data row10 col2\" >0.3778</td>\n",
       "      <td id=\"T_5c3d5_row10_col3\" class=\"data row10 col3\" >0.6137</td>\n",
       "      <td id=\"T_5c3d5_row10_col4\" class=\"data row10 col4\" >0.6933</td>\n",
       "      <td id=\"T_5c3d5_row10_col5\" class=\"data row10 col5\" >0.2680</td>\n",
       "      <td id=\"T_5c3d5_row10_col6\" class=\"data row10 col6\" >6046160927.8449</td>\n",
       "      <td id=\"T_5c3d5_row10_col7\" class=\"data row10 col7\" >0.1700</td>\n",
       "    </tr>\n",
       "    <tr>\n",
       "      <th id=\"T_5c3d5_level0_row11\" class=\"row_heading level0 row11\" >huber</th>\n",
       "      <td id=\"T_5c3d5_row11_col0\" class=\"data row11 col0\" >Huber Regressor</td>\n",
       "      <td id=\"T_5c3d5_row11_col1\" class=\"data row11 col1\" >0.4805</td>\n",
       "      <td id=\"T_5c3d5_row11_col2\" class=\"data row11 col2\" >0.5271</td>\n",
       "      <td id=\"T_5c3d5_row11_col3\" class=\"data row11 col3\" >0.7250</td>\n",
       "      <td id=\"T_5c3d5_row11_col4\" class=\"data row11 col4\" >0.5710</td>\n",
       "      <td id=\"T_5c3d5_row11_col5\" class=\"data row11 col5\" >0.2937</td>\n",
       "      <td id=\"T_5c3d5_row11_col6\" class=\"data row11 col6\" >15467068950.7630</td>\n",
       "      <td id=\"T_5c3d5_row11_col7\" class=\"data row11 col7\" >0.4040</td>\n",
       "    </tr>\n",
       "    <tr>\n",
       "      <th id=\"T_5c3d5_level0_row12\" class=\"row_heading level0 row12\" >en</th>\n",
       "      <td id=\"T_5c3d5_row12_col0\" class=\"data row12 col0\" >Elastic Net</td>\n",
       "      <td id=\"T_5c3d5_row12_col1\" class=\"data row12 col1\" >0.4831</td>\n",
       "      <td id=\"T_5c3d5_row12_col2\" class=\"data row12 col2\" >0.5314</td>\n",
       "      <td id=\"T_5c3d5_row12_col3\" class=\"data row12 col3\" >0.7279</td>\n",
       "      <td id=\"T_5c3d5_row12_col4\" class=\"data row12 col4\" >0.5677</td>\n",
       "      <td id=\"T_5c3d5_row12_col5\" class=\"data row12 col5\" >0.2994</td>\n",
       "      <td id=\"T_5c3d5_row12_col6\" class=\"data row12 col6\" >17681550566.4538</td>\n",
       "      <td id=\"T_5c3d5_row12_col7\" class=\"data row12 col7\" >0.2000</td>\n",
       "    </tr>\n",
       "    <tr>\n",
       "      <th id=\"T_5c3d5_level0_row13\" class=\"row_heading level0 row13\" >lasso</th>\n",
       "      <td id=\"T_5c3d5_row13_col0\" class=\"data row13 col0\" >Lasso Regression</td>\n",
       "      <td id=\"T_5c3d5_row13_col1\" class=\"data row13 col1\" >0.4915</td>\n",
       "      <td id=\"T_5c3d5_row13_col2\" class=\"data row13 col2\" >0.5461</td>\n",
       "      <td id=\"T_5c3d5_row13_col3\" class=\"data row13 col3\" >0.7379</td>\n",
       "      <td id=\"T_5c3d5_row13_col4\" class=\"data row13 col4\" >0.5556</td>\n",
       "      <td id=\"T_5c3d5_row13_col5\" class=\"data row13 col5\" >0.3043</td>\n",
       "      <td id=\"T_5c3d5_row13_col6\" class=\"data row13 col6\" >19851383631.7671</td>\n",
       "      <td id=\"T_5c3d5_row13_col7\" class=\"data row13 col7\" >2.2100</td>\n",
       "    </tr>\n",
       "    <tr>\n",
       "      <th id=\"T_5c3d5_level0_row14\" class=\"row_heading level0 row14\" >llar</th>\n",
       "      <td id=\"T_5c3d5_row14_col0\" class=\"data row14 col0\" >Lasso Least Angle Regression</td>\n",
       "      <td id=\"T_5c3d5_row14_col1\" class=\"data row14 col1\" >0.4915</td>\n",
       "      <td id=\"T_5c3d5_row14_col2\" class=\"data row14 col2\" >0.5461</td>\n",
       "      <td id=\"T_5c3d5_row14_col3\" class=\"data row14 col3\" >0.7379</td>\n",
       "      <td id=\"T_5c3d5_row14_col4\" class=\"data row14 col4\" >0.5556</td>\n",
       "      <td id=\"T_5c3d5_row14_col5\" class=\"data row14 col5\" >0.3043</td>\n",
       "      <td id=\"T_5c3d5_row14_col6\" class=\"data row14 col6\" >19861286121.3732</td>\n",
       "      <td id=\"T_5c3d5_row14_col7\" class=\"data row14 col7\" >0.1640</td>\n",
       "    </tr>\n",
       "    <tr>\n",
       "      <th id=\"T_5c3d5_level0_row15\" class=\"row_heading level0 row15\" >omp</th>\n",
       "      <td id=\"T_5c3d5_row15_col0\" class=\"data row15 col0\" >Orthogonal Matching Pursuit</td>\n",
       "      <td id=\"T_5c3d5_row15_col1\" class=\"data row15 col1\" >0.5002</td>\n",
       "      <td id=\"T_5c3d5_row15_col2\" class=\"data row15 col2\" >0.5537</td>\n",
       "      <td id=\"T_5c3d5_row15_col3\" class=\"data row15 col3\" >0.7434</td>\n",
       "      <td id=\"T_5c3d5_row15_col4\" class=\"data row15 col4\" >0.5489</td>\n",
       "      <td id=\"T_5c3d5_row15_col5\" class=\"data row15 col5\" >0.3036</td>\n",
       "      <td id=\"T_5c3d5_row15_col6\" class=\"data row15 col6\" >17715129578.7203</td>\n",
       "      <td id=\"T_5c3d5_row15_col7\" class=\"data row15 col7\" >0.1580</td>\n",
       "    </tr>\n",
       "    <tr>\n",
       "      <th id=\"T_5c3d5_level0_row16\" class=\"row_heading level0 row16\" >ada</th>\n",
       "      <td id=\"T_5c3d5_row16_col0\" class=\"data row16 col0\" >AdaBoost Regressor</td>\n",
       "      <td id=\"T_5c3d5_row16_col1\" class=\"data row16 col1\" >0.5783</td>\n",
       "      <td id=\"T_5c3d5_row16_col2\" class=\"data row16 col2\" >0.5579</td>\n",
       "      <td id=\"T_5c3d5_row16_col3\" class=\"data row16 col3\" >0.7456</td>\n",
       "      <td id=\"T_5c3d5_row16_col4\" class=\"data row16 col4\" >0.5393</td>\n",
       "      <td id=\"T_5c3d5_row16_col5\" class=\"data row16 col5\" >0.3532</td>\n",
       "      <td id=\"T_5c3d5_row16_col6\" class=\"data row16 col6\" >12672518485.9552</td>\n",
       "      <td id=\"T_5c3d5_row16_col7\" class=\"data row16 col7\" >0.4000</td>\n",
       "    </tr>\n",
       "    <tr>\n",
       "      <th id=\"T_5c3d5_level0_row17\" class=\"row_heading level0 row17\" >dummy</th>\n",
       "      <td id=\"T_5c3d5_row17_col0\" class=\"data row17 col0\" >Dummy Regressor</td>\n",
       "      <td id=\"T_5c3d5_row17_col1\" class=\"data row17 col1\" >0.7884</td>\n",
       "      <td id=\"T_5c3d5_row17_col2\" class=\"data row17 col2\" >1.2320</td>\n",
       "      <td id=\"T_5c3d5_row17_col3\" class=\"data row17 col3\" >1.1090</td>\n",
       "      <td id=\"T_5c3d5_row17_col4\" class=\"data row17 col4\" >-0.0019</td>\n",
       "      <td id=\"T_5c3d5_row17_col5\" class=\"data row17 col5\" >0.4438</td>\n",
       "      <td id=\"T_5c3d5_row17_col6\" class=\"data row17 col6\" >26764935215.8370</td>\n",
       "      <td id=\"T_5c3d5_row17_col7\" class=\"data row17 col7\" >0.2260</td>\n",
       "    </tr>\n",
       "    <tr>\n",
       "      <th id=\"T_5c3d5_level0_row18\" class=\"row_heading level0 row18\" >par</th>\n",
       "      <td id=\"T_5c3d5_row18_col0\" class=\"data row18 col0\" >Passive Aggressive Regressor</td>\n",
       "      <td id=\"T_5c3d5_row18_col1\" class=\"data row18 col1\" >0.8515</td>\n",
       "      <td id=\"T_5c3d5_row18_col2\" class=\"data row18 col2\" >1.3156</td>\n",
       "      <td id=\"T_5c3d5_row18_col3\" class=\"data row18 col3\" >1.1265</td>\n",
       "      <td id=\"T_5c3d5_row18_col4\" class=\"data row18 col4\" >-0.0703</td>\n",
       "      <td id=\"T_5c3d5_row18_col5\" class=\"data row18 col5\" >0.4666</td>\n",
       "      <td id=\"T_5c3d5_row18_col6\" class=\"data row18 col6\" >25899377331.3859</td>\n",
       "      <td id=\"T_5c3d5_row18_col7\" class=\"data row18 col7\" >0.1620</td>\n",
       "    </tr>\n",
       "    <tr>\n",
       "      <th id=\"T_5c3d5_level0_row19\" class=\"row_heading level0 row19\" >lar</th>\n",
       "      <td id=\"T_5c3d5_row19_col0\" class=\"data row19 col0\" >Least Angle Regression</td>\n",
       "      <td id=\"T_5c3d5_row19_col1\" class=\"data row19 col1\" >1716073492158.9263</td>\n",
       "      <td id=\"T_5c3d5_row19_col2\" class=\"data row19 col2\" >79032112639106313153937408.0000</td>\n",
       "      <td id=\"T_5c3d5_row19_col3\" class=\"data row19 col3\" >4288018295816.3960</td>\n",
       "      <td id=\"T_5c3d5_row19_col4\" class=\"data row19 col4\" >-67127944697826160756654080.0000</td>\n",
       "      <td id=\"T_5c3d5_row19_col5\" class=\"data row19 col5\" >19.8664</td>\n",
       "      <td id=\"T_5c3d5_row19_col6\" class=\"data row19 col6\" >10634617517389502464.0000</td>\n",
       "      <td id=\"T_5c3d5_row19_col7\" class=\"data row19 col7\" >0.1720</td>\n",
       "    </tr>\n",
       "  </tbody>\n",
       "</table>\n"
      ],
      "text/plain": [
       "<pandas.io.formats.style.Styler at 0x1e23f9322f0>"
      ]
     },
     "metadata": {},
     "output_type": "display_data"
    },
    {
     "data": {
      "text/html": [],
      "text/plain": [
       "<IPython.core.display.HTML object>"
      ]
     },
     "metadata": {},
     "output_type": "display_data"
    },
    {
     "data": {
      "text/html": [],
      "text/plain": [
       "<IPython.core.display.HTML object>"
      ]
     },
     "metadata": {},
     "output_type": "display_data"
    },
    {
     "data": {
      "text/html": [
       "<style type=\"text/css\">\n",
       "#T_d7874_row5_col0, #T_d7874_row5_col1, #T_d7874_row5_col2, #T_d7874_row5_col3, #T_d7874_row5_col4, #T_d7874_row5_col5 {\n",
       "  background: yellow;\n",
       "}\n",
       "</style>\n",
       "<table id=\"T_d7874\">\n",
       "  <thead>\n",
       "    <tr>\n",
       "      <th class=\"blank level0\" >&nbsp;</th>\n",
       "      <th id=\"T_d7874_level0_col0\" class=\"col_heading level0 col0\" >MAE</th>\n",
       "      <th id=\"T_d7874_level0_col1\" class=\"col_heading level0 col1\" >MSE</th>\n",
       "      <th id=\"T_d7874_level0_col2\" class=\"col_heading level0 col2\" >RMSE</th>\n",
       "      <th id=\"T_d7874_level0_col3\" class=\"col_heading level0 col3\" >R2</th>\n",
       "      <th id=\"T_d7874_level0_col4\" class=\"col_heading level0 col4\" >RMSLE</th>\n",
       "      <th id=\"T_d7874_level0_col5\" class=\"col_heading level0 col5\" >MAPE</th>\n",
       "    </tr>\n",
       "    <tr>\n",
       "      <th class=\"index_name level0\" >Fold</th>\n",
       "      <th class=\"blank col0\" >&nbsp;</th>\n",
       "      <th class=\"blank col1\" >&nbsp;</th>\n",
       "      <th class=\"blank col2\" >&nbsp;</th>\n",
       "      <th class=\"blank col3\" >&nbsp;</th>\n",
       "      <th class=\"blank col4\" >&nbsp;</th>\n",
       "      <th class=\"blank col5\" >&nbsp;</th>\n",
       "    </tr>\n",
       "  </thead>\n",
       "  <tbody>\n",
       "    <tr>\n",
       "      <th id=\"T_d7874_level0_row0\" class=\"row_heading level0 row0\" >0</th>\n",
       "      <td id=\"T_d7874_row0_col0\" class=\"data row0 col0\" >0.2610</td>\n",
       "      <td id=\"T_d7874_row0_col1\" class=\"data row0 col1\" >0.3225</td>\n",
       "      <td id=\"T_d7874_row0_col2\" class=\"data row0 col2\" >0.5679</td>\n",
       "      <td id=\"T_d7874_row0_col3\" class=\"data row0 col3\" >0.7615</td>\n",
       "      <td id=\"T_d7874_row0_col4\" class=\"data row0 col4\" >0.2212</td>\n",
       "      <td id=\"T_d7874_row0_col5\" class=\"data row0 col5\" >2.2291</td>\n",
       "    </tr>\n",
       "    <tr>\n",
       "      <th id=\"T_d7874_level0_row1\" class=\"row_heading level0 row1\" >1</th>\n",
       "      <td id=\"T_d7874_row1_col0\" class=\"data row1 col0\" >0.2760</td>\n",
       "      <td id=\"T_d7874_row1_col1\" class=\"data row1 col1\" >0.2259</td>\n",
       "      <td id=\"T_d7874_row1_col2\" class=\"data row1 col2\" >0.4753</td>\n",
       "      <td id=\"T_d7874_row1_col3\" class=\"data row1 col3\" >0.8211</td>\n",
       "      <td id=\"T_d7874_row1_col4\" class=\"data row1 col4\" >0.2218</td>\n",
       "      <td id=\"T_d7874_row1_col5\" class=\"data row1 col5\" >118.5528</td>\n",
       "    </tr>\n",
       "    <tr>\n",
       "      <th id=\"T_d7874_level0_row2\" class=\"row_heading level0 row2\" >2</th>\n",
       "      <td id=\"T_d7874_row2_col0\" class=\"data row2 col0\" >0.2734</td>\n",
       "      <td id=\"T_d7874_row2_col1\" class=\"data row2 col1\" >0.2700</td>\n",
       "      <td id=\"T_d7874_row2_col2\" class=\"data row2 col2\" >0.5196</td>\n",
       "      <td id=\"T_d7874_row2_col3\" class=\"data row2 col3\" >0.7705</td>\n",
       "      <td id=\"T_d7874_row2_col4\" class=\"data row2 col4\" >0.2327</td>\n",
       "      <td id=\"T_d7874_row2_col5\" class=\"data row2 col5\" >30.4158</td>\n",
       "    </tr>\n",
       "    <tr>\n",
       "      <th id=\"T_d7874_level0_row3\" class=\"row_heading level0 row3\" >3</th>\n",
       "      <td id=\"T_d7874_row3_col0\" class=\"data row3 col0\" >0.2791</td>\n",
       "      <td id=\"T_d7874_row3_col1\" class=\"data row3 col1\" >0.2488</td>\n",
       "      <td id=\"T_d7874_row3_col2\" class=\"data row3 col2\" >0.4988</td>\n",
       "      <td id=\"T_d7874_row3_col3\" class=\"data row3 col3\" >0.8064</td>\n",
       "      <td id=\"T_d7874_row3_col4\" class=\"data row3 col4\" >0.2169</td>\n",
       "      <td id=\"T_d7874_row3_col5\" class=\"data row3 col5\" >6.6024</td>\n",
       "    </tr>\n",
       "    <tr>\n",
       "      <th id=\"T_d7874_level0_row4\" class=\"row_heading level0 row4\" >4</th>\n",
       "      <td id=\"T_d7874_row4_col0\" class=\"data row4 col0\" >0.2697</td>\n",
       "      <td id=\"T_d7874_row4_col1\" class=\"data row4 col1\" >0.2240</td>\n",
       "      <td id=\"T_d7874_row4_col2\" class=\"data row4 col2\" >0.4733</td>\n",
       "      <td id=\"T_d7874_row4_col3\" class=\"data row4 col3\" >0.7909</td>\n",
       "      <td id=\"T_d7874_row4_col4\" class=\"data row4 col4\" >0.2182</td>\n",
       "      <td id=\"T_d7874_row4_col5\" class=\"data row4 col5\" >36758771840.5801</td>\n",
       "    </tr>\n",
       "    <tr>\n",
       "      <th id=\"T_d7874_level0_row5\" class=\"row_heading level0 row5\" >Mean</th>\n",
       "      <td id=\"T_d7874_row5_col0\" class=\"data row5 col0\" >0.2718</td>\n",
       "      <td id=\"T_d7874_row5_col1\" class=\"data row5 col1\" >0.2583</td>\n",
       "      <td id=\"T_d7874_row5_col2\" class=\"data row5 col2\" >0.5070</td>\n",
       "      <td id=\"T_d7874_row5_col3\" class=\"data row5 col3\" >0.7901</td>\n",
       "      <td id=\"T_d7874_row5_col4\" class=\"data row5 col4\" >0.2222</td>\n",
       "      <td id=\"T_d7874_row5_col5\" class=\"data row5 col5\" >7351754399.6760</td>\n",
       "    </tr>\n",
       "    <tr>\n",
       "      <th id=\"T_d7874_level0_row6\" class=\"row_heading level0 row6\" >Std</th>\n",
       "      <td id=\"T_d7874_row6_col0\" class=\"data row6 col0\" >0.0062</td>\n",
       "      <td id=\"T_d7874_row6_col1\" class=\"data row6 col1\" >0.0363</td>\n",
       "      <td id=\"T_d7874_row6_col2\" class=\"data row6 col2\" >0.0349</td>\n",
       "      <td id=\"T_d7874_row6_col3\" class=\"data row6 col3\" >0.0220</td>\n",
       "      <td id=\"T_d7874_row6_col4\" class=\"data row6 col4\" >0.0056</td>\n",
       "      <td id=\"T_d7874_row6_col5\" class=\"data row6 col5\" >14703508720.4520</td>\n",
       "    </tr>\n",
       "  </tbody>\n",
       "</table>\n"
      ],
      "text/plain": [
       "<pandas.io.formats.style.Styler at 0x1e25858b3a0>"
      ]
     },
     "metadata": {},
     "output_type": "display_data"
    },
    {
     "data": {
      "text/html": [],
      "text/plain": [
       "<IPython.core.display.HTML object>"
      ]
     },
     "metadata": {},
     "output_type": "display_data"
    },
    {
     "name": "stdout",
     "output_type": "stream",
     "text": [
      "Fitting 5 folds for each of 1 candidates, totalling 5 fits\n",
      "Fitting 5 folds for each of 1 candidates, totalling 5 fits\n",
      "Fitting 5 folds for each of 1 candidates, totalling 5 fits\n",
      "Fitting 5 folds for each of 1 candidates, totalling 5 fits\n",
      "Fitting 5 folds for each of 1 candidates, totalling 5 fits\n",
      "Fitting 5 folds for each of 1 candidates, totalling 5 fits\n",
      "Fitting 5 folds for each of 1 candidates, totalling 5 fits\n",
      "Fitting 5 folds for each of 1 candidates, totalling 5 fits\n",
      "Fitting 5 folds for each of 1 candidates, totalling 5 fits\n",
      "Fitting 5 folds for each of 1 candidates, totalling 5 fits\n",
      "Original model was better than the tuned model, hence it will be returned. NOTE: The display metrics are for the tuned model (not the original one).\n",
      "Transformation Pipeline and Model Successfully Saved\n",
      "Transformation Pipeline and Model Successfully Loaded\n"
     ]
    },
    {
     "data": {
      "text/html": [],
      "text/plain": [
       "<IPython.core.display.HTML object>"
      ]
     },
     "metadata": {},
     "output_type": "display_data"
    },
    {
     "name": "stdout",
     "output_type": "stream",
     "text": [
      "Prediction list size: (840,)\n",
      "Prediction list size: (840,)\n"
     ]
    }
   ],
   "source": [
    "from pycaret.regression import get_config\n",
    "# Setup\n",
    "regression_setup = setup(\n",
    "    data=model_data_clean,\n",
    "    target='target',\n",
    "    session_id=123,\n",
    "    fold=5,\n",
    "    train_size=0.8,\n",
    "    n_jobs=-1,\n",
    "    remove_multicollinearity=True,\n",
    "    multicollinearity_threshold=0.9,\n",
    "    verbose=False,\n",
    "    #remove_outliers=True,\n",
    "    #outliers_threshold=0.05\n",
    "    )\n",
    "\n",
    "# Compare, Tune, Finalize \n",
    "best_model = compare_models(sort='R2', n_select=3)\n",
    "# Save R2 leaderboard\n",
    "leaderboard_r2 = pull()[['Model', 'R2', 'MAE']].head(3)\n",
    "\n",
    "tuned_model = tune_model(best_model[0], optimize='R2', search_library='scikit-optimize')\n",
    "final_model = finalize_model(tuned_model)\n",
    "\n",
    "# Save : final_model used the metric R2.\n",
    "save_model(final_model, 'formation_energy_final_model')\n",
    "\n",
    "# Load the saved model\n",
    "model = load_model('formation_energy_final_model')\n",
    "\n",
    "# Retrieve holdout set\n",
    "X_test = get_config('X_test')\n",
    "y_test = get_config('y_test')\n",
    "X_train = get_config('X_train')\n",
    "y_train = get_config('y_train')\n",
    "\n",
    "\n",
    "# Get predictions using the final model\n",
    "predictions_df = predict_model(model, data=X_test)\n",
    "\n",
    "# The predictions are in the 'Label' column\n",
    "y_pred = predictions_df['prediction_label']\n",
    "y_pred.head()\n",
    "print(\"Prediction list size:\",  y_pred.shape)\n",
    "print(\"Prediction list size:\",  y_test.shape)"
   ]
  },
  {
   "cell_type": "markdown",
   "id": "a54d91f3",
   "metadata": {},
   "source": [
    "*1. Evaluation Metric: Mean Absolute Error*"
   ]
  },
  {
   "cell_type": "code",
   "execution_count": 33,
   "id": "3d6d0c58",
   "metadata": {},
   "outputs": [
    {
     "name": "stdout",
     "output_type": "stream",
     "text": [
      "Corrected MAPE_MAE: 359.75%\n",
      "MAE_MAE: 0.0896\n",
      "RMSE_MAE: 0.1655\n",
      "R2 Score_MAE: 0.9753\n"
     ]
    }
   ],
   "source": [
    "from sklearn.metrics import mean_absolute_error, root_mean_squared_error, r2_score\n",
    "\n",
    "def safe_mape(y_true, y_pred):\n",
    "    y_true, y_pred = np.array(y_true), np.array(y_pred)\n",
    "    mask = y_true != 0  # avoid division by zero\n",
    "    return np.mean(np.abs((y_true[mask] - y_pred[mask]) / y_true[mask])) * 100\n",
    "\n",
    "corrected_mape_mae = safe_mape(y_test_mae, y_pred_mae)\n",
    "# Calculate other metrics\n",
    "mae_mae = mean_absolute_error(y_test_mae, y_pred_mae)\n",
    "rmse_mae = root_mean_squared_error(y_test_mae, y_pred_mae)\n",
    "r2_mae = r2_score(y_test_mae, y_pred_mae)\n",
    "\n",
    "print(f\"Corrected MAPE_MAE: {corrected_mape_mae:.2f}%\")\n",
    "print(f\"MAE_MAE: {mae_mae:.4f}\")\n",
    "print(f\"RMSE_MAE: {rmse_mae:.4f}\")\n",
    "print(f\"R2 Score_MAE: {r2_mae:.4f}\")"
   ]
  },
  {
   "cell_type": "markdown",
   "id": "d5b9981c",
   "metadata": {},
   "source": [
    "2. evaluation: Metric- R2"
   ]
  },
  {
   "cell_type": "code",
   "execution_count": 34,
   "id": "67cabc7b",
   "metadata": {},
   "outputs": [
    {
     "name": "stdout",
     "output_type": "stream",
     "text": [
      "Corrected MAPE: 381.83%\n",
      "MAE: 0.1100\n",
      "RMSE: 0.2274\n",
      "R2 Score: 0.9534\n"
     ]
    }
   ],
   "source": [
    "corrected_mape = safe_mape(y_test, y_pred)\n",
    "# Calculate other metrics\n",
    "mae = mean_absolute_error(y_test, y_pred)\n",
    "rmse = root_mean_squared_error(y_test, y_pred)\n",
    "r2 = r2_score(y_test, y_pred)\n",
    "\n",
    "print(f\"Corrected MAPE: {corrected_mape:.2f}%\")\n",
    "print(f\"MAE: {mae:.4f}\")\n",
    "print(f\"RMSE: {rmse:.4f}\")\n",
    "print(f\"R2 Score: {r2:.4f}\")\n"
   ]
  },
  {
   "cell_type": "markdown",
   "id": "be489181",
   "metadata": {},
   "source": [
    "# Model Analysis\n",
    "https://pycaret.gitbook.io/docs/get-started/quickstart#regression"
   ]
  },
  {
   "cell_type": "markdown",
   "id": "e366d9bc",
   "metadata": {},
   "source": [
    "1. Sort: MAE"
   ]
  },
  {
   "cell_type": "code",
   "execution_count": null,
   "id": "619fbad1",
   "metadata": {},
   "outputs": [
    {
     "data": {
      "application/vnd.jupyter.widget-view+json": {
       "model_id": "3d0c79d7fd474dda9f81a245c5f96287",
       "version_major": 2,
       "version_minor": 0
      },
      "text/plain": [
       "interactive(children=(ToggleButtons(description='Plot Type:', icons=('',), options=(('Pipeline Plot', 'pipelin…"
      ]
     },
     "metadata": {},
     "output_type": "display_data"
    },
    {
     "name": "stdout",
     "output_type": "stream",
     "text": [
      "[<catboost.core.CatBoostRegressor object at 0x000001E24BA98670>, ExtraTreesRegressor(n_jobs=-1, random_state=123), LGBMRegressor(n_jobs=-1, random_state=123)]\n",
      "                    Description             Value\n",
      "0                    Session id               123\n",
      "1                        Target            target\n",
      "2                   Target type        Regression\n",
      "3           Original data shape       (4200, 147)\n",
      "4        Transformed data shape        (4200, 94)\n",
      "5   Transformed train set shape        (3360, 94)\n",
      "6    Transformed test set shape         (840, 94)\n",
      "7              Numeric features               139\n",
      "8                    Preprocess              True\n",
      "9               Imputation type            simple\n",
      "10           Numeric imputation              mean\n",
      "11       Categorical imputation              mode\n",
      "12     Remove multicollinearity              True\n",
      "13  Multicollinearity threshold               0.9\n",
      "14               Fold Generator             KFold\n",
      "15                  Fold Number                 5\n",
      "16                     CPU Jobs                -1\n",
      "17                      Use GPU             False\n",
      "18               Log Experiment             False\n",
      "19              Experiment Name  reg-default-name\n",
      "20                          USI              b2b9\n"
     ]
    },
    {
     "data": {
      "text/plain": [
       "<Figure size 800x550 with 0 Axes>"
      ]
     },
     "metadata": {},
     "output_type": "display_data"
    }
   ],
   "source": [
    "from pycaret.regression import evaluate_model\n",
    "from pycaret.regression import pull\n",
    "# Setup\n",
    "regression_setup_mae = setup(\n",
    "    data=model_data_clean,\n",
    "    target='target',\n",
    "    session_id=123,\n",
    "    fold=5,\n",
    "    train_size=0.8,\n",
    "    n_jobs=-1,\n",
    "    verbose=False,\n",
    "    remove_multicollinearity=True,\n",
    "    multicollinearity_threshold=0.9,\n",
    "    #remove_outliers=True,\n",
    "    #outliers_threshold=0.05\n",
    ")\n",
    "evaluate_model(model_mae)\n",
    "print(best_model_mae)\n",
    "\n",
    "# Use pull() after evaluate_model or plot_model to grab the results\n",
    "summary_df_mae = pull()\n",
    "print(summary_df_mae)"
   ]
  },
  {
   "cell_type": "markdown",
   "id": "c2901516",
   "metadata": {},
   "source": [
    "2. Sort: R2"
   ]
  },
  {
   "cell_type": "code",
   "execution_count": null,
   "id": "aa5d93e8",
   "metadata": {},
   "outputs": [
    {
     "data": {
      "application/vnd.jupyter.widget-view+json": {
       "model_id": "1c19cb81e84b4983a7e26c5deb2cca29",
       "version_major": 2,
       "version_minor": 0
      },
      "text/plain": [
       "interactive(children=(ToggleButtons(description='Plot Type:', icons=('',), options=(('Pipeline Plot', 'pipelin…"
      ]
     },
     "metadata": {},
     "output_type": "display_data"
    },
    {
     "name": "stdout",
     "output_type": "stream",
     "text": [
      "[LGBMRegressor(n_jobs=-1, random_state=123), <catboost.core.CatBoostRegressor object at 0x000001E249050CD0>, RandomForestRegressor(n_jobs=-1, random_state=123)]\n",
      "                    Description             Value\n",
      "0                    Session id               123\n",
      "1                        Target            target\n",
      "2                   Target type        Regression\n",
      "3           Original data shape       (4200, 147)\n",
      "4        Transformed data shape        (4200, 94)\n",
      "5   Transformed train set shape        (3360, 94)\n",
      "6    Transformed test set shape         (840, 94)\n",
      "7              Numeric features               139\n",
      "8                    Preprocess              True\n",
      "9               Imputation type            simple\n",
      "10           Numeric imputation              mean\n",
      "11       Categorical imputation              mode\n",
      "12     Remove multicollinearity              True\n",
      "13  Multicollinearity threshold               0.9\n",
      "14               Fold Generator             KFold\n",
      "15                  Fold Number                 5\n",
      "16                     CPU Jobs                -1\n",
      "17                      Use GPU             False\n",
      "18               Log Experiment             False\n",
      "19              Experiment Name  reg-default-name\n",
      "20                          USI              6afd\n"
     ]
    }
   ],
   "source": [
    "# Setup\n",
    "regression_setup = setup(\n",
    "    data=model_data_clean,\n",
    "    target='target',\n",
    "    session_id=123,\n",
    "    fold=5,\n",
    "    train_size=0.8,\n",
    "    n_jobs=-1,\n",
    "    remove_multicollinearity=True,\n",
    "    multicollinearity_threshold=0.9,\n",
    "    verbose=False,\n",
    "    #remove_outliers=True,\n",
    "    #outliers_threshold=0.05\n",
    "    )\n",
    "\n",
    "evaluate_model(model)\n",
    "print(best_model)\n",
    "\n",
    "# Use pull() after evaluate_model or plot_model to grab the results\n",
    "summary_df = pull()\n",
    "print(summary_df)"
   ]
  },
  {
   "cell_type": "code",
   "execution_count": 41,
   "id": "8fc7efff",
   "metadata": {},
   "outputs": [
    {
     "name": "stdout",
     "output_type": "stream",
     "text": [
      "Columns in leaderboard_r2:\n",
      "Index(['Model', 'R2', 'MAE'], dtype='object')\n",
      "\n",
      "Columns in leaderboard_mae:\n",
      "Index(['Model', 'MAE', 'R2'], dtype='object')\n"
     ]
    }
   ],
   "source": [
    "print(\"Columns in leaderboard_r2:\")\n",
    "print(leaderboard_r2.columns)\n",
    "\n",
    "print(\"\\nColumns in leaderboard_mae:\")\n",
    "print(leaderboard_mae.columns)"
   ]
  },
  {
   "cell_type": "code",
   "execution_count": 43,
   "id": "85899341",
   "metadata": {},
   "outputs": [
    {
     "data": {
      "image/png": "[encoded data removed]",
      "text/plain": [
       "<Figure size 1200x600 with 1 Axes>"
      ]
     },
     "metadata": {},
     "output_type": "display_data"
    }
   ],
   "source": [
    "import matplotlib.pyplot as plt\n",
    "import pandas as pd\n",
    "\n",
    "# Tag each model group by its selection metric\n",
    "leaderboard_mae_grouped = leaderboard_mae[['Model', 'R2', 'MAE']].head(3).copy()\n",
    "leaderboard_mae_grouped['Group'] = 'Top 3 by MAE'\n",
    "\n",
    "leaderboard_r2_grouped = leaderboard_r2[['Model', 'R2', 'MAE']].head(3).copy()\n",
    "leaderboard_r2_grouped['Group'] = 'Top 3 by R2'\n",
    "\n",
    "# Combine and reset index\n",
    "combined_df = pd.concat([leaderboard_mae_grouped, leaderboard_r2_grouped], ignore_index=True)\n",
    "\n",
    "# To avoid duplicate model labels (if overlap), add source label\n",
    "combined_df['Model_Label'] = combined_df['Model'] + \" (\" + combined_df['Group'] + \")\"\n",
    "\n",
    "# Plot settings\n",
    "bar_width = 0.35\n",
    "x_indexes = range(len(combined_df))\n",
    "\n",
    "plt.figure(figsize=(12, 6))\n",
    "\n",
    "# Plot bars\n",
    "r2_bars = plt.bar([i - bar_width/2 for i in x_indexes], combined_df['R2'], width=bar_width, label='R2')\n",
    "mae_bars = plt.bar([i + bar_width/2 for i in x_indexes], combined_df['MAE'], width=bar_width, label='MAE')\n",
    "\n",
    "# Labels and layout\n",
    "plt.xlabel(\"Model (Grouped by Sort Criterion)\")\n",
    "plt.ylabel(\"Score\")\n",
    "plt.title(\"Top 3 Models by MAE and R2 — with Both Metrics\")\n",
    "plt.xticks(ticks=x_indexes, labels=combined_df['Model_Label'], rotation=45, ha='right')\n",
    "plt.legend()\n",
    "\n",
    "# Annotate bars\n",
    "for bars in [r2_bars, mae_bars]:\n",
    "    for bar in bars:\n",
    "        height = bar.get_height()\n",
    "        if pd.notnull(height):\n",
    "            plt.text(bar.get_x() + bar.get_width()/2, height, f'{height:.3f}', ha='center', va='bottom')\n",
    "\n",
    "plt.tight_layout()\n",
    "plt.show()"
   ]
  }
 ],
 "metadata": {
  "kernelspec": {
   "display_name": "formation_env",
   "language": "python",
   "name": "python3"
  },
  "language_info": {
   "codemirror_mode": {
    "name": "ipython",
    "version": 3
   },
   "file_extension": ".py",
   "mimetype": "text/x-python",
   "name": "python",
   "nbconvert_exporter": "python",
   "pygments_lexer": "ipython3",
   "version": "3.10.16"
  }
 },
 "nbformat": 4,
 "nbformat_minor": 5
}
